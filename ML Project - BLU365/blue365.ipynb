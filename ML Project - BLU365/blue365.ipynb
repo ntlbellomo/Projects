{
 "cells": [
  {
   "cell_type": "markdown",
   "metadata": {},
   "source": [
    "**Introdução**\n",
    "\n",
    "Nesse case vamos trabalhar com um dataset para classificação binária com desbalanceamento de dados.<br>\n",
    "Há uma grande discrepância entre a quantidade de 0 e 1 em nossas variáveis targets.<br>\n",
    "Um algoritmo que escolhe sempre zero terá uma alta accuracy, mas não resolve nosso problema.<br>\n",
    "Temos a estratégia de oversampling, undersampling ou SMOTE (basicamente fabricar artificialmente novas entradas com KNN) para solucionar essa dificuldade.<br>\n",
    "Vamos explorar o dataset com EDA para atacar o problema, vamos tratar os dados, modelar, validar nosso modelo e fazer uma previsão."
   ]
  },
  {
   "cell_type": "markdown",
   "metadata": {},
   "source": [
    "# BLU365\n",
    "\n",
    "## Sobre a BLU365\n",
    "\n",
    "A BLU365 é uma plataforma de negociação fácil, intuitiva e digital para seus clientes renegociarem suas dívidas e ficarem no azul.\n",
    "\n",
    "Com atuação em diferentes segmentos e indústrias, a BLU365 já efetivou milhares de negociações online, sempre buscando entender o perfil de cada cliente antes de propor uma negociação. Garantindo assim, uma maior eficiência operacional e efetividade em resultados.\n",
    "\n",
    "## Como funciona\n",
    "\n",
    "O cliente que possui uma dívida com uma empresa parceira recebe um SMS convidando-o a entrar na plataforma da BLU365 para renegociar sua dívida. Periodicamente outros SMS sao enviados relembrando e incentivando o cliente a acessar a plataforma. \n",
    "\n",
    "## Sobre os dados\n",
    "\n",
    "Os dados consistem  de um arquivo de 60MB em .xslx em duas páginas. Na pagina1 se encontram os dados em si, e na página2 está a descrições das colunas do dataset. Para cada cliente é gravado no dataset o histórico dos SMS enviados, o valor da divida, a quantidade de acesso à plataforma e o perfil do cliente.\n",
    "\n",
    "## Objetivo\n",
    "\n",
    "Desejamos escolher uma estratégia para escolher para quem devemos mandar os sms para estimular o acesso à plataforma e o fechamento de acordos. Para isso vamos nos utilizar das ferramentas de Data Science e Machine Learning para prever e otimizar o envio dos SMS."
   ]
  },
  {
   "cell_type": "code",
   "execution_count": 1,
   "metadata": {},
   "outputs": [],
   "source": [
    "#importing the libraries\n",
    "import numpy as np\n",
    "import pandas as pd\n",
    "from datetime import datetime, timedelta,date\n",
    "\n",
    "from sklearn.metrics import mean_absolute_error\n",
    "from sklearn.model_selection import train_test_split\n",
    "from sklearn.metrics import classification_report,confusion_matrix\n",
    "\n",
    "# data visualization\n",
    "import seaborn as sns\n",
    "sns.set(style=\"white\")\n",
    "%matplotlib inline\n",
    "from matplotlib import pyplot as plt\n",
    "from matplotlib import style\n",
    "\n",
    "import warnings\n",
    "warnings.filterwarnings('ignore')"
   ]
  },
  {
   "cell_type": "markdown",
   "metadata": {},
   "source": [
    "**Getting the data**"
   ]
  },
  {
   "cell_type": "code",
   "execution_count": 2,
   "metadata": {},
   "outputs": [],
   "source": [
    "#setting to see full non-truncated df\n",
    "pd.set_option('display.max_columns', None) \n",
    "data = pd.read_csv(\"dataset/dataset_estudodecaso.csv\")\n",
    "data_raw= data"
   ]
  },
  {
   "cell_type": "markdown",
   "metadata": {},
   "source": [
    "## Exploratory Data Analysis - EDA"
   ]
  },
  {
   "cell_type": "markdown",
   "metadata": {},
   "source": [
    "**Looking at the data**"
   ]
  },
  {
   "cell_type": "code",
   "execution_count": 3,
   "metadata": {},
   "outputs": [
    {
     "data": {
      "text/html": [
       "<div>\n",
       "<style scoped>\n",
       "    .dataframe tbody tr th:only-of-type {\n",
       "        vertical-align: middle;\n",
       "    }\n",
       "\n",
       "    .dataframe tbody tr th {\n",
       "        vertical-align: top;\n",
       "    }\n",
       "\n",
       "    .dataframe thead th {\n",
       "        text-align: right;\n",
       "    }\n",
       "</style>\n",
       "<table border=\"1\" class=\"dataframe\">\n",
       "  <thead>\n",
       "    <tr style=\"text-align: right;\">\n",
       "      <th></th>\n",
       "      <th>datadisparo</th>\n",
       "      <th>ddd</th>\n",
       "      <th>sms_entregue</th>\n",
       "      <th>sms_enviado</th>\n",
       "      <th>sms_naoentregue</th>\n",
       "      <th>sms_rejeitado</th>\n",
       "      <th>sms_invalido</th>\n",
       "      <th>data_atraso</th>\n",
       "      <th>valor</th>\n",
       "      <th>operadora</th>\n",
       "      <th>qtd_hist_acessos</th>\n",
       "      <th>data_maisrecente_acesso</th>\n",
       "      <th>data_maisantiga_acesso</th>\n",
       "      <th>sms_total_tent</th>\n",
       "      <th>idade</th>\n",
       "      <th>genero</th>\n",
       "      <th>compradoronline</th>\n",
       "      <th>vendedoronline</th>\n",
       "      <th>utilizacaoweb</th>\n",
       "      <th>rendaestimada</th>\n",
       "      <th>acesso</th>\n",
       "      <th>acordo</th>\n",
       "    </tr>\n",
       "  </thead>\n",
       "  <tbody>\n",
       "    <tr>\n",
       "      <th>0</th>\n",
       "      <td>19/5/2020</td>\n",
       "      <td>62</td>\n",
       "      <td>0</td>\n",
       "      <td>0</td>\n",
       "      <td>0</td>\n",
       "      <td>0</td>\n",
       "      <td>0</td>\n",
       "      <td>24/5/2019</td>\n",
       "      <td>126,21</td>\n",
       "      <td>Claro</td>\n",
       "      <td>0</td>\n",
       "      <td>NaN</td>\n",
       "      <td>NaN</td>\n",
       "      <td>0</td>\n",
       "      <td>22.0</td>\n",
       "      <td>M</td>\n",
       "      <td>H</td>\n",
       "      <td>H</td>\n",
       "      <td>H</td>\n",
       "      <td>NaN</td>\n",
       "      <td>0</td>\n",
       "      <td>0</td>\n",
       "    </tr>\n",
       "    <tr>\n",
       "      <th>1</th>\n",
       "      <td>27/4/2020</td>\n",
       "      <td>67</td>\n",
       "      <td>3</td>\n",
       "      <td>0</td>\n",
       "      <td>0</td>\n",
       "      <td>0</td>\n",
       "      <td>0</td>\n",
       "      <td>14/4/2017</td>\n",
       "      <td>244,29</td>\n",
       "      <td>Vivo</td>\n",
       "      <td>0</td>\n",
       "      <td>NaN</td>\n",
       "      <td>NaN</td>\n",
       "      <td>3</td>\n",
       "      <td>56.0</td>\n",
       "      <td>F</td>\n",
       "      <td>D</td>\n",
       "      <td>H</td>\n",
       "      <td>D</td>\n",
       "      <td>ATE 2 SM</td>\n",
       "      <td>0</td>\n",
       "      <td>0</td>\n",
       "    </tr>\n",
       "    <tr>\n",
       "      <th>2</th>\n",
       "      <td>14/5/2020</td>\n",
       "      <td>51</td>\n",
       "      <td>1</td>\n",
       "      <td>0</td>\n",
       "      <td>0</td>\n",
       "      <td>0</td>\n",
       "      <td>0</td>\n",
       "      <td>4/9/2019</td>\n",
       "      <td>51</td>\n",
       "      <td>Claro</td>\n",
       "      <td>0</td>\n",
       "      <td>NaN</td>\n",
       "      <td>NaN</td>\n",
       "      <td>1</td>\n",
       "      <td>45.0</td>\n",
       "      <td>M</td>\n",
       "      <td>B</td>\n",
       "      <td>H</td>\n",
       "      <td>B</td>\n",
       "      <td>ATE 2 SM</td>\n",
       "      <td>0</td>\n",
       "      <td>0</td>\n",
       "    </tr>\n",
       "    <tr>\n",
       "      <th>3</th>\n",
       "      <td>13/5/2020</td>\n",
       "      <td>51</td>\n",
       "      <td>0</td>\n",
       "      <td>0</td>\n",
       "      <td>0</td>\n",
       "      <td>0</td>\n",
       "      <td>0</td>\n",
       "      <td>14/11/2019</td>\n",
       "      <td>307,909999999999</td>\n",
       "      <td>Tim</td>\n",
       "      <td>0</td>\n",
       "      <td>NaN</td>\n",
       "      <td>NaN</td>\n",
       "      <td>0</td>\n",
       "      <td>35.0</td>\n",
       "      <td>F</td>\n",
       "      <td>B</td>\n",
       "      <td>H</td>\n",
       "      <td>B</td>\n",
       "      <td>4 A 10 SM</td>\n",
       "      <td>0</td>\n",
       "      <td>0</td>\n",
       "    </tr>\n",
       "    <tr>\n",
       "      <th>4</th>\n",
       "      <td>25/5/2020</td>\n",
       "      <td>62</td>\n",
       "      <td>0</td>\n",
       "      <td>0</td>\n",
       "      <td>12</td>\n",
       "      <td>0</td>\n",
       "      <td>0</td>\n",
       "      <td>14/3/2017</td>\n",
       "      <td>154,119999999999</td>\n",
       "      <td>Tim</td>\n",
       "      <td>0</td>\n",
       "      <td>NaN</td>\n",
       "      <td>NaN</td>\n",
       "      <td>12</td>\n",
       "      <td>43.0</td>\n",
       "      <td>F</td>\n",
       "      <td>A</td>\n",
       "      <td>H</td>\n",
       "      <td>A</td>\n",
       "      <td>NaN</td>\n",
       "      <td>0</td>\n",
       "      <td>0</td>\n",
       "    </tr>\n",
       "  </tbody>\n",
       "</table>\n",
       "</div>"
      ],
      "text/plain": [
       "  datadisparo  ddd  sms_entregue  sms_enviado  sms_naoentregue  sms_rejeitado  \\\n",
       "0   19/5/2020   62             0            0                0              0   \n",
       "1   27/4/2020   67             3            0                0              0   \n",
       "2   14/5/2020   51             1            0                0              0   \n",
       "3   13/5/2020   51             0            0                0              0   \n",
       "4   25/5/2020   62             0            0               12              0   \n",
       "\n",
       "   sms_invalido data_atraso             valor operadora  qtd_hist_acessos  \\\n",
       "0             0   24/5/2019            126,21     Claro                 0   \n",
       "1             0   14/4/2017            244,29      Vivo                 0   \n",
       "2             0    4/9/2019                51     Claro                 0   \n",
       "3             0  14/11/2019  307,909999999999       Tim                 0   \n",
       "4             0   14/3/2017  154,119999999999       Tim                 0   \n",
       "\n",
       "  data_maisrecente_acesso data_maisantiga_acesso  sms_total_tent  idade  \\\n",
       "0                     NaN                    NaN               0   22.0   \n",
       "1                     NaN                    NaN               3   56.0   \n",
       "2                     NaN                    NaN               1   45.0   \n",
       "3                     NaN                    NaN               0   35.0   \n",
       "4                     NaN                    NaN              12   43.0   \n",
       "\n",
       "  genero compradoronline vendedoronline utilizacaoweb rendaestimada  acesso  \\\n",
       "0      M               H              H             H           NaN       0   \n",
       "1      F               D              H             D      ATE 2 SM       0   \n",
       "2      M               B              H             B      ATE 2 SM       0   \n",
       "3      F               B              H             B     4 A 10 SM       0   \n",
       "4      F               A              H             A           NaN       0   \n",
       "\n",
       "   acordo  \n",
       "0       0  \n",
       "1       0  \n",
       "2       0  \n",
       "3       0  \n",
       "4       0  "
      ]
     },
     "execution_count": 3,
     "metadata": {},
     "output_type": "execute_result"
    }
   ],
   "source": [
    "data.head()"
   ]
  },
  {
   "cell_type": "code",
   "execution_count": 4,
   "metadata": {},
   "outputs": [
    {
     "name": "stdout",
     "output_type": "stream",
     "text": [
      "<class 'pandas.core.frame.DataFrame'>\n",
      "RangeIndex: 686383 entries, 0 to 686382\n",
      "Data columns (total 22 columns):\n",
      " #   Column                   Non-Null Count   Dtype  \n",
      "---  ------                   --------------   -----  \n",
      " 0   datadisparo              686383 non-null  object \n",
      " 1   ddd                      686383 non-null  int64  \n",
      " 2   sms_entregue             686383 non-null  int64  \n",
      " 3   sms_enviado              686383 non-null  int64  \n",
      " 4   sms_naoentregue          686383 non-null  int64  \n",
      " 5   sms_rejeitado            686383 non-null  int64  \n",
      " 6   sms_invalido             686383 non-null  int64  \n",
      " 7   data_atraso              686383 non-null  object \n",
      " 8   valor                    686383 non-null  object \n",
      " 9   operadora                686383 non-null  object \n",
      " 10  qtd_hist_acessos         686383 non-null  int64  \n",
      " 11  data_maisrecente_acesso  77512 non-null   object \n",
      " 12  data_maisantiga_acesso   77512 non-null   object \n",
      " 13  sms_total_tent           686383 non-null  int64  \n",
      " 14  idade                    684648 non-null  float64\n",
      " 15  genero                   684650 non-null  object \n",
      " 16  compradoronline          684650 non-null  object \n",
      " 17  vendedoronline           684650 non-null  object \n",
      " 18  utilizacaoweb            684650 non-null  object \n",
      " 19  rendaestimada            520483 non-null  object \n",
      " 20  acesso                   686383 non-null  int64  \n",
      " 21  acordo                   686383 non-null  int64  \n",
      "dtypes: float64(1), int64(10), object(11)\n",
      "memory usage: 115.2+ MB\n"
     ]
    }
   ],
   "source": [
    "data.info()"
   ]
  },
  {
   "cell_type": "code",
   "execution_count": 5,
   "metadata": {},
   "outputs": [
    {
     "data": {
      "text/plain": [
       "Index(['datadisparo', 'ddd', 'sms_entregue', 'sms_enviado', 'sms_naoentregue',\n",
       "       'sms_rejeitado', 'sms_invalido', 'data_atraso', 'valor', 'operadora',\n",
       "       'qtd_hist_acessos', 'data_maisrecente_acesso', 'data_maisantiga_acesso',\n",
       "       'sms_total_tent', 'idade', 'genero', 'compradoronline',\n",
       "       'vendedoronline', 'utilizacaoweb', 'rendaestimada', 'acesso', 'acordo'],\n",
       "      dtype='object')"
      ]
     },
     "execution_count": 5,
     "metadata": {},
     "output_type": "execute_result"
    }
   ],
   "source": [
    "data.columns"
   ]
  },
  {
   "cell_type": "markdown",
   "metadata": {},
   "source": [
    "O dataset possui 686383 entradas,  21 colunas, com os seguintes dtypes: float64(1), int64(10), object(11), temos 1 coluna em formato float, **idade**, que poderia estar no formato int. A coluna **valor** está em formato object, ou seja está salvo como texto, temos datas no formato object, sabemos que **genero**, **compradoronline**, **vendedoronline** são categoricos, temos algumas colunas com valores faltando, vamos ver."
   ]
  },
  {
   "cell_type": "code",
   "execution_count": 6,
   "metadata": {},
   "outputs": [
    {
     "data": {
      "text/html": [
       "<div>\n",
       "<style scoped>\n",
       "    .dataframe tbody tr th:only-of-type {\n",
       "        vertical-align: middle;\n",
       "    }\n",
       "\n",
       "    .dataframe tbody tr th {\n",
       "        vertical-align: top;\n",
       "    }\n",
       "\n",
       "    .dataframe thead th {\n",
       "        text-align: right;\n",
       "    }\n",
       "</style>\n",
       "<table border=\"1\" class=\"dataframe\">\n",
       "  <thead>\n",
       "    <tr style=\"text-align: right;\">\n",
       "      <th></th>\n",
       "      <th>ddd</th>\n",
       "      <th>sms_entregue</th>\n",
       "      <th>sms_enviado</th>\n",
       "      <th>sms_naoentregue</th>\n",
       "      <th>sms_rejeitado</th>\n",
       "      <th>sms_invalido</th>\n",
       "      <th>qtd_hist_acessos</th>\n",
       "      <th>sms_total_tent</th>\n",
       "      <th>idade</th>\n",
       "      <th>acesso</th>\n",
       "      <th>acordo</th>\n",
       "    </tr>\n",
       "  </thead>\n",
       "  <tbody>\n",
       "    <tr>\n",
       "      <th>count</th>\n",
       "      <td>686383.000000</td>\n",
       "      <td>686383.000000</td>\n",
       "      <td>686383.000000</td>\n",
       "      <td>686383.000000</td>\n",
       "      <td>686383.000000</td>\n",
       "      <td>686383.0</td>\n",
       "      <td>686383.000000</td>\n",
       "      <td>686383.000000</td>\n",
       "      <td>684648.000000</td>\n",
       "      <td>686383.000000</td>\n",
       "      <td>686383.000000</td>\n",
       "    </tr>\n",
       "    <tr>\n",
       "      <th>mean</th>\n",
       "      <td>54.100716</td>\n",
       "      <td>2.225027</td>\n",
       "      <td>0.050928</td>\n",
       "      <td>0.938616</td>\n",
       "      <td>0.002046</td>\n",
       "      <td>0.0</td>\n",
       "      <td>0.182840</td>\n",
       "      <td>3.208181</td>\n",
       "      <td>40.644479</td>\n",
       "      <td>0.027453</td>\n",
       "      <td>0.003374</td>\n",
       "    </tr>\n",
       "    <tr>\n",
       "      <th>std</th>\n",
       "      <td>11.441091</td>\n",
       "      <td>3.472402</td>\n",
       "      <td>0.649311</td>\n",
       "      <td>2.474068</td>\n",
       "      <td>0.185847</td>\n",
       "      <td>0.0</td>\n",
       "      <td>0.655077</td>\n",
       "      <td>3.755364</td>\n",
       "      <td>14.697298</td>\n",
       "      <td>0.163398</td>\n",
       "      <td>0.057990</td>\n",
       "    </tr>\n",
       "    <tr>\n",
       "      <th>min</th>\n",
       "      <td>11.000000</td>\n",
       "      <td>0.000000</td>\n",
       "      <td>0.000000</td>\n",
       "      <td>0.000000</td>\n",
       "      <td>0.000000</td>\n",
       "      <td>0.0</td>\n",
       "      <td>0.000000</td>\n",
       "      <td>0.000000</td>\n",
       "      <td>6.000000</td>\n",
       "      <td>0.000000</td>\n",
       "      <td>0.000000</td>\n",
       "    </tr>\n",
       "    <tr>\n",
       "      <th>25%</th>\n",
       "      <td>44.000000</td>\n",
       "      <td>0.000000</td>\n",
       "      <td>0.000000</td>\n",
       "      <td>0.000000</td>\n",
       "      <td>0.000000</td>\n",
       "      <td>0.0</td>\n",
       "      <td>0.000000</td>\n",
       "      <td>0.000000</td>\n",
       "      <td>29.000000</td>\n",
       "      <td>0.000000</td>\n",
       "      <td>0.000000</td>\n",
       "    </tr>\n",
       "    <tr>\n",
       "      <th>50%</th>\n",
       "      <td>54.000000</td>\n",
       "      <td>0.000000</td>\n",
       "      <td>0.000000</td>\n",
       "      <td>0.000000</td>\n",
       "      <td>0.000000</td>\n",
       "      <td>0.0</td>\n",
       "      <td>0.000000</td>\n",
       "      <td>2.000000</td>\n",
       "      <td>38.000000</td>\n",
       "      <td>0.000000</td>\n",
       "      <td>0.000000</td>\n",
       "    </tr>\n",
       "    <tr>\n",
       "      <th>75%</th>\n",
       "      <td>62.000000</td>\n",
       "      <td>3.000000</td>\n",
       "      <td>0.000000</td>\n",
       "      <td>0.000000</td>\n",
       "      <td>0.000000</td>\n",
       "      <td>0.0</td>\n",
       "      <td>0.000000</td>\n",
       "      <td>5.000000</td>\n",
       "      <td>49.000000</td>\n",
       "      <td>0.000000</td>\n",
       "      <td>0.000000</td>\n",
       "    </tr>\n",
       "    <tr>\n",
       "      <th>max</th>\n",
       "      <td>99.000000</td>\n",
       "      <td>23.000000</td>\n",
       "      <td>20.000000</td>\n",
       "      <td>22.000000</td>\n",
       "      <td>18.000000</td>\n",
       "      <td>0.0</td>\n",
       "      <td>20.000000</td>\n",
       "      <td>23.000000</td>\n",
       "      <td>136.000000</td>\n",
       "      <td>1.000000</td>\n",
       "      <td>1.000000</td>\n",
       "    </tr>\n",
       "  </tbody>\n",
       "</table>\n",
       "</div>"
      ],
      "text/plain": [
       "                 ddd   sms_entregue    sms_enviado  sms_naoentregue  \\\n",
       "count  686383.000000  686383.000000  686383.000000    686383.000000   \n",
       "mean       54.100716       2.225027       0.050928         0.938616   \n",
       "std        11.441091       3.472402       0.649311         2.474068   \n",
       "min        11.000000       0.000000       0.000000         0.000000   \n",
       "25%        44.000000       0.000000       0.000000         0.000000   \n",
       "50%        54.000000       0.000000       0.000000         0.000000   \n",
       "75%        62.000000       3.000000       0.000000         0.000000   \n",
       "max        99.000000      23.000000      20.000000        22.000000   \n",
       "\n",
       "       sms_rejeitado  sms_invalido  qtd_hist_acessos  sms_total_tent  \\\n",
       "count  686383.000000      686383.0     686383.000000   686383.000000   \n",
       "mean        0.002046           0.0          0.182840        3.208181   \n",
       "std         0.185847           0.0          0.655077        3.755364   \n",
       "min         0.000000           0.0          0.000000        0.000000   \n",
       "25%         0.000000           0.0          0.000000        0.000000   \n",
       "50%         0.000000           0.0          0.000000        2.000000   \n",
       "75%         0.000000           0.0          0.000000        5.000000   \n",
       "max        18.000000           0.0         20.000000       23.000000   \n",
       "\n",
       "               idade         acesso         acordo  \n",
       "count  684648.000000  686383.000000  686383.000000  \n",
       "mean       40.644479       0.027453       0.003374  \n",
       "std        14.697298       0.163398       0.057990  \n",
       "min         6.000000       0.000000       0.000000  \n",
       "25%        29.000000       0.000000       0.000000  \n",
       "50%        38.000000       0.000000       0.000000  \n",
       "75%        49.000000       0.000000       0.000000  \n",
       "max       136.000000       1.000000       1.000000  "
      ]
     },
     "execution_count": 6,
     "metadata": {},
     "output_type": "execute_result"
    }
   ],
   "source": [
    "data.describe()"
   ]
  },
  {
   "cell_type": "markdown",
   "metadata": {},
   "source": [
    "Olhando rapidamente temos uma idade de 136 anos, a pessoa mais velha do mundo viveu até 122 anos, e a mais velha viva tem 117 anos entao temos valores outlier incorretos. (Uma possibilidade para a idade é que ocorreu erro de digitação, ie 136 ao inves de 36). Da mesma forma idade de 6 anos não faz sentido."
   ]
  },
  {
   "cell_type": "markdown",
   "metadata": {},
   "source": [
    "**Missing Values**"
   ]
  },
  {
   "cell_type": "code",
   "execution_count": 7,
   "metadata": {},
   "outputs": [
    {
     "data": {
      "text/html": [
       "<div>\n",
       "<style scoped>\n",
       "    .dataframe tbody tr th:only-of-type {\n",
       "        vertical-align: middle;\n",
       "    }\n",
       "\n",
       "    .dataframe tbody tr th {\n",
       "        vertical-align: top;\n",
       "    }\n",
       "\n",
       "    .dataframe thead th {\n",
       "        text-align: right;\n",
       "    }\n",
       "</style>\n",
       "<table border=\"1\" class=\"dataframe\">\n",
       "  <thead>\n",
       "    <tr style=\"text-align: right;\">\n",
       "      <th></th>\n",
       "      <th>Total</th>\n",
       "      <th>%</th>\n",
       "    </tr>\n",
       "  </thead>\n",
       "  <tbody>\n",
       "    <tr>\n",
       "      <th>data_maisantiga_acesso</th>\n",
       "      <td>608871</td>\n",
       "      <td>88.7</td>\n",
       "    </tr>\n",
       "    <tr>\n",
       "      <th>data_maisrecente_acesso</th>\n",
       "      <td>608871</td>\n",
       "      <td>88.7</td>\n",
       "    </tr>\n",
       "    <tr>\n",
       "      <th>rendaestimada</th>\n",
       "      <td>165900</td>\n",
       "      <td>24.2</td>\n",
       "    </tr>\n",
       "    <tr>\n",
       "      <th>idade</th>\n",
       "      <td>1735</td>\n",
       "      <td>0.3</td>\n",
       "    </tr>\n",
       "    <tr>\n",
       "      <th>utilizacaoweb</th>\n",
       "      <td>1733</td>\n",
       "      <td>0.3</td>\n",
       "    </tr>\n",
       "    <tr>\n",
       "      <th>vendedoronline</th>\n",
       "      <td>1733</td>\n",
       "      <td>0.3</td>\n",
       "    </tr>\n",
       "    <tr>\n",
       "      <th>compradoronline</th>\n",
       "      <td>1733</td>\n",
       "      <td>0.3</td>\n",
       "    </tr>\n",
       "    <tr>\n",
       "      <th>genero</th>\n",
       "      <td>1733</td>\n",
       "      <td>0.3</td>\n",
       "    </tr>\n",
       "    <tr>\n",
       "      <th>acordo</th>\n",
       "      <td>0</td>\n",
       "      <td>0.0</td>\n",
       "    </tr>\n",
       "    <tr>\n",
       "      <th>sms_invalido</th>\n",
       "      <td>0</td>\n",
       "      <td>0.0</td>\n",
       "    </tr>\n",
       "    <tr>\n",
       "      <th>ddd</th>\n",
       "      <td>0</td>\n",
       "      <td>0.0</td>\n",
       "    </tr>\n",
       "    <tr>\n",
       "      <th>sms_entregue</th>\n",
       "      <td>0</td>\n",
       "      <td>0.0</td>\n",
       "    </tr>\n",
       "    <tr>\n",
       "      <th>sms_enviado</th>\n",
       "      <td>0</td>\n",
       "      <td>0.0</td>\n",
       "    </tr>\n",
       "    <tr>\n",
       "      <th>sms_naoentregue</th>\n",
       "      <td>0</td>\n",
       "      <td>0.0</td>\n",
       "    </tr>\n",
       "    <tr>\n",
       "      <th>sms_rejeitado</th>\n",
       "      <td>0</td>\n",
       "      <td>0.0</td>\n",
       "    </tr>\n",
       "    <tr>\n",
       "      <th>qtd_hist_acessos</th>\n",
       "      <td>0</td>\n",
       "      <td>0.0</td>\n",
       "    </tr>\n",
       "    <tr>\n",
       "      <th>data_atraso</th>\n",
       "      <td>0</td>\n",
       "      <td>0.0</td>\n",
       "    </tr>\n",
       "    <tr>\n",
       "      <th>valor</th>\n",
       "      <td>0</td>\n",
       "      <td>0.0</td>\n",
       "    </tr>\n",
       "    <tr>\n",
       "      <th>operadora</th>\n",
       "      <td>0</td>\n",
       "      <td>0.0</td>\n",
       "    </tr>\n",
       "    <tr>\n",
       "      <th>acesso</th>\n",
       "      <td>0</td>\n",
       "      <td>0.0</td>\n",
       "    </tr>\n",
       "    <tr>\n",
       "      <th>sms_total_tent</th>\n",
       "      <td>0</td>\n",
       "      <td>0.0</td>\n",
       "    </tr>\n",
       "    <tr>\n",
       "      <th>datadisparo</th>\n",
       "      <td>0</td>\n",
       "      <td>0.0</td>\n",
       "    </tr>\n",
       "  </tbody>\n",
       "</table>\n",
       "</div>"
      ],
      "text/plain": [
       "                          Total     %\n",
       "data_maisantiga_acesso   608871  88.7\n",
       "data_maisrecente_acesso  608871  88.7\n",
       "rendaestimada            165900  24.2\n",
       "idade                      1735   0.3\n",
       "utilizacaoweb              1733   0.3\n",
       "vendedoronline             1733   0.3\n",
       "compradoronline            1733   0.3\n",
       "genero                     1733   0.3\n",
       "acordo                        0   0.0\n",
       "sms_invalido                  0   0.0\n",
       "ddd                           0   0.0\n",
       "sms_entregue                  0   0.0\n",
       "sms_enviado                   0   0.0\n",
       "sms_naoentregue               0   0.0\n",
       "sms_rejeitado                 0   0.0\n",
       "qtd_hist_acessos              0   0.0\n",
       "data_atraso                   0   0.0\n",
       "valor                         0   0.0\n",
       "operadora                     0   0.0\n",
       "acesso                        0   0.0\n",
       "sms_total_tent                0   0.0\n",
       "datadisparo                   0   0.0"
      ]
     },
     "execution_count": 7,
     "metadata": {},
     "output_type": "execute_result"
    }
   ],
   "source": [
    "total = data.isnull().sum().sort_values(ascending=False)\n",
    "percent_1 = data.isnull().sum()/data.isnull().count()*100\n",
    "percent_2 = (round(percent_1, 1)).sort_values(ascending=False)\n",
    "missing_data = pd.concat([total, percent_2], axis=1, keys=['Total', '%'])\n",
    "missing_data"
   ]
  },
  {
   "cell_type": "markdown",
   "metadata": {},
   "source": [
    "O que chama a atenção é que temos o mesmo número de **data_maisantiga_acesso** e **data_maisrecente_acesso**, talvez clientes que nunca acessaram a plataforma. Para 4 colunas temos o mesmo número de dados faltosos, idade tem 2 entradas a mais faltando do que essas 4 colunas. Precisamos investigar melhor a natureza desses dados faltosos. Vamos visualizar."
   ]
  },
  {
   "cell_type": "code",
   "execution_count": 8,
   "metadata": {},
   "outputs": [],
   "source": [
    "#data[(data['genero']!='M') & (data['genero']!='F') & (data['genero']!='U')]"
   ]
  },
  {
   "cell_type": "markdown",
   "metadata": {},
   "source": [
    "1733 entradas com 5 valores faltando"
   ]
  },
  {
   "cell_type": "markdown",
   "metadata": {},
   "source": [
    "Vamos conhecer o perfil dos clientes e dos clientes que acessaram"
   ]
  },
  {
   "cell_type": "code",
   "execution_count": 9,
   "metadata": {},
   "outputs": [],
   "source": [
    "data_acesso=data[data['acesso']==1]\n",
    "data_acordo=data[data['acordo']==1]"
   ]
  },
  {
   "cell_type": "code",
   "execution_count": 10,
   "metadata": {},
   "outputs": [
    {
     "data": {
      "text/plain": [
       "(array([0, 1, 2, 3, 4, 5, 6, 7]), <a list of 8 Text major ticklabel objects>)"
      ]
     },
     "execution_count": 10,
     "metadata": {},
     "output_type": "execute_result"
    },
    {
     "data": {
      "image/png": "[encoded data removed]",
      "text/plain": [
       "<Figure size 1152x576 with 1 Axes>"
      ]
     },
     "metadata": {
      "needs_background": "light"
     },
     "output_type": "display_data"
    }
   ],
   "source": [
    "plt.figure(figsize=(16,8)) \n",
    "data.rendaestimada.value_counts().plot.bar()\n",
    "plt.xticks(rotation=0)"
   ]
  },
  {
   "cell_type": "code",
   "execution_count": 11,
   "metadata": {},
   "outputs": [
    {
     "data": {
      "text/plain": [
       "(array([0, 1, 2, 3, 4, 5, 6]), <a list of 7 Text major ticklabel objects>)"
      ]
     },
     "execution_count": 11,
     "metadata": {},
     "output_type": "execute_result"
    },
    {
     "data": {
      "image/png": "[encoded data removed]",
      "text/plain": [
       "<Figure size 1152x576 with 1 Axes>"
      ]
     },
     "metadata": {
      "needs_background": "light"
     },
     "output_type": "display_data"
    }
   ],
   "source": [
    "plt.figure(figsize=(16,8)) \n",
    "data_acesso.rendaestimada.value_counts().plot.bar()\n",
    "plt.xticks(rotation=0)"
   ]
  },
  {
   "cell_type": "code",
   "execution_count": 12,
   "metadata": {},
   "outputs": [
    {
     "data": {
      "text/plain": [
       "(array([0, 1, 2, 3, 4]), <a list of 5 Text major ticklabel objects>)"
      ]
     },
     "execution_count": 12,
     "metadata": {},
     "output_type": "execute_result"
    },
    {
     "data": {
      "image/png": "[encoded data removed]",
      "text/plain": [
       "<Figure size 1152x576 with 1 Axes>"
      ]
     },
     "metadata": {
      "needs_background": "light"
     },
     "output_type": "display_data"
    }
   ],
   "source": [
    "plt.figure(figsize=(16,8)) \n",
    "data_acordo.rendaestimada.value_counts().plot.bar()\n",
    "plt.xticks(rotation=0)"
   ]
  },
  {
   "cell_type": "markdown",
   "metadata": {},
   "source": [
    "Ninguem com rendas de '1/2 a 1 SM' e 'SEM INFORMACAO' fechou acordo."
   ]
  },
  {
   "cell_type": "code",
   "execution_count": 13,
   "metadata": {},
   "outputs": [
    {
     "data": {
      "image/png": "[encoded data removed]",
      "text/plain": [
       "<Figure size 864x216 with 3 Axes>"
      ]
     },
     "metadata": {
      "needs_background": "light"
     },
     "output_type": "display_data"
    }
   ],
   "source": [
    "fig, (ax1,ax2,ax3) = plt.subplots(nrows=1,ncols=3,figsize=(12,3))\n",
    "\n",
    "data.compradoronline.value_counts().sort_index().plot.bar(ax = ax1,subplots=True)\n",
    "data_acesso.compradoronline.value_counts().sort_index().plot.bar(ax = ax2,subplots=True)\n",
    "data_acordo.compradoronline.value_counts().sort_index().plot.bar(ax = ax3,subplots=True)\n",
    "\n",
    "for ax in fig.axes:\n",
    "    ax.tick_params(labelrotation=0)"
   ]
  },
  {
   "cell_type": "code",
   "execution_count": 14,
   "metadata": {},
   "outputs": [
    {
     "data": {
      "image/png": "[encoded data removed]",
      "text/plain": [
       "<Figure size 864x216 with 3 Axes>"
      ]
     },
     "metadata": {
      "needs_background": "light"
     },
     "output_type": "display_data"
    }
   ],
   "source": [
    "fig, (ax1,ax2,ax3) = plt.subplots(nrows=1,ncols=3,figsize=(12,3))\n",
    "\n",
    "data.vendedoronline.value_counts().sort_index().plot.bar(ax = ax1,subplots=True)\n",
    "data_acesso.vendedoronline.value_counts().sort_index().plot.bar(ax = ax2,subplots=True)\n",
    "data_acordo.vendedoronline.value_counts().sort_index().plot.bar(ax = ax3,subplots=True)\n",
    "\n",
    "for ax in fig.axes:\n",
    "    ax.tick_params(labelrotation=0)"
   ]
  },
  {
   "cell_type": "code",
   "execution_count": 15,
   "metadata": {},
   "outputs": [
    {
     "data": {
      "image/png": "[encoded data removed]",
      "text/plain": [
       "<Figure size 864x216 with 3 Axes>"
      ]
     },
     "metadata": {
      "needs_background": "light"
     },
     "output_type": "display_data"
    }
   ],
   "source": [
    "fig, (ax1,ax2,ax3) = plt.subplots(nrows=1,ncols=3,figsize=(12,3))\n",
    "\n",
    "data.utilizacaoweb.value_counts().sort_index().plot.bar(ax = ax1,subplots=True)\n",
    "data_acesso.utilizacaoweb.value_counts().sort_index().plot.bar(ax = ax2,subplots=True)\n",
    "data_acordo.utilizacaoweb.value_counts().sort_index().plot.bar(ax = ax3,subplots=True)\n",
    "\n",
    "for ax in fig.axes:\n",
    "    ax.tick_params(labelrotation=0)"
   ]
  },
  {
   "cell_type": "code",
   "execution_count": 16,
   "metadata": {},
   "outputs": [
    {
     "data": {
      "image/png": "[encoded data removed]",
      "text/plain": [
       "<Figure size 864x216 with 3 Axes>"
      ]
     },
     "metadata": {
      "needs_background": "light"
     },
     "output_type": "display_data"
    }
   ],
   "source": [
    "fig, (ax1,ax2,ax3) = plt.subplots(nrows=1,ncols=3,figsize=(12,3))\n",
    "\n",
    "data.genero.value_counts().sort_index().plot.bar(ax = ax1,subplots=True)\n",
    "data_acesso.genero.value_counts().sort_index().plot.bar(ax = ax2,subplots=True)\n",
    "data_acordo.genero.value_counts().sort_index().plot.bar(ax = ax3,subplots=True)\n",
    "\n",
    "for ax in fig.axes:\n",
    "    ax.tick_params(labelrotation=0)"
   ]
  },
  {
   "cell_type": "code",
   "execution_count": 17,
   "metadata": {},
   "outputs": [
    {
     "data": {
      "text/plain": [
       "F    385389\n",
       "M    280296\n",
       "U     18965\n",
       "Name: genero, dtype: int64"
      ]
     },
     "execution_count": 17,
     "metadata": {},
     "output_type": "execute_result"
    }
   ],
   "source": [
    "data.genero.value_counts()"
   ]
  },
  {
   "cell_type": "code",
   "execution_count": 18,
   "metadata": {},
   "outputs": [
    {
     "data": {
      "image/png": "[encoded data removed]",
      "text/plain": [
       "<Figure size 432x288 with 1 Axes>"
      ]
     },
     "metadata": {
      "needs_background": "light"
     },
     "output_type": "display_data"
    }
   ],
   "source": [
    "bins= [10,20,30,40,50,60,70,80,90,100,110,120,130,140]\n",
    "plt.hist(data.idade, bins=bins, edgecolor=\"k\")\n",
    "plt.xticks(bins)\n",
    "plt.show()"
   ]
  },
  {
   "cell_type": "code",
   "execution_count": 19,
   "metadata": {},
   "outputs": [
    {
     "data": {
      "image/png": "[encoded data removed]",
      "text/plain": [
       "<Figure size 432x288 with 1 Axes>"
      ]
     },
     "metadata": {
      "needs_background": "light"
     },
     "output_type": "display_data"
    }
   ],
   "source": [
    "bins= [10,20,30,40,50,60,70,80,90,100,110,120,130,140]\n",
    "plt.hist(data_acesso.idade, bins=bins, edgecolor=\"k\")\n",
    "plt.xticks(bins)\n",
    "plt.show()"
   ]
  },
  {
   "cell_type": "code",
   "execution_count": 20,
   "metadata": {},
   "outputs": [
    {
     "data": {
      "image/png": "[encoded data removed]",
      "text/plain": [
       "<Figure size 432x288 with 1 Axes>"
      ]
     },
     "metadata": {
      "needs_background": "light"
     },
     "output_type": "display_data"
    }
   ],
   "source": [
    "bins= [10,20,30,40,50,60,70,80,90,100,110,120,130,140]\n",
    "plt.hist(data_acordo.idade, bins=bins, edgecolor=\"k\")\n",
    "plt.xticks(bins)\n",
    "plt.show()"
   ]
  },
  {
   "cell_type": "markdown",
   "metadata": {},
   "source": [
    "A maioria dos clientes recebe até 2 SM, A  classifição mais comum para compradoronline foi A, a maior classificação. Quase a totalidade foi classificado como vendedoronline H, a pior classificação. Novamente a classificação mais comum para utilizaçãoweb foi A, a maior classificação. Temos que 58% são mulheres e 42% são homens, e olhando a distribuição de idades, em primeiro estao os clientes de 30 a 40 anos, seguidos por de 30 a 20 e de 40 a 50. As distribuições para quem acessou ou fechou acordo foi similar a de todo o dataset. As variaveis visualizadas, com exceção para renda, parecem não afetar o acesso e acordo. "
   ]
  },
  {
   "cell_type": "code",
   "execution_count": 21,
   "metadata": {},
   "outputs": [
    {
     "data": {
      "text/plain": [
       "array(['Claro', 'Vivo', 'Tim', 'Oi', 'Nextel', 'Outros'], dtype=object)"
      ]
     },
     "execution_count": 21,
     "metadata": {},
     "output_type": "execute_result"
    }
   ],
   "source": [
    "data.operadora.unique()"
   ]
  },
  {
   "cell_type": "code",
   "execution_count": 22,
   "metadata": {},
   "outputs": [
    {
     "data": {
      "image/png": "[encoded data removed]",
      "text/plain": [
       "<Figure size 864x216 with 3 Axes>"
      ]
     },
     "metadata": {
      "needs_background": "light"
     },
     "output_type": "display_data"
    }
   ],
   "source": [
    "fig, (ax1,ax2,ax3) = plt.subplots(nrows=1,ncols=3,figsize=(12,3))\n",
    "\n",
    "data.operadora.value_counts().plot.bar(ax = ax1,subplots=True)\n",
    "data_acesso.operadora.value_counts().plot.bar(ax = ax2,subplots=True)\n",
    "data_acordo.operadora.value_counts().plot.bar(ax = ax3,subplots=True)\n",
    "\n",
    "for ax in fig.axes:\n",
    "    ax.tick_params(labelrotation=0)"
   ]
  },
  {
   "cell_type": "markdown",
   "metadata": {},
   "source": [
    "Temos as 4 maiores operadoras tem mais de 100k clientes, com Claro e Tim com quase 200k clientes cada. Uma maneira de otimizar o orçamento é fechar parceria com essas operadoras para diminuir o custo dos sms."
   ]
  },
  {
   "cell_type": "code",
   "execution_count": 23,
   "metadata": {},
   "outputs": [
    {
     "data": {
      "image/png": "[encoded data removed]",
      "text/plain": [
       "<Figure size 1080x360 with 3 Axes>"
      ]
     },
     "metadata": {
      "needs_background": "light"
     },
     "output_type": "display_data"
    }
   ],
   "source": [
    "fig, (ax1,ax2,ax3) = plt.subplots(nrows=1,ncols=3,figsize=(15,5))\n",
    "\n",
    "data.sms_total_tent.value_counts().sort_index().plot.bar(ax = ax1,subplots=True)\n",
    "plt.xticks(rotation=0)\n",
    "data_acesso.sms_total_tent.value_counts().sort_index().plot.bar(ax = ax2,subplots=True)\n",
    "plt.xticks(rotation=0)\n",
    "data_acordo.sms_total_tent.value_counts().sort_index().plot.bar(ax = ax3,subplots=True)\n",
    "plt.xticks(rotation=0)\n",
    "\n",
    "for ax in fig.axes:\n",
    "    ax.tick_params(labelrotation=0)"
   ]
  },
  {
   "cell_type": "markdown",
   "metadata": {},
   "source": [
    "Não há acordo com mais de 19 sms_total_tent"
   ]
  },
  {
   "cell_type": "code",
   "execution_count": 24,
   "metadata": {},
   "outputs": [],
   "source": [
    "#data.sms_total_tent.value_counts()"
   ]
  },
  {
   "cell_type": "code",
   "execution_count": 25,
   "metadata": {},
   "outputs": [],
   "source": [
    "#data[data['sms_total_tent']>0].count()"
   ]
  },
  {
   "cell_type": "markdown",
   "metadata": {},
   "source": [
    "Para 461035 entradas já foi enviado 1 sms."
   ]
  },
  {
   "cell_type": "code",
   "execution_count": 26,
   "metadata": {},
   "outputs": [
    {
     "data": {
      "image/png": "[encoded data removed]",
      "text/plain": [
       "<Figure size 1080x360 with 3 Axes>"
      ]
     },
     "metadata": {
      "needs_background": "light"
     },
     "output_type": "display_data"
    }
   ],
   "source": [
    "fig, (ax1,ax2,ax3) = plt.subplots(nrows=1,ncols=3,figsize=(15,5))\n",
    "\n",
    "data.qtd_hist_acessos.value_counts().sort_index().plot.bar(ax = ax1,subplots=True)\n",
    "plt.xticks(rotation=0)\n",
    "data_acesso.qtd_hist_acessos.value_counts().sort_index().plot.bar(ax = ax2,subplots=True)\n",
    "plt.xticks(rotation=0)\n",
    "data_acordo.qtd_hist_acessos.value_counts().sort_index().plot.bar(ax = ax3,subplots=True)\n",
    "plt.xticks(rotation=0)\n",
    "\n",
    "for ax in fig.axes:\n",
    "    ax.tick_params(labelrotation=0)"
   ]
  },
  {
   "cell_type": "markdown",
   "metadata": {},
   "source": [
    "Temos acordos com qtd_hist_acessos==0"
   ]
  },
  {
   "cell_type": "code",
   "execution_count": 32,
   "metadata": {},
   "outputs": [
    {
     "data": {
      "text/plain": [
       "(array([ 0,  1,  2,  3,  4,  5,  6,  7,  8,  9, 10, 11, 12, 13, 14, 15, 16,\n",
       "        17, 18, 19, 20, 21, 22, 23, 24, 25, 26, 27, 28, 29, 30, 31, 32, 33,\n",
       "        34, 35, 36, 37, 38, 39, 40, 41, 42, 43, 44, 45, 46, 47, 48, 49, 50,\n",
       "        51, 52, 53, 54, 55, 56, 57, 58, 59, 60, 61, 62, 63, 64, 65, 66]),\n",
       " <a list of 67 Text major ticklabel objects>)"
      ]
     },
     "execution_count": 32,
     "metadata": {},
     "output_type": "execute_result"
    },
    {
     "data": {
      "image/png": "[encoded data removed]",
      "text/plain": [
       "<Figure size 1152x576 with 1 Axes>"
      ]
     },
     "metadata": {
      "needs_background": "light"
     },
     "output_type": "display_data"
    }
   ],
   "source": [
    "plt.figure(figsize=(16,8)) \n",
    "data.ddd.value_counts().sort_index().plot.bar()\n",
    "plt.xticks(rotation=0)"
   ]
  },
  {
   "cell_type": "code",
   "execution_count": 31,
   "metadata": {},
   "outputs": [
    {
     "data": {
      "text/plain": [
       "(array([ 0,  1,  2,  3,  4,  5,  6,  7,  8,  9, 10, 11, 12, 13, 14, 15, 16,\n",
       "        17, 18, 19, 20, 21, 22, 23, 24, 25, 26, 27, 28, 29, 30, 31, 32, 33,\n",
       "        34, 35, 36, 37, 38, 39, 40, 41, 42, 43, 44, 45, 46, 47, 48, 49, 50,\n",
       "        51, 52, 53, 54, 55, 56, 57, 58, 59]),\n",
       " <a list of 60 Text major ticklabel objects>)"
      ]
     },
     "execution_count": 31,
     "metadata": {},
     "output_type": "execute_result"
    },
    {
     "data": {
      "image/png": "[encoded data removed]",
      "text/plain": [
       "<Figure size 1152x576 with 1 Axes>"
      ]
     },
     "metadata": {
      "needs_background": "light"
     },
     "output_type": "display_data"
    }
   ],
   "source": [
    "plt.figure(figsize=(16,8)) \n",
    "data_acesso.ddd.value_counts().sort_index().plot.bar()\n",
    "plt.xticks(rotation=0)"
   ]
  },
  {
   "cell_type": "code",
   "execution_count": 33,
   "metadata": {},
   "outputs": [
    {
     "data": {
      "text/plain": [
       "(array([ 0,  1,  2,  3,  4,  5,  6,  7,  8,  9, 10, 11, 12, 13, 14, 15, 16,\n",
       "        17, 18, 19, 20, 21, 22, 23, 24, 25, 26, 27, 28, 29, 30, 31, 32, 33,\n",
       "        34, 35, 36, 37, 38, 39, 40, 41]),\n",
       " <a list of 42 Text major ticklabel objects>)"
      ]
     },
     "execution_count": 33,
     "metadata": {},
     "output_type": "execute_result"
    },
    {
     "data": {
      "image/png": "[encoded data removed]",
      "text/plain": [
       "<Figure size 1152x576 with 1 Axes>"
      ]
     },
     "metadata": {
      "needs_background": "light"
     },
     "output_type": "display_data"
    }
   ],
   "source": [
    "plt.figure(figsize=(16,8)) \n",
    "data_acordo.ddd.value_counts().sort_index().plot.bar()\n",
    "plt.xticks(rotation=0)"
   ]
  },
  {
   "cell_type": "markdown",
   "metadata": {},
   "source": [
    "Para ddd também temos a mesma distribuição."
   ]
  },
  {
   "cell_type": "code",
   "execution_count": 30,
   "metadata": {},
   "outputs": [],
   "source": [
    "#data.qtd_hist_acessos.value_counts()"
   ]
  },
  {
   "cell_type": "code",
   "execution_count": 31,
   "metadata": {},
   "outputs": [],
   "source": [
    "#data[data['qtd_hist_acessos']>0].count()"
   ]
  },
  {
   "cell_type": "markdown",
   "metadata": {},
   "source": [
    "77395 clientes com qtd_hist_acessos>0"
   ]
  },
  {
   "cell_type": "code",
   "execution_count": 32,
   "metadata": {},
   "outputs": [
    {
     "data": {
      "text/plain": [
       "<matplotlib.axes._subplots.AxesSubplot at 0x138e88f4488>"
      ]
     },
     "execution_count": 32,
     "metadata": {},
     "output_type": "execute_result"
    },
    {
     "data": {
      "image/png": "[encoded data removed]",
      "text/plain": [
       "<Figure size 432x288 with 1 Axes>"
      ]
     },
     "metadata": {
      "needs_background": "light"
     },
     "output_type": "display_data"
    }
   ],
   "source": [
    "sns.scatterplot(x=\"sms_total_tent\", y=\"qtd_hist_acessos\",alpha=0.2, data=data)"
   ]
  },
  {
   "cell_type": "markdown",
   "metadata": {},
   "source": [
    "**Vamos usar uma ferramenta de visualização do pandas para entendermos melhor os dados e escolher a direção que vamos tomar.**"
   ]
  },
  {
   "cell_type": "code",
   "execution_count": 33,
   "metadata": {},
   "outputs": [],
   "source": [
    "#Pandas_profiling provides a detailed report of the data but it is heavy\n",
    "#import pandas_profiling\n",
    "#data.profile_report()"
   ]
  },
  {
   "cell_type": "markdown",
   "metadata": {},
   "source": [
    "A coluna **sms_invalido** não possui entradas diferentes de 0, todos os valores são nulos."
   ]
  },
  {
   "cell_type": "markdown",
   "metadata": {},
   "source": [
    "See correlations"
   ]
  },
  {
   "cell_type": "code",
   "execution_count": 34,
   "metadata": {},
   "outputs": [
    {
     "data": {
      "text/html": [
       "<div>\n",
       "<style scoped>\n",
       "    .dataframe tbody tr th:only-of-type {\n",
       "        vertical-align: middle;\n",
       "    }\n",
       "\n",
       "    .dataframe tbody tr th {\n",
       "        vertical-align: top;\n",
       "    }\n",
       "\n",
       "    .dataframe thead th {\n",
       "        text-align: right;\n",
       "    }\n",
       "</style>\n",
       "<table border=\"1\" class=\"dataframe\">\n",
       "  <thead>\n",
       "    <tr style=\"text-align: right;\">\n",
       "      <th></th>\n",
       "      <th>acesso</th>\n",
       "    </tr>\n",
       "  </thead>\n",
       "  <tbody>\n",
       "    <tr>\n",
       "      <th>acesso</th>\n",
       "      <td>1.000000</td>\n",
       "    </tr>\n",
       "    <tr>\n",
       "      <th>acordo</th>\n",
       "      <td>0.346325</td>\n",
       "    </tr>\n",
       "    <tr>\n",
       "      <th>qtd_hist_acessos</th>\n",
       "      <td>0.238260</td>\n",
       "    </tr>\n",
       "    <tr>\n",
       "      <th>sms_entregue</th>\n",
       "      <td>0.060827</td>\n",
       "    </tr>\n",
       "    <tr>\n",
       "      <th>sms_naoentregue</th>\n",
       "      <td>0.058954</td>\n",
       "    </tr>\n",
       "    <tr>\n",
       "      <th>idade</th>\n",
       "      <td>0.026447</td>\n",
       "    </tr>\n",
       "    <tr>\n",
       "      <th>sms_total_tent</th>\n",
       "      <td>0.018114</td>\n",
       "    </tr>\n",
       "    <tr>\n",
       "      <th>sms_enviado</th>\n",
       "      <td>0.004344</td>\n",
       "    </tr>\n",
       "    <tr>\n",
       "      <th>ddd</th>\n",
       "      <td>0.003946</td>\n",
       "    </tr>\n",
       "    <tr>\n",
       "      <th>sms_rejeitado</th>\n",
       "      <td>0.001849</td>\n",
       "    </tr>\n",
       "    <tr>\n",
       "      <th>sms_invalido</th>\n",
       "      <td>NaN</td>\n",
       "    </tr>\n",
       "  </tbody>\n",
       "</table>\n",
       "</div>"
      ],
      "text/plain": [
       "                    acesso\n",
       "acesso            1.000000\n",
       "acordo            0.346325\n",
       "qtd_hist_acessos  0.238260\n",
       "sms_entregue      0.060827\n",
       "sms_naoentregue   0.058954\n",
       "idade             0.026447\n",
       "sms_total_tent    0.018114\n",
       "sms_enviado       0.004344\n",
       "ddd               0.003946\n",
       "sms_rejeitado     0.001849\n",
       "sms_invalido           NaN"
      ]
     },
     "execution_count": 34,
     "metadata": {},
     "output_type": "execute_result"
    }
   ],
   "source": [
    "pd.DataFrame(abs(data.corr()['acesso']).sort_values(ascending = False))"
   ]
  },
  {
   "cell_type": "code",
   "execution_count": 35,
   "metadata": {},
   "outputs": [
    {
     "data": {
      "text/html": [
       "<div>\n",
       "<style scoped>\n",
       "    .dataframe tbody tr th:only-of-type {\n",
       "        vertical-align: middle;\n",
       "    }\n",
       "\n",
       "    .dataframe tbody tr th {\n",
       "        vertical-align: top;\n",
       "    }\n",
       "\n",
       "    .dataframe thead th {\n",
       "        text-align: right;\n",
       "    }\n",
       "</style>\n",
       "<table border=\"1\" class=\"dataframe\">\n",
       "  <thead>\n",
       "    <tr style=\"text-align: right;\">\n",
       "      <th></th>\n",
       "      <th>acordo</th>\n",
       "    </tr>\n",
       "  </thead>\n",
       "  <tbody>\n",
       "    <tr>\n",
       "      <th>acordo</th>\n",
       "      <td>1.000000</td>\n",
       "    </tr>\n",
       "    <tr>\n",
       "      <th>acesso</th>\n",
       "      <td>0.346325</td>\n",
       "    </tr>\n",
       "    <tr>\n",
       "      <th>qtd_hist_acessos</th>\n",
       "      <td>0.050224</td>\n",
       "    </tr>\n",
       "    <tr>\n",
       "      <th>sms_naoentregue</th>\n",
       "      <td>0.020531</td>\n",
       "    </tr>\n",
       "    <tr>\n",
       "      <th>sms_entregue</th>\n",
       "      <td>0.017052</td>\n",
       "    </tr>\n",
       "    <tr>\n",
       "      <th>idade</th>\n",
       "      <td>0.007279</td>\n",
       "    </tr>\n",
       "    <tr>\n",
       "      <th>sms_total_tent</th>\n",
       "      <td>0.002240</td>\n",
       "    </tr>\n",
       "    <tr>\n",
       "      <th>sms_rejeitado</th>\n",
       "      <td>0.000640</td>\n",
       "    </tr>\n",
       "    <tr>\n",
       "      <th>ddd</th>\n",
       "      <td>0.000278</td>\n",
       "    </tr>\n",
       "    <tr>\n",
       "      <th>sms_enviado</th>\n",
       "      <td>0.000041</td>\n",
       "    </tr>\n",
       "    <tr>\n",
       "      <th>sms_invalido</th>\n",
       "      <td>NaN</td>\n",
       "    </tr>\n",
       "  </tbody>\n",
       "</table>\n",
       "</div>"
      ],
      "text/plain": [
       "                    acordo\n",
       "acordo            1.000000\n",
       "acesso            0.346325\n",
       "qtd_hist_acessos  0.050224\n",
       "sms_naoentregue   0.020531\n",
       "sms_entregue      0.017052\n",
       "idade             0.007279\n",
       "sms_total_tent    0.002240\n",
       "sms_rejeitado     0.000640\n",
       "ddd               0.000278\n",
       "sms_enviado       0.000041\n",
       "sms_invalido           NaN"
      ]
     },
     "execution_count": 35,
     "metadata": {},
     "output_type": "execute_result"
    }
   ],
   "source": [
    "pd.DataFrame(abs(data.corr()['acordo']).sort_values(ascending = False))"
   ]
  },
  {
   "cell_type": "code",
   "execution_count": 36,
   "metadata": {},
   "outputs": [
    {
     "data": {
      "text/plain": [
       "<matplotlib.axes._subplots.AxesSubplot at 0x138e8a97988>"
      ]
     },
     "execution_count": 36,
     "metadata": {},
     "output_type": "execute_result"
    },
    {
     "data": {
      "image/png": "[encoded data removed]",
      "text/plain": [
       "<Figure size 720x720 with 2 Axes>"
      ]
     },
     "metadata": {
      "needs_background": "light"
     },
     "output_type": "display_data"
    }
   ],
   "source": [
    "plt.figure(figsize=(10,10))\n",
    "sns.heatmap(data.corr(), annot=True, cmap=\"RdBu\")"
   ]
  },
  {
   "cell_type": "markdown",
   "metadata": {},
   "source": [
    "Algumas correlações chamam atenção na tabela, **sms_total_tent** com **qtd_hist_acessos**, **qtd_hist_acessos** com **acessos**, **acessos** com **acordo sms_total_tent** com **sms_entregue** e **sms_naoentregue** e **sms_entregue** com **qtd_hist_tent**, estas parecem ser nossas principais features."
   ]
  },
  {
   "cell_type": "markdown",
   "metadata": {},
   "source": [
    "As variáveis categoricas ainda não foram tratadas, vamos vizualizar novamente como elas influenciam as variaveis alvo mais a frente."
   ]
  },
  {
   "cell_type": "markdown",
   "metadata": {},
   "source": [
    "## Data Processing"
   ]
  },
  {
   "cell_type": "markdown",
   "metadata": {},
   "source": [
    "Vamos começar eliminando as 8172 linhas repetidas."
   ]
  },
  {
   "cell_type": "code",
   "execution_count": 37,
   "metadata": {},
   "outputs": [],
   "source": [
    "data = data.drop_duplicates()"
   ]
  },
  {
   "cell_type": "markdown",
   "metadata": {},
   "source": [
    "Vou excluir as 1733 linhas com dados faltando."
   ]
  },
  {
   "cell_type": "code",
   "execution_count": 38,
   "metadata": {},
   "outputs": [],
   "source": [
    "data.dropna(subset=['utilizacaoweb','vendedoronline','compradoronline', 'genero'], thresh=4, inplace=True)"
   ]
  },
  {
   "cell_type": "code",
   "execution_count": 39,
   "metadata": {},
   "outputs": [
    {
     "data": {
      "text/html": [
       "<div>\n",
       "<style scoped>\n",
       "    .dataframe tbody tr th:only-of-type {\n",
       "        vertical-align: middle;\n",
       "    }\n",
       "\n",
       "    .dataframe tbody tr th {\n",
       "        vertical-align: top;\n",
       "    }\n",
       "\n",
       "    .dataframe thead th {\n",
       "        text-align: right;\n",
       "    }\n",
       "</style>\n",
       "<table border=\"1\" class=\"dataframe\">\n",
       "  <thead>\n",
       "    <tr style=\"text-align: right;\">\n",
       "      <th></th>\n",
       "      <th>Total</th>\n",
       "      <th>%</th>\n",
       "    </tr>\n",
       "  </thead>\n",
       "  <tbody>\n",
       "    <tr>\n",
       "      <th>data_maisantiga_acesso</th>\n",
       "      <td>599102</td>\n",
       "      <td>88.6</td>\n",
       "    </tr>\n",
       "    <tr>\n",
       "      <th>data_maisrecente_acesso</th>\n",
       "      <td>599102</td>\n",
       "      <td>88.6</td>\n",
       "    </tr>\n",
       "    <tr>\n",
       "      <th>rendaestimada</th>\n",
       "      <td>162329</td>\n",
       "      <td>24.0</td>\n",
       "    </tr>\n",
       "    <tr>\n",
       "      <th>idade</th>\n",
       "      <td>2</td>\n",
       "      <td>0.0</td>\n",
       "    </tr>\n",
       "    <tr>\n",
       "      <th>acordo</th>\n",
       "      <td>0</td>\n",
       "      <td>0.0</td>\n",
       "    </tr>\n",
       "    <tr>\n",
       "      <th>valor</th>\n",
       "      <td>0</td>\n",
       "      <td>0.0</td>\n",
       "    </tr>\n",
       "    <tr>\n",
       "      <th>ddd</th>\n",
       "      <td>0</td>\n",
       "      <td>0.0</td>\n",
       "    </tr>\n",
       "    <tr>\n",
       "      <th>sms_entregue</th>\n",
       "      <td>0</td>\n",
       "      <td>0.0</td>\n",
       "    </tr>\n",
       "    <tr>\n",
       "      <th>sms_enviado</th>\n",
       "      <td>0</td>\n",
       "      <td>0.0</td>\n",
       "    </tr>\n",
       "    <tr>\n",
       "      <th>sms_naoentregue</th>\n",
       "      <td>0</td>\n",
       "      <td>0.0</td>\n",
       "    </tr>\n",
       "    <tr>\n",
       "      <th>sms_rejeitado</th>\n",
       "      <td>0</td>\n",
       "      <td>0.0</td>\n",
       "    </tr>\n",
       "    <tr>\n",
       "      <th>sms_invalido</th>\n",
       "      <td>0</td>\n",
       "      <td>0.0</td>\n",
       "    </tr>\n",
       "    <tr>\n",
       "      <th>data_atraso</th>\n",
       "      <td>0</td>\n",
       "      <td>0.0</td>\n",
       "    </tr>\n",
       "    <tr>\n",
       "      <th>qtd_hist_acessos</th>\n",
       "      <td>0</td>\n",
       "      <td>0.0</td>\n",
       "    </tr>\n",
       "    <tr>\n",
       "      <th>operadora</th>\n",
       "      <td>0</td>\n",
       "      <td>0.0</td>\n",
       "    </tr>\n",
       "    <tr>\n",
       "      <th>acesso</th>\n",
       "      <td>0</td>\n",
       "      <td>0.0</td>\n",
       "    </tr>\n",
       "    <tr>\n",
       "      <th>sms_total_tent</th>\n",
       "      <td>0</td>\n",
       "      <td>0.0</td>\n",
       "    </tr>\n",
       "    <tr>\n",
       "      <th>genero</th>\n",
       "      <td>0</td>\n",
       "      <td>0.0</td>\n",
       "    </tr>\n",
       "    <tr>\n",
       "      <th>compradoronline</th>\n",
       "      <td>0</td>\n",
       "      <td>0.0</td>\n",
       "    </tr>\n",
       "    <tr>\n",
       "      <th>vendedoronline</th>\n",
       "      <td>0</td>\n",
       "      <td>0.0</td>\n",
       "    </tr>\n",
       "    <tr>\n",
       "      <th>utilizacaoweb</th>\n",
       "      <td>0</td>\n",
       "      <td>0.0</td>\n",
       "    </tr>\n",
       "    <tr>\n",
       "      <th>datadisparo</th>\n",
       "      <td>0</td>\n",
       "      <td>0.0</td>\n",
       "    </tr>\n",
       "  </tbody>\n",
       "</table>\n",
       "</div>"
      ],
      "text/plain": [
       "                          Total     %\n",
       "data_maisantiga_acesso   599102  88.6\n",
       "data_maisrecente_acesso  599102  88.6\n",
       "rendaestimada            162329  24.0\n",
       "idade                         2   0.0\n",
       "acordo                        0   0.0\n",
       "valor                         0   0.0\n",
       "ddd                           0   0.0\n",
       "sms_entregue                  0   0.0\n",
       "sms_enviado                   0   0.0\n",
       "sms_naoentregue               0   0.0\n",
       "sms_rejeitado                 0   0.0\n",
       "sms_invalido                  0   0.0\n",
       "data_atraso                   0   0.0\n",
       "qtd_hist_acessos              0   0.0\n",
       "operadora                     0   0.0\n",
       "acesso                        0   0.0\n",
       "sms_total_tent                0   0.0\n",
       "genero                        0   0.0\n",
       "compradoronline               0   0.0\n",
       "vendedoronline                0   0.0\n",
       "utilizacaoweb                 0   0.0\n",
       "datadisparo                   0   0.0"
      ]
     },
     "execution_count": 39,
     "metadata": {},
     "output_type": "execute_result"
    }
   ],
   "source": [
    "total = data.isnull().sum().sort_values(ascending=False)\n",
    "percent_1 = data.isnull().sum()/data.isnull().count()*100\n",
    "percent_2 = (round(percent_1, 1)).sort_values(ascending=False)\n",
    "missing_data = pd.concat([total, percent_2], axis=1, keys=['Total', '%'])\n",
    "missing_data"
   ]
  },
  {
   "cell_type": "markdown",
   "metadata": {},
   "source": [
    "Vamos converter valor da divida de objeto para numero"
   ]
  },
  {
   "cell_type": "code",
   "execution_count": 40,
   "metadata": {},
   "outputs": [],
   "source": [
    "data['valor'] = data['valor'].str.replace(r',','.')\n",
    "data['valor'] = data['valor'].astype(float)\n",
    "data['valor'] = data['valor'].round(2)"
   ]
  },
  {
   "cell_type": "markdown",
   "metadata": {},
   "source": [
    "Vamos ver quanto dinheiro os clientes estão devendo para o parceiro da BLU."
   ]
  },
  {
   "cell_type": "code",
   "execution_count": 41,
   "metadata": {},
   "outputs": [
    {
     "data": {
      "text/plain": [
       "181532158.17999998"
      ]
     },
     "execution_count": 41,
     "metadata": {},
     "output_type": "execute_result"
    }
   ],
   "source": [
    "data['valor'].sum()"
   ]
  },
  {
   "cell_type": "code",
   "execution_count": 42,
   "metadata": {},
   "outputs": [
    {
     "data": {
      "text/plain": [
       "5449632.13"
      ]
     },
     "execution_count": 42,
     "metadata": {},
     "output_type": "execute_result"
    }
   ],
   "source": [
    "data[(data['acesso']==1)].valor.sum()"
   ]
  },
  {
   "cell_type": "code",
   "execution_count": 43,
   "metadata": {},
   "outputs": [
    {
     "data": {
      "text/plain": [
       "455981.82999999996"
      ]
     },
     "execution_count": 43,
     "metadata": {},
     "output_type": "execute_result"
    }
   ],
   "source": [
    "data[(data['acordo']==1)].valor.sum()"
   ]
  },
  {
   "cell_type": "markdown",
   "metadata": {},
   "source": [
    "182 milhões de reais é o valor total da divida dos clientes. Uma média de 268,35 reais pro cliente. O valor mais alto é de 61952,93 reais.\n",
    "5,4 milhões de reais é o valor total da divida dos clientes que acessaram a plataforma.\n",
    "456 mil de reais é o valor total da divida dos clientes que fecharam acordo."
   ]
  },
  {
   "cell_type": "code",
   "execution_count": 44,
   "metadata": {},
   "outputs": [],
   "source": [
    "#data[data['valor']> 10000.00]"
   ]
  },
  {
   "cell_type": "markdown",
   "metadata": {},
   "source": [
    "15 pessoas possuem dividas superiores a 10k reais, o mais endividado é um homem de 40 anos, recebeu o primeiro disparo a 24 dias, está com a divida ativa a 4158 dias e recebe salário entre 2 e 4 SM."
   ]
  },
  {
   "cell_type": "markdown",
   "metadata": {},
   "source": [
    "Podemos visualizar a distribuição do valor da divida"
   ]
  },
  {
   "cell_type": "code",
   "execution_count": 45,
   "metadata": {
    "scrolled": false
   },
   "outputs": [
    {
     "data": {
      "text/plain": [
       "<matplotlib.axes._subplots.AxesSubplot at 0x138e8595388>"
      ]
     },
     "execution_count": 45,
     "metadata": {},
     "output_type": "execute_result"
    },
    {
     "data": {
      "image/png": "[encoded data removed]",
      "text/plain": [
       "<Figure size 432x288 with 1 Axes>"
      ]
     },
     "metadata": {
      "needs_background": "light"
     },
     "output_type": "display_data"
    }
   ],
   "source": [
    "bins = [0,10,20,30,40,50,100,200,300,400,500,600,700,800,900,1000,10000,100000]\n",
    "df = data.groupby(pd.cut(data['valor'], bins=bins)).valor.count()\n",
    "df.plot(kind='bar')"
   ]
  },
  {
   "cell_type": "markdown",
   "metadata": {},
   "source": [
    "Vamos transformar as variaveis categoricas com relaçoes lineares com label encoding, e as categoricas  mutualmente excludentes com one hot enconding. "
   ]
  },
  {
   "cell_type": "markdown",
   "metadata": {},
   "source": [
    "Uma observação: já pensando em aplicar algum modelo de árvore de classificação vou transformar os dados faltantes NaN em -999. Essa subtistuição é valida pois talvez podemos identificar um padrão nas entradas com NaN ao invés de simplismente descartar as entradas. O uso de valores numéricos longe do range dos valores numéricos das categorias (1 a 8) não altera o funcionamento dos modelos de árvore de classificação."
   ]
  },
  {
   "cell_type": "code",
   "execution_count": 46,
   "metadata": {},
   "outputs": [],
   "source": [
    "# normalize the categories\n",
    "categorias = {\n",
    "    \"A\":  8,\n",
    "    \"B\":  7,\n",
    "    \"C\":  6,\n",
    "    \"D\":  5,\n",
    "    \"E\":  4,\n",
    "    \"F\" : 3,\n",
    "    \"G\":  2,\n",
    "    \"H\":  1, \n",
    "}\n",
    "# map the normalized categories to the current categories\n",
    "data.compradoronline = data.compradoronline.map(categorias)\n",
    "# view value counts for the normalized titles\n",
    "#print(data.compradoronline.value_counts())"
   ]
  },
  {
   "cell_type": "code",
   "execution_count": 47,
   "metadata": {},
   "outputs": [],
   "source": [
    "# normalize the categories\n",
    "categorias = {\n",
    "    \"A\":  8,\n",
    "    \"B\":  7,\n",
    "    \"C\":  6,\n",
    "    \"D\":  5,\n",
    "    \"E\":  4,\n",
    "    \"F\" : 3,\n",
    "    \"G\":  2,\n",
    "    \"H\":  1, \n",
    "}\n",
    "# map the normalized categories to the current categories\n",
    "data.vendedoronline = data.vendedoronline.map(categorias)\n",
    "# view value counts for the normalized titles\n",
    "#print(data.compradoronline.value_counts())"
   ]
  },
  {
   "cell_type": "code",
   "execution_count": 48,
   "metadata": {},
   "outputs": [],
   "source": [
    "# normalize the categories\n",
    "categorias = {\n",
    "    \"A\":  8,\n",
    "    \"B\":  7,\n",
    "    \"C\":  6,\n",
    "    \"D\":  5,\n",
    "    \"E\":  4,\n",
    "    \"F\" : 3,\n",
    "    \"G\":  2,\n",
    "    \"H\":  1, \n",
    "}\n",
    "# map the normalized categories to the current categories\n",
    "data.utilizacaoweb = data.utilizacaoweb.map(categorias)\n",
    "# view value counts for the normalized titles\n",
    "#print(data.utilizacaoweb.value_counts())"
   ]
  },
  {
   "cell_type": "code",
   "execution_count": 49,
   "metadata": {},
   "outputs": [
    {
     "data": {
      "text/plain": [
       "array([nan, 'ATE 2 SM', '4 A 10 SM', '2 A 4 SM', 'ACIMA DE 20 SM',\n",
       "       '10 A 20 SM', 'DE 1 A 1,5 SM', 'SEM INFORMACAO', '1/2 A 1 SM'],\n",
       "      dtype=object)"
      ]
     },
     "execution_count": 49,
     "metadata": {},
     "output_type": "execute_result"
    }
   ],
   "source": [
    "data.rendaestimada.unique()"
   ]
  },
  {
   "cell_type": "code",
   "execution_count": 50,
   "metadata": {},
   "outputs": [
    {
     "name": "stdout",
     "output_type": "stream",
     "text": [
      " 3.0      379563\n",
      " 4.0       77324\n",
      " 5.0       41904\n",
      " 6.0        9888\n",
      " 7.0        5388\n",
      "-999.0        74\n",
      " 2.0          26\n",
      " 1.0           1\n",
      "Name: rendaestimada, dtype: int64\n"
     ]
    }
   ],
   "source": [
    "# normalize the categories\n",
    "categorias = {\n",
    "    \"1/2 A 1 SM\":  1,\n",
    "    \"DE 1 A 1,5 SM\" : 2,\n",
    "    \"ATE 2 SM\":  3,\n",
    "    \"2 A 4 SM\":  4,\n",
    "    \"4 A 10 SM\":  5,\n",
    "    \"10 A 20 SM\":  6,\n",
    "    \"ACIMA DE 20 SM\":  7,    \n",
    "    \"SEM INFORMACAO\": -999, \n",
    "}\n",
    "# map the normalized categories to the current categories\n",
    "data.rendaestimada = data.rendaestimada.map(categorias)\n",
    "# view value counts for the normalized titles\n",
    "print(data.rendaestimada.value_counts())"
   ]
  },
  {
   "cell_type": "markdown",
   "metadata": {},
   "source": [
    "Vamos substituir os NaN pela mesma label de \"SEM INFORMACAO\""
   ]
  },
  {
   "cell_type": "code",
   "execution_count": 51,
   "metadata": {},
   "outputs": [],
   "source": [
    "data['rendaestimada'] = data['rendaestimada'].fillna(-999)\n",
    "data['rendaestimada'] = data['rendaestimada'].astype(np.int64)"
   ]
  },
  {
   "cell_type": "markdown",
   "metadata": {},
   "source": [
    "One Hot encoding"
   ]
  },
  {
   "cell_type": "code",
   "execution_count": 52,
   "metadata": {},
   "outputs": [],
   "source": [
    "data_cat = data[['genero', 'operadora']]\n",
    "data_cat_encoded = pd.get_dummies(data_cat)\n",
    "data = data.join(data_cat_encoded)\n",
    "data.drop(['genero','operadora'], axis=1, inplace=True)"
   ]
  },
  {
   "cell_type": "markdown",
   "metadata": {},
   "source": [
    "**Idade** para int, mas antes vamos substituir os 2 numeros faltosos pela mediana"
   ]
  },
  {
   "cell_type": "code",
   "execution_count": 53,
   "metadata": {},
   "outputs": [],
   "source": [
    "data['idade'] = data['idade'].fillna(data['idade'].median())\n",
    "data['idade'] = data['idade'].apply(np.int64)"
   ]
  },
  {
   "cell_type": "markdown",
   "metadata": {},
   "source": [
    "Vamos deletar a coluna **sms_invalido** por não ter nenhuma entrada, talvez em alguma situação o sms pode ser classificado como invalido mas não afetará nossa análise. Para a produção podemos capturar o **sms_invalido** numa nova feature **sms_naorecebido**=**sms_invalido**+**sms_naoentregue**+**sms_rejeitado**"
   ]
  },
  {
   "cell_type": "code",
   "execution_count": 54,
   "metadata": {},
   "outputs": [],
   "source": [
    "data.drop('sms_invalido', axis=1, inplace=True)"
   ]
  },
  {
   "cell_type": "markdown",
   "metadata": {},
   "source": [
    "Vamos converter as datas de string para o formato de data"
   ]
  },
  {
   "cell_type": "code",
   "execution_count": 55,
   "metadata": {},
   "outputs": [],
   "source": [
    "data['datadisparo'] = pd.to_datetime(data['datadisparo'],dayfirst=True)\n",
    "data['data_atraso'] = pd.to_datetime(data['data_atraso'],dayfirst=True)\n",
    "data['data_maisrecente_acesso'] = pd.to_datetime(data['data_maisrecente_acesso'],dayfirst=True)\n",
    "data['data_maisantiga_acesso'] = pd.to_datetime(data['data_maisantiga_acesso'],dayfirst=True)"
   ]
  },
  {
   "cell_type": "code",
   "execution_count": 56,
   "metadata": {},
   "outputs": [
    {
     "name": "stdout",
     "output_type": "stream",
     "text": [
      "2020-06-15\n"
     ]
    }
   ],
   "source": [
    "hoje=pd.datetime.now().date()\n",
    "print(hoje)"
   ]
  },
  {
   "cell_type": "markdown",
   "metadata": {},
   "source": [
    "Vamos calcular o tempo que passou até a data atual das datas de referencia."
   ]
  },
  {
   "cell_type": "code",
   "execution_count": 57,
   "metadata": {},
   "outputs": [],
   "source": [
    "data['dias_disparo'] = hoje - pd.to_datetime(data['datadisparo']).dt.date\n",
    "data['dias_atraso'] = hoje - pd.to_datetime(data['data_atraso']).dt.date\n",
    "data['dias_maisrecente_acesso'] = hoje - pd.to_datetime(data['data_maisrecente_acesso']).dt.date\n",
    "data['dias_maisantiga_acesso'] = hoje - pd.to_datetime(data['data_maisantiga_acesso']).dt.date\n",
    "#data['intervalo_acessos']=pd.to_datetime(data['data_maisrecente_acesso']).dt.date-pd.to_datetime(data['data_maisantiga_acesso']).dt.date\n",
    "#data_diamesano=data\n",
    "data.drop(['datadisparo','data_atraso','data_maisrecente_acesso','data_maisantiga_acesso'],axis=1, inplace=True)"
   ]
  },
  {
   "cell_type": "code",
   "execution_count": 58,
   "metadata": {},
   "outputs": [],
   "source": [
    "data['dias_maisrecente_acesso']=data['dias_maisrecente_acesso'].map(lambda x: np.nan if pd.isnull(x) else x)\n",
    "data['dias_maisantiga_acesso'] =data['dias_maisantiga_acesso'].map(lambda x: np.nan if pd.isnull(x) else x)\n",
    "#data['intervalo_acessos']=data['intervalo_acessos'].map(lambda x: np.nan if pd.isnull(x) else x)"
   ]
  },
  {
   "cell_type": "code",
   "execution_count": 59,
   "metadata": {},
   "outputs": [],
   "source": [
    "data['dias_disparo'] = data['dias_disparo'].astype('timedelta64[D]')\n",
    "data['dias_atraso'] = data['dias_atraso'].astype('timedelta64[D]')\n",
    "data['dias_disparo'] = data['dias_disparo'].astype(np.int64)\n",
    "data['dias_atraso'] = data['dias_atraso'].astype(np.int64)\n",
    "data['dias_maisrecente_acesso']=data['dias_maisrecente_acesso'].astype('timedelta64[D]')\n",
    "data['dias_maisantiga_acesso']=data['dias_maisantiga_acesso'].astype('timedelta64[D]')\n",
    "#data['intervalo_acessos']=data['intervalo_acessos'].astype('timedelta64[D]')"
   ]
  },
  {
   "cell_type": "code",
   "execution_count": 60,
   "metadata": {},
   "outputs": [],
   "source": [
    "data['dias_maisrecente_acesso']=data['dias_maisrecente_acesso'].fillna(-999)\n",
    "data['dias_maisantiga_acesso']=data['dias_maisantiga_acesso'].fillna(-999)\n",
    "#data['intervalo_acessos']=data['intervalo_acessos'].fillna(-999)\n",
    "data['dias_maisrecente_acesso']=data['dias_maisrecente_acesso'].astype(np.int64)\n",
    "data['dias_maisantiga_acesso']=data['dias_maisantiga_acesso'].astype(np.int64)\n",
    "#data['intervalo_acessos']=data['intervalo_acessos'].astype(np.int64)"
   ]
  },
  {
   "cell_type": "code",
   "execution_count": 61,
   "metadata": {},
   "outputs": [
    {
     "name": "stdout",
     "output_type": "stream",
     "text": [
      "<class 'pandas.core.frame.DataFrame'>\n",
      "Int64Index: 676497 entries, 0 to 686382\n",
      "Data columns (total 28 columns):\n",
      " #   Column                   Non-Null Count   Dtype  \n",
      "---  ------                   --------------   -----  \n",
      " 0   ddd                      676497 non-null  int64  \n",
      " 1   sms_entregue             676497 non-null  int64  \n",
      " 2   sms_enviado              676497 non-null  int64  \n",
      " 3   sms_naoentregue          676497 non-null  int64  \n",
      " 4   sms_rejeitado            676497 non-null  int64  \n",
      " 5   valor                    676497 non-null  float64\n",
      " 6   qtd_hist_acessos         676497 non-null  int64  \n",
      " 7   sms_total_tent           676497 non-null  int64  \n",
      " 8   idade                    676497 non-null  int64  \n",
      " 9   compradoronline          676497 non-null  int64  \n",
      " 10  vendedoronline           676497 non-null  int64  \n",
      " 11  utilizacaoweb            676497 non-null  int64  \n",
      " 12  rendaestimada            676497 non-null  int64  \n",
      " 13  acesso                   676497 non-null  int64  \n",
      " 14  acordo                   676497 non-null  int64  \n",
      " 15  genero_F                 676497 non-null  uint8  \n",
      " 16  genero_M                 676497 non-null  uint8  \n",
      " 17  genero_U                 676497 non-null  uint8  \n",
      " 18  operadora_Claro          676497 non-null  uint8  \n",
      " 19  operadora_Nextel         676497 non-null  uint8  \n",
      " 20  operadora_Oi             676497 non-null  uint8  \n",
      " 21  operadora_Outros         676497 non-null  uint8  \n",
      " 22  operadora_Tim            676497 non-null  uint8  \n",
      " 23  operadora_Vivo           676497 non-null  uint8  \n",
      " 24  dias_disparo             676497 non-null  int64  \n",
      " 25  dias_atraso              676497 non-null  int64  \n",
      " 26  dias_maisrecente_acesso  676497 non-null  int64  \n",
      " 27  dias_maisantiga_acesso   676497 non-null  int64  \n",
      "dtypes: float64(1), int64(18), uint8(9)\n",
      "memory usage: 129.0 MB\n"
     ]
    }
   ],
   "source": [
    "data.info()"
   ]
  },
  {
   "cell_type": "code",
   "execution_count": 62,
   "metadata": {},
   "outputs": [
    {
     "data": {
      "text/html": [
       "<div>\n",
       "<style scoped>\n",
       "    .dataframe tbody tr th:only-of-type {\n",
       "        vertical-align: middle;\n",
       "    }\n",
       "\n",
       "    .dataframe tbody tr th {\n",
       "        vertical-align: top;\n",
       "    }\n",
       "\n",
       "    .dataframe thead th {\n",
       "        text-align: right;\n",
       "    }\n",
       "</style>\n",
       "<table border=\"1\" class=\"dataframe\">\n",
       "  <thead>\n",
       "    <tr style=\"text-align: right;\">\n",
       "      <th></th>\n",
       "      <th>Total</th>\n",
       "      <th>%</th>\n",
       "    </tr>\n",
       "  </thead>\n",
       "  <tbody>\n",
       "    <tr>\n",
       "      <th>dias_maisantiga_acesso</th>\n",
       "      <td>0</td>\n",
       "      <td>0.0</td>\n",
       "    </tr>\n",
       "    <tr>\n",
       "      <th>dias_maisrecente_acesso</th>\n",
       "      <td>0</td>\n",
       "      <td>0.0</td>\n",
       "    </tr>\n",
       "    <tr>\n",
       "      <th>sms_entregue</th>\n",
       "      <td>0</td>\n",
       "      <td>0.0</td>\n",
       "    </tr>\n",
       "    <tr>\n",
       "      <th>sms_enviado</th>\n",
       "      <td>0</td>\n",
       "      <td>0.0</td>\n",
       "    </tr>\n",
       "    <tr>\n",
       "      <th>sms_naoentregue</th>\n",
       "      <td>0</td>\n",
       "      <td>0.0</td>\n",
       "    </tr>\n",
       "    <tr>\n",
       "      <th>sms_rejeitado</th>\n",
       "      <td>0</td>\n",
       "      <td>0.0</td>\n",
       "    </tr>\n",
       "    <tr>\n",
       "      <th>valor</th>\n",
       "      <td>0</td>\n",
       "      <td>0.0</td>\n",
       "    </tr>\n",
       "    <tr>\n",
       "      <th>qtd_hist_acessos</th>\n",
       "      <td>0</td>\n",
       "      <td>0.0</td>\n",
       "    </tr>\n",
       "    <tr>\n",
       "      <th>sms_total_tent</th>\n",
       "      <td>0</td>\n",
       "      <td>0.0</td>\n",
       "    </tr>\n",
       "    <tr>\n",
       "      <th>idade</th>\n",
       "      <td>0</td>\n",
       "      <td>0.0</td>\n",
       "    </tr>\n",
       "    <tr>\n",
       "      <th>compradoronline</th>\n",
       "      <td>0</td>\n",
       "      <td>0.0</td>\n",
       "    </tr>\n",
       "    <tr>\n",
       "      <th>vendedoronline</th>\n",
       "      <td>0</td>\n",
       "      <td>0.0</td>\n",
       "    </tr>\n",
       "    <tr>\n",
       "      <th>utilizacaoweb</th>\n",
       "      <td>0</td>\n",
       "      <td>0.0</td>\n",
       "    </tr>\n",
       "    <tr>\n",
       "      <th>rendaestimada</th>\n",
       "      <td>0</td>\n",
       "      <td>0.0</td>\n",
       "    </tr>\n",
       "    <tr>\n",
       "      <th>acesso</th>\n",
       "      <td>0</td>\n",
       "      <td>0.0</td>\n",
       "    </tr>\n",
       "    <tr>\n",
       "      <th>acordo</th>\n",
       "      <td>0</td>\n",
       "      <td>0.0</td>\n",
       "    </tr>\n",
       "    <tr>\n",
       "      <th>genero_F</th>\n",
       "      <td>0</td>\n",
       "      <td>0.0</td>\n",
       "    </tr>\n",
       "    <tr>\n",
       "      <th>genero_M</th>\n",
       "      <td>0</td>\n",
       "      <td>0.0</td>\n",
       "    </tr>\n",
       "    <tr>\n",
       "      <th>genero_U</th>\n",
       "      <td>0</td>\n",
       "      <td>0.0</td>\n",
       "    </tr>\n",
       "    <tr>\n",
       "      <th>operadora_Claro</th>\n",
       "      <td>0</td>\n",
       "      <td>0.0</td>\n",
       "    </tr>\n",
       "    <tr>\n",
       "      <th>operadora_Nextel</th>\n",
       "      <td>0</td>\n",
       "      <td>0.0</td>\n",
       "    </tr>\n",
       "    <tr>\n",
       "      <th>operadora_Oi</th>\n",
       "      <td>0</td>\n",
       "      <td>0.0</td>\n",
       "    </tr>\n",
       "    <tr>\n",
       "      <th>operadora_Outros</th>\n",
       "      <td>0</td>\n",
       "      <td>0.0</td>\n",
       "    </tr>\n",
       "    <tr>\n",
       "      <th>operadora_Tim</th>\n",
       "      <td>0</td>\n",
       "      <td>0.0</td>\n",
       "    </tr>\n",
       "    <tr>\n",
       "      <th>operadora_Vivo</th>\n",
       "      <td>0</td>\n",
       "      <td>0.0</td>\n",
       "    </tr>\n",
       "    <tr>\n",
       "      <th>dias_disparo</th>\n",
       "      <td>0</td>\n",
       "      <td>0.0</td>\n",
       "    </tr>\n",
       "    <tr>\n",
       "      <th>dias_atraso</th>\n",
       "      <td>0</td>\n",
       "      <td>0.0</td>\n",
       "    </tr>\n",
       "    <tr>\n",
       "      <th>ddd</th>\n",
       "      <td>0</td>\n",
       "      <td>0.0</td>\n",
       "    </tr>\n",
       "  </tbody>\n",
       "</table>\n",
       "</div>"
      ],
      "text/plain": [
       "                         Total    %\n",
       "dias_maisantiga_acesso       0  0.0\n",
       "dias_maisrecente_acesso      0  0.0\n",
       "sms_entregue                 0  0.0\n",
       "sms_enviado                  0  0.0\n",
       "sms_naoentregue              0  0.0\n",
       "sms_rejeitado                0  0.0\n",
       "valor                        0  0.0\n",
       "qtd_hist_acessos             0  0.0\n",
       "sms_total_tent               0  0.0\n",
       "idade                        0  0.0\n",
       "compradoronline              0  0.0\n",
       "vendedoronline               0  0.0\n",
       "utilizacaoweb                0  0.0\n",
       "rendaestimada                0  0.0\n",
       "acesso                       0  0.0\n",
       "acordo                       0  0.0\n",
       "genero_F                     0  0.0\n",
       "genero_M                     0  0.0\n",
       "genero_U                     0  0.0\n",
       "operadora_Claro              0  0.0\n",
       "operadora_Nextel             0  0.0\n",
       "operadora_Oi                 0  0.0\n",
       "operadora_Outros             0  0.0\n",
       "operadora_Tim                0  0.0\n",
       "operadora_Vivo               0  0.0\n",
       "dias_disparo                 0  0.0\n",
       "dias_atraso                  0  0.0\n",
       "ddd                          0  0.0"
      ]
     },
     "execution_count": 62,
     "metadata": {},
     "output_type": "execute_result"
    }
   ],
   "source": [
    "total = data.isnull().sum().sort_values(ascending=False)\n",
    "percent_1 = data.isnull().sum()/data.isnull().count()*100\n",
    "percent_2 = (round(percent_1, 1)).sort_values(ascending=False)\n",
    "missing_data = pd.concat([total, percent_2], axis=1, keys=['Total', '%'])\n",
    "missing_data"
   ]
  },
  {
   "cell_type": "code",
   "execution_count": 63,
   "metadata": {},
   "outputs": [],
   "source": [
    "#data.describe()"
   ]
  },
  {
   "cell_type": "markdown",
   "metadata": {},
   "source": [
    "A média de dias de atraso da divida é de 1165 dias (3 anos), a divida mais antiga é de 1993, a média entre os acessos é de 3 dias"
   ]
  },
  {
   "cell_type": "code",
   "execution_count": 64,
   "metadata": {},
   "outputs": [],
   "source": [
    "#data[data['acesso']==1].count()\n",
    "#data[data['acordo']==1].count()\n",
    "#data[data['sms_rejeitado']>0].count()\n",
    "#data[(data['sms_rejeitado']>0) & (data['acesso']>0) ].count()\n",
    "#data[data['sms_rejeitado']>3]\n",
    "#data[(data['sms_rejeitado']>3) & (data['ddd']!=51)]\n",
    "#data[data['sms_rejeitado']>10]\n",
    "#data[(data['sms_rejeitado']>0) & (data['sms_entregue']>0)]\n",
    "#data[(data['acesso']==0) & (data['acordo']==1)]\n",
    "#data[(data['acesso']==1) & (data['qtd_hist_acessos']==0)].count()\n",
    "#data[(data['acesso']==1) & (data['qtd_hist_acessos']>0)].count()\n",
    "#data[(data['acesso']==1) & (data['sms_total_tent']==0)].count()\n",
    "#data[(data['acesso']==1) & (data['acordo']==1)]\n",
    "#data[(data['acesso']==1) & (data['sms_rejeitado']>0)]\n",
    "#data[data['sms_naoentregue']>0].count()\n",
    "#data[(data['acesso']==1) & (data['sms_naoentregue']>0)]\n",
    "#data[(data['acesso']==1) & (data['sms_naoentregue']>0) & (data['sms_entregue']>0)]\n",
    "#data[(data['sms_naoentregue']>0) & (data['sms_entregue']>0)]\n",
    "#data[(data['acesso']==1) & (data['sms_naoentregue']>0) & (data['sms_entregue']>0)].count()"
   ]
  },
  {
   "cell_type": "markdown",
   "metadata": {},
   "source": [
    "No nosso dataset sem duplicatas temos 18562 acessos e 2316 acordos"
   ]
  },
  {
   "cell_type": "markdown",
   "metadata": {},
   "source": [
    "Temos muitas colunas sobre sms, que podem ser condensadas através de feature engineering,vamos analisar.  "
   ]
  },
  {
   "cell_type": "markdown",
   "metadata": {},
   "source": [
    "Para futuros disparos sugiro adotar um limite para que o número da entrada seja marcado como invalido e retirado da ordem. >0, >2 ou >3 me parecem limites razoaveis. Para nosso caso vamos utilizar >0 como limite."
   ]
  },
  {
   "cell_type": "markdown",
   "metadata": {},
   "source": [
    "Nenhum **acordo** foi fechado sem **acesso**, o que é natural."
   ]
  },
  {
   "cell_type": "markdown",
   "metadata": {},
   "source": [
    "9414 acessos com **qtd_hist_acesso**==0,  9148 acessos com **qtd_hist_acessos**>0, nem todo acesso foi computado, mas das correlações **qtd_hist_acesso** e **acessos** são correlacionados."
   ]
  },
  {
   "cell_type": "markdown",
   "metadata": {},
   "source": [
    "4489 acessos com **sms_total_tent**==0, nem todo sms enviado foi computado "
   ]
  },
  {
   "cell_type": "markdown",
   "metadata": {},
   "source": [
    "Além disso, para o proximo disparo vamos retirar 2316 entradas que já fecharam **acordo**. Não vamos retira-los agora do dataset por que vamos utilizar esses dados para nosso modelo."
   ]
  },
  {
   "cell_type": "markdown",
   "metadata": {},
   "source": [
    "138512 entradas com **sms_naoentregue** > 0"
   ]
  },
  {
   "cell_type": "markdown",
   "metadata": {},
   "source": [
    "Parece haver inconsistências com as variaveis sms. E **qtd_hist_acesso** e **sms_total_tent** também aprensenta inconsistências mas vamos mante-la para o modelo por apresentarem correlação consideravel. Sugiro verificar como os dados estão sendo computados."
   ]
  },
  {
   "cell_type": "markdown",
   "metadata": {},
   "source": [
    "Vamos excluir as entradas que não chegam ao destinatário final e vamos trabalhar com as entradas com telefones válidos."
   ]
  },
  {
   "cell_type": "code",
   "execution_count": 65,
   "metadata": {},
   "outputs": [],
   "source": [
    "data=data[data['sms_rejeitado']==0]\n",
    "data.drop(['sms_rejeitado'], axis=1, inplace=True)\n",
    "data=data[data['sms_naoentregue']==0]\n",
    "data.drop(['sms_naoentregue'], axis=1, inplace=True)"
   ]
  },
  {
   "cell_type": "markdown",
   "metadata": {},
   "source": [
    "Como decidi considerar para reenvio de sms apenas os números válidos e excluir os números problemáticos, vamos dropar as variáveis **sms_entregue**, **sms_enviado** e utilizar **sms_total_tent** como nossa feature sms, e vamos supor que os outros números que ainda não confirmaram recebimento são números válidos."
   ]
  },
  {
   "cell_type": "code",
   "execution_count": 66,
   "metadata": {},
   "outputs": [],
   "source": [
    "data.drop(['sms_entregue','sms_enviado'], axis=1, inplace=True)"
   ]
  },
  {
   "cell_type": "code",
   "execution_count": 67,
   "metadata": {},
   "outputs": [],
   "source": [
    "#data[data['idade']>114].count()\n",
    "data.loc[data.idade > 114, 'idade'] = 114"
   ]
  },
  {
   "cell_type": "markdown",
   "metadata": {},
   "source": [
    "Temos 14 entradas com idade acima de 114 anos e vamos substitui-las por 114."
   ]
  },
  {
   "cell_type": "code",
   "execution_count": 68,
   "metadata": {},
   "outputs": [],
   "source": [
    "#data[data['idade']<18].count()\n",
    "data.loc[data.idade <18, 'idade'] = 18"
   ]
  },
  {
   "cell_type": "markdown",
   "metadata": {},
   "source": [
    "Temos 36 entradas com idade abaixo de 18 e vamos substitui-las por 18."
   ]
  },
  {
   "cell_type": "markdown",
   "metadata": {},
   "source": [
    "O dataset é referente a todos os clientes do parceiro, muitos dos quais receberam o primeiro disparo e ainda não foi computado a confirmação de recebimento do sms. Para que possamos aplicar os algoritmos de ML precisamos dos dados históricos. Para tal, vamos selecionar do dataset os clientes que tem **sms_total_tent** > 0. E vamos selecionar do dataset com os números válidos os números que ainda não fecharam acordo para prever para quem devemos mandar sms no próximo disparo."
   ]
  },
  {
   "cell_type": "code",
   "execution_count": 69,
   "metadata": {},
   "outputs": [],
   "source": [
    "data_historico = data[data['sms_total_tent']>0]\n",
    "data_test= data[data['acordo']==0]"
   ]
  },
  {
   "cell_type": "code",
   "execution_count": 70,
   "metadata": {},
   "outputs": [],
   "source": [
    "#data_hist.info()"
   ]
  },
  {
   "cell_type": "markdown",
   "metadata": {},
   "source": [
    "322433 clientes que às quais ja foram enviados pelo menos 1 sms"
   ]
  },
  {
   "cell_type": "code",
   "execution_count": 71,
   "metadata": {},
   "outputs": [],
   "source": [
    "#data_test.info()"
   ]
  },
  {
   "cell_type": "markdown",
   "metadata": {},
   "source": [
    "535613 clientes que não fecharam acordo ainda."
   ]
  },
  {
   "cell_type": "code",
   "execution_count": 72,
   "metadata": {},
   "outputs": [
    {
     "data": {
      "text/html": [
       "<div>\n",
       "<style scoped>\n",
       "    .dataframe tbody tr th:only-of-type {\n",
       "        vertical-align: middle;\n",
       "    }\n",
       "\n",
       "    .dataframe tbody tr th {\n",
       "        vertical-align: top;\n",
       "    }\n",
       "\n",
       "    .dataframe thead th {\n",
       "        text-align: right;\n",
       "    }\n",
       "</style>\n",
       "<table border=\"1\" class=\"dataframe\">\n",
       "  <thead>\n",
       "    <tr style=\"text-align: right;\">\n",
       "      <th></th>\n",
       "      <th>acesso</th>\n",
       "    </tr>\n",
       "  </thead>\n",
       "  <tbody>\n",
       "    <tr>\n",
       "      <th>acesso</th>\n",
       "      <td>1.000000</td>\n",
       "    </tr>\n",
       "    <tr>\n",
       "      <th>acordo</th>\n",
       "      <td>0.340287</td>\n",
       "    </tr>\n",
       "    <tr>\n",
       "      <th>qtd_hist_acessos</th>\n",
       "      <td>0.255136</td>\n",
       "    </tr>\n",
       "    <tr>\n",
       "      <th>dias_maisantiga_acesso</th>\n",
       "      <td>0.210226</td>\n",
       "    </tr>\n",
       "    <tr>\n",
       "      <th>dias_maisrecente_acesso</th>\n",
       "      <td>0.209706</td>\n",
       "    </tr>\n",
       "    <tr>\n",
       "      <th>dias_disparo</th>\n",
       "      <td>0.038260</td>\n",
       "    </tr>\n",
       "    <tr>\n",
       "      <th>idade</th>\n",
       "      <td>0.029937</td>\n",
       "    </tr>\n",
       "    <tr>\n",
       "      <th>rendaestimada</th>\n",
       "      <td>0.019248</td>\n",
       "    </tr>\n",
       "    <tr>\n",
       "      <th>valor</th>\n",
       "      <td>0.011370</td>\n",
       "    </tr>\n",
       "    <tr>\n",
       "      <th>dias_atraso</th>\n",
       "      <td>0.009570</td>\n",
       "    </tr>\n",
       "    <tr>\n",
       "      <th>operadora_Tim</th>\n",
       "      <td>0.007079</td>\n",
       "    </tr>\n",
       "    <tr>\n",
       "      <th>compradoronline</th>\n",
       "      <td>0.006896</td>\n",
       "    </tr>\n",
       "    <tr>\n",
       "      <th>utilizacaoweb</th>\n",
       "      <td>0.006518</td>\n",
       "    </tr>\n",
       "    <tr>\n",
       "      <th>ddd</th>\n",
       "      <td>0.006417</td>\n",
       "    </tr>\n",
       "    <tr>\n",
       "      <th>operadora_Oi</th>\n",
       "      <td>0.005218</td>\n",
       "    </tr>\n",
       "    <tr>\n",
       "      <th>operadora_Claro</th>\n",
       "      <td>0.003356</td>\n",
       "    </tr>\n",
       "    <tr>\n",
       "      <th>operadora_Outros</th>\n",
       "      <td>0.003021</td>\n",
       "    </tr>\n",
       "    <tr>\n",
       "      <th>sms_total_tent</th>\n",
       "      <td>0.002296</td>\n",
       "    </tr>\n",
       "    <tr>\n",
       "      <th>genero_U</th>\n",
       "      <td>0.001909</td>\n",
       "    </tr>\n",
       "    <tr>\n",
       "      <th>vendedoronline</th>\n",
       "      <td>0.001637</td>\n",
       "    </tr>\n",
       "    <tr>\n",
       "      <th>genero_F</th>\n",
       "      <td>0.001129</td>\n",
       "    </tr>\n",
       "    <tr>\n",
       "      <th>operadora_Vivo</th>\n",
       "      <td>0.000863</td>\n",
       "    </tr>\n",
       "    <tr>\n",
       "      <th>operadora_Nextel</th>\n",
       "      <td>0.000860</td>\n",
       "    </tr>\n",
       "    <tr>\n",
       "      <th>genero_M</th>\n",
       "      <td>0.000494</td>\n",
       "    </tr>\n",
       "  </tbody>\n",
       "</table>\n",
       "</div>"
      ],
      "text/plain": [
       "                           acesso\n",
       "acesso                   1.000000\n",
       "acordo                   0.340287\n",
       "qtd_hist_acessos         0.255136\n",
       "dias_maisantiga_acesso   0.210226\n",
       "dias_maisrecente_acesso  0.209706\n",
       "dias_disparo             0.038260\n",
       "idade                    0.029937\n",
       "rendaestimada            0.019248\n",
       "valor                    0.011370\n",
       "dias_atraso              0.009570\n",
       "operadora_Tim            0.007079\n",
       "compradoronline          0.006896\n",
       "utilizacaoweb            0.006518\n",
       "ddd                      0.006417\n",
       "operadora_Oi             0.005218\n",
       "operadora_Claro          0.003356\n",
       "operadora_Outros         0.003021\n",
       "sms_total_tent           0.002296\n",
       "genero_U                 0.001909\n",
       "vendedoronline           0.001637\n",
       "genero_F                 0.001129\n",
       "operadora_Vivo           0.000863\n",
       "operadora_Nextel         0.000860\n",
       "genero_M                 0.000494"
      ]
     },
     "execution_count": 72,
     "metadata": {},
     "output_type": "execute_result"
    }
   ],
   "source": [
    "pd.DataFrame(abs(data_historico.corr()['acesso']).sort_values(ascending = False))"
   ]
  },
  {
   "cell_type": "markdown",
   "metadata": {},
   "source": [
    "## Building Machine Learning Models\n"
   ]
  },
  {
   "cell_type": "markdown",
   "metadata": {},
   "source": [
    "Vimos que só houve acordo caso **acesso** == 1. O número de acordos é da ordem de 2000, comparado a 600000 clientes no dataset. Como acordo está correlacionado com acesso e muito fracamente relacionado com as outras variáveis, e temos mais informações de acessos, vamos otimizar nosso modelo de ML para acessos, esperando que assim aumentem o número de acordo.\n",
    "\n",
    "Apesar de termos mais informações sobre acessos, mesmo considerando apenas os dados históricos, ainda sofremos com o desbalanceamento de dados. Dentre das estratégias possíveis vamos utilizar a de **undersampling**, isto é, vamos utilizar todos os dados para acesso==1 e escolher aleatoriamente dados com acesso==0 até termos 50/50.\n",
    "\n",
    "Para nosso problema, é pior não mandar um sms para um cliente que acessaria a plataforma do que um sms para um cliente que vai ignorar o sms, vamos levar isso em conta em nossa análise de performance."
   ]
  },
  {
   "cell_type": "markdown",
   "metadata": {},
   "source": [
    "**Dealing with Unbalanced Data: Undersampling**"
   ]
  },
  {
   "cell_type": "code",
   "execution_count": 73,
   "metadata": {},
   "outputs": [
    {
     "name": "stdout",
     "output_type": "stream",
     "text": [
      "No. of 0's and 1's in the feature Class before undersampling the data\n",
      "0    308360\n",
      "1     14073\n",
      "Name: acesso, dtype: int64\n",
      "No. of 0's and 1's in the feature Class after undersampling the data\n",
      "1    14073\n",
      "0    14073\n",
      "Name: acesso, dtype: int64\n"
     ]
    }
   ],
   "source": [
    "from sklearn.utils import resample\n",
    "#from imblearn.under_sampling import NearMiss\n",
    "\n",
    "# copying the original data  \n",
    "resample_data = data_historico\n",
    "\n",
    "#Separate majority and minority classes\n",
    "print(\"No. of 0's and 1's in the feature Class before undersampling the data\")\n",
    "print(resample_data.acesso.value_counts())\n",
    "\n",
    "data_majority = resample_data[resample_data.acesso==0]\n",
    "data_minority = resample_data[resample_data.acesso==1]\n",
    " \n",
    "# Downsample majority class\n",
    "data_majority_undersampled = resample(data_majority, \n",
    "                                 replace=False,   \n",
    "                                 n_samples=14073,   \n",
    "                                 random_state=5) \n",
    " \n",
    "# Combine minority class with downsampled majority class\n",
    "data_undersampled = pd.concat([data_majority_undersampled, data_minority])\n",
    " \n",
    "# Display new class counts\n",
    "print(\"No. of 0's and 1's in the feature Class after undersampling the data\" )\n",
    "print(data_undersampled.acesso.value_counts())\n",
    "\n",
    "data_hist=data_undersampled"
   ]
  },
  {
   "cell_type": "markdown",
   "metadata": {},
   "source": [
    "**Data is ready for Machine Learning**"
   ]
  },
  {
   "cell_type": "code",
   "execution_count": 83,
   "metadata": {},
   "outputs": [],
   "source": [
    "# Algorithms\n",
    "from sklearn import linear_model\n",
    "from sklearn.linear_model import LogisticRegression\n",
    "from sklearn.ensemble import RandomForestClassifier\n",
    "from sklearn.linear_model import SGDClassifier\n",
    "from sklearn.tree import DecisionTreeClassifier\n",
    "from sklearn.neighbors import KNeighborsClassifier\n",
    "from sklearn.naive_bayes import GaussianNB"
   ]
  },
  {
   "cell_type": "code",
   "execution_count": 75,
   "metadata": {},
   "outputs": [],
   "source": [
    "from sklearn.model_selection import train_test_split\n",
    "\n",
    "target_acesso = data_hist['acesso']\n",
    "target_acordo = data_hist['acordo']\n",
    "predictors = data_hist.drop(['acesso','acordo'], axis=1)\n",
    "x_train, x_val, y_train, y_val = train_test_split(predictors, target_acesso, test_size = 0.2, random_state = 0)"
   ]
  },
  {
   "cell_type": "code",
   "execution_count": 76,
   "metadata": {},
   "outputs": [
    {
     "name": "stdout",
     "output_type": "stream",
     "text": [
      "64.21\n"
     ]
    }
   ],
   "source": [
    "#DecisionTree\n",
    "from sklearn.tree import DecisionTreeClassifier\n",
    "from sklearn.metrics import accuracy_score\n",
    "\n",
    "decisiontree = DecisionTreeClassifier()\n",
    "decisiontree.fit(x_train, y_train)\n",
    "y_pred = decisiontree.predict(x_val)\n",
    "acc_decisiontree = round(accuracy_score(y_pred, y_val) * 100, 2)\n",
    "print(acc_decisiontree)"
   ]
  },
  {
   "cell_type": "code",
   "execution_count": 77,
   "metadata": {},
   "outputs": [
    {
     "data": {
      "image/png": "[encoded data removed]",
      "text/plain": [
       "<Figure size 1440x720 with 1 Axes>"
      ]
     },
     "metadata": {
      "needs_background": "light"
     },
     "output_type": "display_data"
    }
   ],
   "source": [
    "importances = decisiontree.feature_importances_\n",
    "# Sort feature importances in descending order\n",
    "indices = np.argsort(importances)[::-1]\n",
    "features = predictors.columns\n",
    "\n",
    "plt.figure(figsize=(20,10))\n",
    "plt.title('Feature Importances')\n",
    "plt.barh(range(len(indices)), importances[indices], color='b', align='center')\n",
    "plt.yticks(range(len(indices)), [features[i] for i in indices])\n",
    "plt.xlabel('Relative Importance')\n",
    "plt.show()"
   ]
  },
  {
   "cell_type": "markdown",
   "metadata": {},
   "source": [
    "Operadoras e genero tem uma relative importance baixos, vamos elimina-los."
   ]
  },
  {
   "cell_type": "code",
   "execution_count": 78,
   "metadata": {},
   "outputs": [
    {
     "name": "stdout",
     "output_type": "stream",
     "text": [
      "61.07\n"
     ]
    }
   ],
   "source": [
    "#Stochastic Gradient Descent (SGD)\n",
    "sgd = linear_model.SGDClassifier(max_iter=5, tol=None)\n",
    "sgd.fit(x_train, y_train)\n",
    "y_pred = sgd.predict(x_val)\n",
    "sgd.score(x_train, y_train)\n",
    "acc_sgd = round(accuracy_score(y_pred, y_val) * 100, 2)\n",
    "print(acc_sgd)"
   ]
  },
  {
   "cell_type": "code",
   "execution_count": 84,
   "metadata": {},
   "outputs": [
    {
     "name": "stdout",
     "output_type": "stream",
     "text": [
      "61.07\n"
     ]
    }
   ],
   "source": [
    "#Random Forest\n",
    "random_forest = RandomForestClassifier(n_estimators=100)\n",
    "random_forest.fit(x_train, y_train)\n",
    "\n",
    "Y_prediction = random_forest.predict(x_val)\n",
    "\n",
    "random_forest.score(x_train, y_train)\n",
    "acc_rf = round(accuracy_score(y_pred, y_val) * 100, 2)\n",
    "print(acc_rf)"
   ]
  },
  {
   "cell_type": "code",
   "execution_count": 85,
   "metadata": {},
   "outputs": [
    {
     "name": "stdout",
     "output_type": "stream",
     "text": [
      "71.58\n"
     ]
    }
   ],
   "source": [
    "#logistic regression\n",
    "logreg = LogisticRegression()\n",
    "logreg.fit(x_train, y_train)\n",
    "\n",
    "y_pred = logreg.predict(x_val)\n",
    "\n",
    "acc_log = round(accuracy_score(y_pred, y_val) * 100, 2)\n",
    "print(acc_log)"
   ]
  },
  {
   "cell_type": "code",
   "execution_count": 86,
   "metadata": {},
   "outputs": [
    {
     "name": "stdout",
     "output_type": "stream",
     "text": [
      "66.0\n"
     ]
    }
   ],
   "source": [
    "#KNN\n",
    "knn = KNeighborsClassifier(n_neighbors = 3)\n",
    "knn.fit(x_train, y_train)  \n",
    "y_pred = knn.predict(x_val)  \n",
    "acc_knn = round(accuracy_score(y_pred, y_val) * 100, 2)\n",
    "print(acc_knn)"
   ]
  },
  {
   "cell_type": "code",
   "execution_count": 87,
   "metadata": {},
   "outputs": [
    {
     "name": "stdout",
     "output_type": "stream",
     "text": [
      "71.56\n"
     ]
    }
   ],
   "source": [
    "#Probabilistic classification Gaussian Naive Bayes\n",
    "gaussian = GaussianNB() \n",
    "gaussian.fit(x_train, y_train)  \n",
    "y_pred = gaussian.predict(x_val)  \n",
    "acc_gaussian = round(accuracy_score(y_pred, y_val) * 100, 2)\n",
    "print(acc_gaussian)"
   ]
  },
  {
   "cell_type": "code",
   "execution_count": 88,
   "metadata": {},
   "outputs": [
    {
     "data": {
      "text/html": [
       "<div>\n",
       "<style scoped>\n",
       "    .dataframe tbody tr th:only-of-type {\n",
       "        vertical-align: middle;\n",
       "    }\n",
       "\n",
       "    .dataframe tbody tr th {\n",
       "        vertical-align: top;\n",
       "    }\n",
       "\n",
       "    .dataframe thead th {\n",
       "        text-align: right;\n",
       "    }\n",
       "</style>\n",
       "<table border=\"1\" class=\"dataframe\">\n",
       "  <thead>\n",
       "    <tr style=\"text-align: right;\">\n",
       "      <th></th>\n",
       "      <th>Model</th>\n",
       "    </tr>\n",
       "    <tr>\n",
       "      <th>Score</th>\n",
       "      <th></th>\n",
       "    </tr>\n",
       "  </thead>\n",
       "  <tbody>\n",
       "    <tr>\n",
       "      <th>71.58</th>\n",
       "      <td>logistic regression</td>\n",
       "    </tr>\n",
       "    <tr>\n",
       "      <th>71.56</th>\n",
       "      <td>Gaussian Naive Bayes</td>\n",
       "    </tr>\n",
       "    <tr>\n",
       "      <th>66.00</th>\n",
       "      <td>KNN</td>\n",
       "    </tr>\n",
       "    <tr>\n",
       "      <th>64.21</th>\n",
       "      <td>DecisionTree</td>\n",
       "    </tr>\n",
       "    <tr>\n",
       "      <th>61.07</th>\n",
       "      <td>Stochastic Gradient Descent (SGD)</td>\n",
       "    </tr>\n",
       "    <tr>\n",
       "      <th>61.07</th>\n",
       "      <td>Random Forest</td>\n",
       "    </tr>\n",
       "  </tbody>\n",
       "</table>\n",
       "</div>"
      ],
      "text/plain": [
       "                                   Model\n",
       "Score                                   \n",
       "71.58                logistic regression\n",
       "71.56               Gaussian Naive Bayes\n",
       "66.00                                KNN\n",
       "64.21                       DecisionTree\n",
       "61.07  Stochastic Gradient Descent (SGD)\n",
       "61.07                      Random Forest"
      ]
     },
     "execution_count": 88,
     "metadata": {},
     "output_type": "execute_result"
    }
   ],
   "source": [
    "results = pd.DataFrame({\n",
    "    'Model': ['DecisionTree','Stochastic Gradient Descent (SGD)','Random Forest','logistic regression','KNN','Gaussian Naive Bayes'],\n",
    "    'Score': [acc_decisiontree,acc_sgd,acc_rf,acc_log,acc_knn,acc_gaussian]})\n",
    "result_df = results.sort_values(by='Score', ascending=False)\n",
    "result_df = result_df.set_index('Score')\n",
    "result_df"
   ]
  },
  {
   "cell_type": "markdown",
   "metadata": {},
   "source": [
    "Vamos elimiar as features com baixa importance e retreinar o modelo com melhor performance."
   ]
  },
  {
   "cell_type": "code",
   "execution_count": 89,
   "metadata": {},
   "outputs": [],
   "source": [
    "data_hist=data_hist.drop(['operadora_Claro','operadora_Nextel','operadora_Oi','operadora_Outros','operadora_Tim','operadora_Vivo','genero_F', 'genero_M', 'genero_U'], axis=1)\n",
    "data_test=data_test.drop(['operadora_Claro','operadora_Nextel','operadora_Oi','operadora_Outros','operadora_Tim','operadora_Vivo','genero_F', 'genero_M', 'genero_U'], axis=1)"
   ]
  },
  {
   "cell_type": "code",
   "execution_count": 90,
   "metadata": {},
   "outputs": [],
   "source": [
    "predictors = data_hist\n",
    "x_train, x_val, y_train, y_val = train_test_split(predictors, target_acesso, test_size = 0.2, random_state = 0)"
   ]
  },
  {
   "cell_type": "code",
   "execution_count": 91,
   "metadata": {},
   "outputs": [
    {
     "name": "stdout",
     "output_type": "stream",
     "text": [
      "84.14\n"
     ]
    }
   ],
   "source": [
    "#logistic regression\n",
    "logreg = LogisticRegression()\n",
    "logreg.fit(x_train, y_train)\n",
    "\n",
    "y_pred = logreg.predict(x_val)\n",
    "\n",
    "acc_log = round(accuracy_score(y_pred, y_val) * 100, 2)\n",
    "print(acc_log)"
   ]
  },
  {
   "cell_type": "markdown",
   "metadata": {},
   "source": [
    "**K-Fold Cross Validation**"
   ]
  },
  {
   "cell_type": "markdown",
   "metadata": {},
   "source": [
    "Vamos calcular o score para 5 K-Fold CV"
   ]
  },
  {
   "cell_type": "code",
   "execution_count": 92,
   "metadata": {},
   "outputs": [
    {
     "name": "stdout",
     "output_type": "stream",
     "text": [
      "Scores: [0.77109236 0.79635798 0.81434599 0.82989118 0.81345769]\n",
      "Mean: 0.8050290431995405\n",
      "Standard Deviation: 0.02001429142593686\n"
     ]
    }
   ],
   "source": [
    "from sklearn.model_selection import cross_val_score\n",
    "\n",
    "logreg = LogisticRegression()\n",
    "scores = cross_val_score(logreg, x_train, y_train, cv=5, scoring = \"accuracy\")\n",
    "print(\"Scores:\", scores)\n",
    "print(\"Mean:\", scores.mean())\n",
    "print(\"Standard Deviation:\", scores.std())"
   ]
  },
  {
   "cell_type": "markdown",
   "metadata": {},
   "source": [
    "Desempenho médio de 81%"
   ]
  },
  {
   "cell_type": "code",
   "execution_count": 93,
   "metadata": {},
   "outputs": [
    {
     "data": {
      "text/plain": [
       "array([[9799, 1502],\n",
       "       [2707, 8508]], dtype=int64)"
      ]
     },
     "execution_count": 93,
     "metadata": {},
     "output_type": "execute_result"
    }
   ],
   "source": [
    "from sklearn.model_selection import cross_val_predict\n",
    "from sklearn.metrics import confusion_matrix\n",
    "predictions = cross_val_predict(logreg, x_train, y_train, cv=3)\n",
    "confusion_matrix(y_train, predictions)"
   ]
  },
  {
   "cell_type": "markdown",
   "metadata": {},
   "source": [
    "Onde: linhas verdade, colunas predição\n",
    "linha 1: True Positives,False Positives.\n",
    "linha 2: False Negatives,True Negatives."
   ]
  },
  {
   "cell_type": "code",
   "execution_count": 94,
   "metadata": {},
   "outputs": [
    {
     "name": "stdout",
     "output_type": "stream",
     "text": [
      "Precision: 0.84995004995005\n",
      "Recall: 0.7586268390548373\n"
     ]
    }
   ],
   "source": [
    "from sklearn.metrics import precision_score, recall_score\n",
    "\n",
    "print(\"Precision:\", precision_score(y_train, predictions))\n",
    "print(\"Recall:\",recall_score(y_train, predictions))"
   ]
  },
  {
   "cell_type": "code",
   "execution_count": 95,
   "metadata": {},
   "outputs": [
    {
     "data": {
      "text/plain": [
       "0.801696113074205"
      ]
     },
     "execution_count": 95,
     "metadata": {},
     "output_type": "execute_result"
    }
   ],
   "source": [
    "from sklearn.metrics import f1_score\n",
    "f1_score(y_train, predictions)"
   ]
  },
  {
   "cell_type": "code",
   "execution_count": 97,
   "metadata": {},
   "outputs": [
    {
     "data": {
      "image/png": "[encoded data removed]",
      "text/plain": [
       "<Figure size 1008x504 with 1 Axes>"
      ]
     },
     "metadata": {
      "needs_background": "light"
     },
     "output_type": "display_data"
    }
   ],
   "source": [
    "from sklearn.metrics import precision_recall_curve\n",
    "\n",
    "logreg.fit(x_train, y_train)\n",
    "y_pred = logreg.predict(x_val)\n",
    "\n",
    "# getting the probabilities of our predictions\n",
    "y_scores = logreg.predict_proba(x_train)\n",
    "y_scores = y_scores[:,1]\n",
    "\n",
    "precision, recall, threshold = precision_recall_curve(y_train, y_scores)\n",
    "def plot_precision_and_recall(precision, recall, threshold):\n",
    "    plt.plot(threshold, precision[:-1], \"r-\", label=\"precision\", linewidth=5)\n",
    "    plt.plot(threshold, recall[:-1], \"b\", label=\"recall\", linewidth=5)\n",
    "    plt.xlabel(\"threshold\", fontsize=19)\n",
    "    plt.legend(loc=\"upper right\", fontsize=19)\n",
    "    plt.ylim([0, 1])\n",
    "\n",
    "plt.figure(figsize=(14, 7))\n",
    "plot_precision_and_recall(precision, recall, threshold)\n",
    "plt.show()"
   ]
  },
  {
   "cell_type": "markdown",
   "metadata": {},
   "source": [
    "No nosso caso recall é mais importante, queros aumentar o número de true positives mesmo que nisso sejam incluidos falsos positivos."
   ]
  },
  {
   "cell_type": "code",
   "execution_count": 98,
   "metadata": {},
   "outputs": [
    {
     "data": {
      "image/png": "[encoded data removed]",
      "text/plain": [
       "<Figure size 1008x504 with 1 Axes>"
      ]
     },
     "metadata": {
      "needs_background": "light"
     },
     "output_type": "display_data"
    }
   ],
   "source": [
    "from sklearn.metrics import roc_curve\n",
    "# compute true positive rate and false positive rate\n",
    "false_positive_rate, true_positive_rate, thresholds = roc_curve(y_train, y_scores)\n",
    "# plotting them against each other\n",
    "def plot_roc_curve(false_positive_rate, true_positive_rate, label=None):\n",
    "    plt.plot(false_positive_rate, true_positive_rate, linewidth=2, label=label)\n",
    "    plt.plot([0, 1], [0, 1], 'r', linewidth=4)\n",
    "    plt.axis([0, 1, 0, 1])\n",
    "    plt.xlabel('False Positive Rate (FPR)', fontsize=16)\n",
    "    plt.ylabel('True Positive Rate (TPR)', fontsize=16)\n",
    "\n",
    "plt.figure(figsize=(14, 7))\n",
    "plot_roc_curve(false_positive_rate, true_positive_rate)\n",
    "plt.show()"
   ]
  },
  {
   "cell_type": "markdown",
   "metadata": {},
   "source": [
    "A linha vermelha é totalmente aleatório, i.e. lançamento de moeda e a linha azul é nosso modelo."
   ]
  },
  {
   "cell_type": "code",
   "execution_count": 99,
   "metadata": {},
   "outputs": [
    {
     "name": "stdout",
     "output_type": "stream",
     "text": [
      "ROC-AUC-Score: 0.8817526790818562\n"
     ]
    }
   ],
   "source": [
    "from sklearn.metrics import roc_auc_score\n",
    "r_a_score = roc_auc_score(y_train, y_scores)\n",
    "print(\"ROC-AUC-Score:\", r_a_score)"
   ]
  },
  {
   "cell_type": "markdown",
   "metadata": {},
   "source": [
    "**Time to predict**"
   ]
  },
  {
   "cell_type": "markdown",
   "metadata": {},
   "source": [
    "Para prever nosso resultado vamos considerar que entre um disparo e outro passam-se 15 dias e vamos atualizar o número de **sms_total_tent**. Vamos prever nosso output como probabilidade."
   ]
  },
  {
   "cell_type": "code",
   "execution_count": 100,
   "metadata": {},
   "outputs": [],
   "source": [
    "data_test['dias_disparo']=15\n",
    "data_test['sms_total_tent']=data_test['sms_total_tent']+1"
   ]
  },
  {
   "cell_type": "code",
   "execution_count": 101,
   "metadata": {},
   "outputs": [],
   "source": [
    "predictions = logreg.predict_proba(data_test)[:,1]"
   ]
  },
  {
   "cell_type": "code",
   "execution_count": 102,
   "metadata": {},
   "outputs": [],
   "source": [
    "previsao = pd.DataFrame({ 'Cliente' : data_test.index, 'previsao_acesso': predictions.astype('float64') })\n",
    "#previsao.to_csv('previsao.csv', index=False)"
   ]
  },
  {
   "cell_type": "code",
   "execution_count": 103,
   "metadata": {},
   "outputs": [
    {
     "data": {
      "text/html": [
       "<div>\n",
       "<style scoped>\n",
       "    .dataframe tbody tr th:only-of-type {\n",
       "        vertical-align: middle;\n",
       "    }\n",
       "\n",
       "    .dataframe tbody tr th {\n",
       "        vertical-align: top;\n",
       "    }\n",
       "\n",
       "    .dataframe thead th {\n",
       "        text-align: right;\n",
       "    }\n",
       "</style>\n",
       "<table border=\"1\" class=\"dataframe\">\n",
       "  <thead>\n",
       "    <tr style=\"text-align: right;\">\n",
       "      <th></th>\n",
       "      <th>Cliente</th>\n",
       "      <th>previsao_acesso</th>\n",
       "    </tr>\n",
       "  </thead>\n",
       "  <tbody>\n",
       "    <tr>\n",
       "      <th>0</th>\n",
       "      <td>0</td>\n",
       "      <td>0.250848</td>\n",
       "    </tr>\n",
       "    <tr>\n",
       "      <th>1</th>\n",
       "      <td>1</td>\n",
       "      <td>0.069189</td>\n",
       "    </tr>\n",
       "    <tr>\n",
       "      <th>2</th>\n",
       "      <td>2</td>\n",
       "      <td>0.188280</td>\n",
       "    </tr>\n",
       "    <tr>\n",
       "      <th>3</th>\n",
       "      <td>3</td>\n",
       "      <td>0.304674</td>\n",
       "    </tr>\n",
       "    <tr>\n",
       "      <th>4</th>\n",
       "      <td>6</td>\n",
       "      <td>0.232820</td>\n",
       "    </tr>\n",
       "    <tr>\n",
       "      <th>...</th>\n",
       "      <td>...</td>\n",
       "      <td>...</td>\n",
       "    </tr>\n",
       "    <tr>\n",
       "      <th>535608</th>\n",
       "      <td>686373</td>\n",
       "      <td>0.134401</td>\n",
       "    </tr>\n",
       "    <tr>\n",
       "      <th>535609</th>\n",
       "      <td>686378</td>\n",
       "      <td>0.144954</td>\n",
       "    </tr>\n",
       "    <tr>\n",
       "      <th>535610</th>\n",
       "      <td>686380</td>\n",
       "      <td>0.065391</td>\n",
       "    </tr>\n",
       "    <tr>\n",
       "      <th>535611</th>\n",
       "      <td>686381</td>\n",
       "      <td>0.293058</td>\n",
       "    </tr>\n",
       "    <tr>\n",
       "      <th>535612</th>\n",
       "      <td>686382</td>\n",
       "      <td>0.262601</td>\n",
       "    </tr>\n",
       "  </tbody>\n",
       "</table>\n",
       "<p>535613 rows × 2 columns</p>\n",
       "</div>"
      ],
      "text/plain": [
       "        Cliente  previsao_acesso\n",
       "0             0         0.250848\n",
       "1             1         0.069189\n",
       "2             2         0.188280\n",
       "3             3         0.304674\n",
       "4             6         0.232820\n",
       "...         ...              ...\n",
       "535608   686373         0.134401\n",
       "535609   686378         0.144954\n",
       "535610   686380         0.065391\n",
       "535611   686381         0.293058\n",
       "535612   686382         0.262601\n",
       "\n",
       "[535613 rows x 2 columns]"
      ]
     },
     "execution_count": 103,
     "metadata": {},
     "output_type": "execute_result"
    }
   ],
   "source": [
    "previsao[(previsao['previsao_acesso']>0)]"
   ]
  },
  {
   "cell_type": "code",
   "execution_count": 104,
   "metadata": {},
   "outputs": [
    {
     "data": {
      "image/png": "[encoded data removed]",
      "text/plain": [
       "<Figure size 432x288 with 1 Axes>"
      ]
     },
     "metadata": {
      "needs_background": "light"
     },
     "output_type": "display_data"
    }
   ],
   "source": [
    "bins= [0.1,0.2,0.3,0.4,0.5,0.6,0.7,0.8,0.9,1]\n",
    "plt.hist(previsao['previsao_acesso'], bins=bins, edgecolor=\"k\")\n",
    "plt.xticks(bins)\n",
    "plt.show()"
   ]
  },
  {
   "cell_type": "code",
   "execution_count": 107,
   "metadata": {},
   "outputs": [
    {
     "data": {
      "text/plain": [
       "previsao_acesso\n",
       "(0.0, 0.1]    144927\n",
       "(0.1, 0.2]    122613\n",
       "(0.2, 0.3]    151905\n",
       "(0.3, 0.4]     74034\n",
       "(0.4, 0.5]     13286\n",
       "(0.5, 0.6]      6194\n",
       "(0.6, 0.7]      4916\n",
       "(0.7, 0.8]      3214\n",
       "(0.8, 0.9]      3428\n",
       "(0.9, 1.0]     11096\n",
       "Name: previsao_acesso, dtype: int64"
      ]
     },
     "execution_count": 107,
     "metadata": {},
     "output_type": "execute_result"
    }
   ],
   "source": [
    "previsao['previsao_acesso'].groupby(pd.cut(previsao['previsao_acesso'], np.arange(0, 1.1, 0.1))).count()"
   ]
  },
  {
   "cell_type": "code",
   "execution_count": 106,
   "metadata": {},
   "outputs": [],
   "source": [
    "#previsao[(previsao['previsao_acesso']>0.3)]\n",
    "#previsao[(previsao['previsao_acesso']>0.5)]\n",
    "#previsao[(previsao['previsao_acesso']>0.8)]"
   ]
  },
  {
   "cell_type": "markdown",
   "metadata": {},
   "source": [
    "42220 clientes que nosso modelo calculou tem mais de 50% de chance de acessar a plataforma e 16808 com 80% de chance e 116168 com 30% de chance de acesso após 15 dias de um novo envio. Como o output é um probabilidade, podemos escolher de acordo com a probabilidade, ou orderar e escolher os n melhores valores de acordo com nosso orçamento e numero total de sms a serem mandados."
   ]
  },
  {
   "cell_type": "markdown",
   "metadata": {},
   "source": [
    "**Conclusão**"
   ]
  },
  {
   "cell_type": "markdown",
   "metadata": {},
   "source": [
    "Através da EDA, conhecemos o perfil dos clientes, dos que acessam e fecham acordo,<br>\n",
    "o valor total das dívidas à serem negociadas,<br>\n",
    "as principais operadoras com as quais podemos buscar diminuir o custo unitário do sms,<br>\n",
    "identificamos pontos a serem melhorados no dataset,<br>\n",
    "e implementamos um modelo pensado para ser reusado sempre que necessário, que nos auxilie na seleção dos que devem receber o sms no próximo disparo.\n",
    "\n",
    "Próximo passo:\n",
    "\n",
    "Calibrar os hiperparametros do modelo<br>\n",
    "Explorar outras soluções para desbalanceamento de dados<br>\n",
    "Testar para outros algoritmos como redes neurais<br>\n",
    "Melhorar a qualidade dos dados do dataset<br>\n",
    "Atualizar os dados com as confirmações dos sms do último disparo<br>\n",
    "Buscar mais dados seja nos dados históricos antigos, seja nos dados atualizados, seja usando os dados dos outros parceiros.<br>"
   ]
  }
 ],
 "metadata": {
  "kernelspec": {
   "display_name": "Python 3",
   "language": "python",
   "name": "python3"
  },
  "language_info": {
   "codemirror_mode": {
    "name": "ipython",
    "version": 3
   },
   "file_extension": ".py",
   "mimetype": "text/x-python",
   "name": "python",
   "nbconvert_exporter": "python",
   "pygments_lexer": "ipython3",
   "version": "3.7.6"
  }
 },
 "nbformat": 4,
 "nbformat_minor": 2
}