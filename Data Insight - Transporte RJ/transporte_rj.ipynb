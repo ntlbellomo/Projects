{
 "cells": [
  {
   "cell_type": "code",
   "execution_count": null,
   "metadata": {},
   "outputs": [],
   "source": [
    "Os dados desse estudo foram obtidos no data.rio , site da prefeitura do Rio de Janeiro. O   data.rio é composto por um vasto acervo de informações do Armazém de Dados, como mapas, tabelas e aplicações SIG Web melhorando e facilitando a administração da cidade, além de garantir maior visibilidade e interação com a população.\n",
    "\n",
    "O data.rio é parte modelo de planejamento e gestão da informação pública da Prefeitura Municipal do Rio de Janeiro, iniciado em 2014 pela normatização do Sistema de Informações Urbanas (SIURB).\n",
    "\n",
    "Para esse estudo inicial foi utilizada a 'Tabela 728 - Movimento médio diário de passageiros, segundo os transportes rodoviário, ferroviário, hidroviário e aeroviário no Município do Rio de Janeiro entre 1995-2019' disponível em .xsl (excel) no site data.rio na aba 'Transporte'.\n",
    "\n",
    "Fonte: Superintendência Municipal de Transportes Urbanos - SMTU; Companhia do Metropolitano do Rio de Janeiro - Metrô-RJ; Opportrans Concessão Metroviária S.A.- METRÔ RIO; Companhia Fluminense de Trens Urbanos –  Flumitrens; SuperVia S.A.; Transporte Marítimo e Turismo S.A.- TRANSTUR; Barcas S.A.; Companhia de Navegação do Estado do Rio de Janeiro - CONERJ; Empresa Brasileira de Infraestrutura Aeroportuária - INFRAERO.\t\t\t\t\t\n",
    "Notas:\t\t\t\t\t\n",
    "Os bondes de Santa Teresa pararam de circular, em agosto de 2011, por causa de um grave acidente, voltando a funcionar em julho de 2015.\t\t\t\t\t\n",
    "... Dado numérico não disponível.\t\t\t\t\t\n",
    "\n",
    "No excel,"
   ]
  },
  {
   "cell_type": "code",
   "execution_count": 18,
   "metadata": {},
   "outputs": [],
   "source": [
    "#importing the libraries\n",
    "import pandas as pd\n",
    "\n",
    "# data visualization\n",
    "import seaborn as sns\n",
    "sns.set(style=\"white\")\n",
    "%matplotlib inline\n",
    "from matplotlib import pyplot as plt\n",
    "from matplotlib import style"
   ]
  },
  {
   "cell_type": "code",
   "execution_count": 19,
   "metadata": {},
   "outputs": [],
   "source": [
    "#Getting the data\n",
    "dados = pd.read_csv(\"Movimento_medio_transporte_RJ.csv\")"
   ]
  },
  {
   "cell_type": "code",
   "execution_count": 20,
   "metadata": {},
   "outputs": [
    {
     "output_type": "execute_result",
     "data": {
      "text/plain": "    Ano   Onibus  Metrô  Trem Bonde  Hidroviário  Aeroviário\n0  1995    3 292    323   266   0,3           71          18\n1  1996    3 261    352   223   0,2           74          19\n2  1997    3 222    269   158   0,4           73          23\n3  1998    3 242    358   130   0,5           67          25\n4  1999    2 968    399   175   0,8           67          26",
      "text/html": "<div>\n<style scoped>\n    .dataframe tbody tr th:only-of-type {\n        vertical-align: middle;\n    }\n\n    .dataframe tbody tr th {\n        vertical-align: top;\n    }\n\n    .dataframe thead th {\n        text-align: right;\n    }\n</style>\n<table border=\"1\" class=\"dataframe\">\n  <thead>\n    <tr style=\"text-align: right;\">\n      <th></th>\n      <th>Ano</th>\n      <th>Onibus</th>\n      <th>Metrô</th>\n      <th>Trem</th>\n      <th>Bonde</th>\n      <th>Hidroviário</th>\n      <th>Aeroviário</th>\n    </tr>\n  </thead>\n  <tbody>\n    <tr>\n      <th>0</th>\n      <td>1995</td>\n      <td>3 292</td>\n      <td>323</td>\n      <td>266</td>\n      <td>0,3</td>\n      <td>71</td>\n      <td>18</td>\n    </tr>\n    <tr>\n      <th>1</th>\n      <td>1996</td>\n      <td>3 261</td>\n      <td>352</td>\n      <td>223</td>\n      <td>0,2</td>\n      <td>74</td>\n      <td>19</td>\n    </tr>\n    <tr>\n      <th>2</th>\n      <td>1997</td>\n      <td>3 222</td>\n      <td>269</td>\n      <td>158</td>\n      <td>0,4</td>\n      <td>73</td>\n      <td>23</td>\n    </tr>\n    <tr>\n      <th>3</th>\n      <td>1998</td>\n      <td>3 242</td>\n      <td>358</td>\n      <td>130</td>\n      <td>0,5</td>\n      <td>67</td>\n      <td>25</td>\n    </tr>\n    <tr>\n      <th>4</th>\n      <td>1999</td>\n      <td>2 968</td>\n      <td>399</td>\n      <td>175</td>\n      <td>0,8</td>\n      <td>67</td>\n      <td>26</td>\n    </tr>\n  </tbody>\n</table>\n</div>"
     },
     "metadata": {},
     "execution_count": 20
    }
   ],
   "source": [
    "#First look at the data\n",
    "dados.head()"
   ]
  }
 ],
 "metadata": {
  "language_info": {
   "codemirror_mode": {
    "name": "ipython",
    "version": 3
   },
   "file_extension": ".py",
   "mimetype": "text/x-python",
   "name": "python",
   "nbconvert_exporter": "python",
   "pygments_lexer": "ipython3",
   "version": "3.7.6-final"
  },
  "orig_nbformat": 2,
  "kernelspec": {
   "name": "python3",
   "display_name": "Python 3"
  }
 },
 "nbformat": 4,
 "nbformat_minor": 2
}