{
 "cells": [
  {
   "cell_type": "code",
   "execution_count": 387,
   "metadata": {},
   "outputs": [],
   "source": [
    "#importing the libraries\n",
    "import pandas as pd\n",
    "import numpy as np\n",
    "\n",
    "\n",
    "# Algoritms\n",
    "from sklearn.ensemble import RandomForestRegressor\n",
    "from sklearn.metrics import mean_absolute_error\n",
    "from sklearn.model_selection import train_test_split\n",
    "from sklearn.tree import DecisionTreeRegressor\n",
    "\n",
    "\n",
    "\n",
    "# data visualization\n",
    "import seaborn as sns\n",
    "sns.set(style=\"white\")\n",
    "%matplotlib inline\n",
    "from matplotlib import pyplot as plt\n",
    "from matplotlib import style"
   ]
  },
  {
   "cell_type": "code",
   "execution_count": 389,
   "metadata": {},
   "outputs": [],
   "source": [
    "#getting the data\n",
    "train = pd.read_csv(\"dataset/testfiles/train.csv\")\n",
    "test = pd.read_csv(\"dataset/testfiles/test.csv\")"
   ]
  },
  {
   "cell_type": "code",
   "execution_count": 391,
   "metadata": {},
   "outputs": [
    {
     "output_type": "execute_result",
     "data": {
      "text/plain": "   Unnamed: 0                              NU_INSCRICAO  NU_ANO  \\\n0           1  ed50e8aaa58e7a806c337585efee9ca41f1eb1ad    2016   \n1           2  2c3acac4b33ec2b195d77e7c04a2d75727fad723    2016   \n2           3  f4545f8ccb9ff5c8aad7d32951b3f251a26e6568    2016   \n3           4  3d6ec248fef899c414e77f82d5c6d2bffbeaf7fe    2016   \n4           5  bf896ac8d3ecadd6dba1dfbf50110afcbf5d3268    2016   \n\n   CO_MUNICIPIO_RESIDENCIA NO_MUNICIPIO_RESIDENCIA  CO_UF_RESIDENCIA  \\\n0                  4314902            Porto Alegre                43   \n1                  2304707                  Granja                23   \n2                  2304400               Fortaleza                23   \n3                  3304557          Rio de Janeiro                33   \n4                  1302603                  Manaus                13   \n\n  SG_UF_RESIDENCIA  NU_IDADE TP_SEXO  TP_ESTADO_CIVIL  ...  Q041  Q042  Q043  \\\n0               RS        24       M              0.0  ...   5.0     A     A   \n1               CE        17       F              0.0  ...   NaN     A     A   \n2               CE        21       F              0.0  ...   NaN     A     A   \n3               RJ        25       F              0.0  ...   5.0     C     A   \n4               AM        28       M              0.0  ...   NaN     A     A   \n\n  Q044  Q045 Q046  Q047  Q048  Q049  Q050  \n0    A     A    A     A     A     B     D  \n1    C     A    B     A     A     C     A  \n2    A     A    C     A     A     B     A  \n3    A     A    A     D     A     A     A  \n4    A     A    A     A     A     A     A  \n\n[5 rows x 167 columns]",
      "text/html": "<div>\n<style scoped>\n    .dataframe tbody tr th:only-of-type {\n        vertical-align: middle;\n    }\n\n    .dataframe tbody tr th {\n        vertical-align: top;\n    }\n\n    .dataframe thead th {\n        text-align: right;\n    }\n</style>\n<table border=\"1\" class=\"dataframe\">\n  <thead>\n    <tr style=\"text-align: right;\">\n      <th></th>\n      <th>Unnamed: 0</th>\n      <th>NU_INSCRICAO</th>\n      <th>NU_ANO</th>\n      <th>CO_MUNICIPIO_RESIDENCIA</th>\n      <th>NO_MUNICIPIO_RESIDENCIA</th>\n      <th>CO_UF_RESIDENCIA</th>\n      <th>SG_UF_RESIDENCIA</th>\n      <th>NU_IDADE</th>\n      <th>TP_SEXO</th>\n      <th>TP_ESTADO_CIVIL</th>\n      <th>...</th>\n      <th>Q041</th>\n      <th>Q042</th>\n      <th>Q043</th>\n      <th>Q044</th>\n      <th>Q045</th>\n      <th>Q046</th>\n      <th>Q047</th>\n      <th>Q048</th>\n      <th>Q049</th>\n      <th>Q050</th>\n    </tr>\n  </thead>\n  <tbody>\n    <tr>\n      <th>0</th>\n      <td>1</td>\n      <td>ed50e8aaa58e7a806c337585efee9ca41f1eb1ad</td>\n      <td>2016</td>\n      <td>4314902</td>\n      <td>Porto Alegre</td>\n      <td>43</td>\n      <td>RS</td>\n      <td>24</td>\n      <td>M</td>\n      <td>0.0</td>\n      <td>...</td>\n      <td>5.0</td>\n      <td>A</td>\n      <td>A</td>\n      <td>A</td>\n      <td>A</td>\n      <td>A</td>\n      <td>A</td>\n      <td>A</td>\n      <td>B</td>\n      <td>D</td>\n    </tr>\n    <tr>\n      <th>1</th>\n      <td>2</td>\n      <td>2c3acac4b33ec2b195d77e7c04a2d75727fad723</td>\n      <td>2016</td>\n      <td>2304707</td>\n      <td>Granja</td>\n      <td>23</td>\n      <td>CE</td>\n      <td>17</td>\n      <td>F</td>\n      <td>0.0</td>\n      <td>...</td>\n      <td>NaN</td>\n      <td>A</td>\n      <td>A</td>\n      <td>C</td>\n      <td>A</td>\n      <td>B</td>\n      <td>A</td>\n      <td>A</td>\n      <td>C</td>\n      <td>A</td>\n    </tr>\n    <tr>\n      <th>2</th>\n      <td>3</td>\n      <td>f4545f8ccb9ff5c8aad7d32951b3f251a26e6568</td>\n      <td>2016</td>\n      <td>2304400</td>\n      <td>Fortaleza</td>\n      <td>23</td>\n      <td>CE</td>\n      <td>21</td>\n      <td>F</td>\n      <td>0.0</td>\n      <td>...</td>\n      <td>NaN</td>\n      <td>A</td>\n      <td>A</td>\n      <td>A</td>\n      <td>A</td>\n      <td>C</td>\n      <td>A</td>\n      <td>A</td>\n      <td>B</td>\n      <td>A</td>\n    </tr>\n    <tr>\n      <th>3</th>\n      <td>4</td>\n      <td>3d6ec248fef899c414e77f82d5c6d2bffbeaf7fe</td>\n      <td>2016</td>\n      <td>3304557</td>\n      <td>Rio de Janeiro</td>\n      <td>33</td>\n      <td>RJ</td>\n      <td>25</td>\n      <td>F</td>\n      <td>0.0</td>\n      <td>...</td>\n      <td>5.0</td>\n      <td>C</td>\n      <td>A</td>\n      <td>A</td>\n      <td>A</td>\n      <td>A</td>\n      <td>D</td>\n      <td>A</td>\n      <td>A</td>\n      <td>A</td>\n    </tr>\n    <tr>\n      <th>4</th>\n      <td>5</td>\n      <td>bf896ac8d3ecadd6dba1dfbf50110afcbf5d3268</td>\n      <td>2016</td>\n      <td>1302603</td>\n      <td>Manaus</td>\n      <td>13</td>\n      <td>AM</td>\n      <td>28</td>\n      <td>M</td>\n      <td>0.0</td>\n      <td>...</td>\n      <td>NaN</td>\n      <td>A</td>\n      <td>A</td>\n      <td>A</td>\n      <td>A</td>\n      <td>A</td>\n      <td>A</td>\n      <td>A</td>\n      <td>A</td>\n      <td>A</td>\n    </tr>\n  </tbody>\n</table>\n<p>5 rows × 167 columns</p>\n</div>"
     },
     "metadata": {},
     "execution_count": 391
    }
   ],
   "source": [
    "train.head()"
   ]
  },
  {
   "cell_type": "code",
   "execution_count": 393,
   "metadata": {},
   "outputs": [
    {
     "output_type": "execute_result",
     "data": {
      "text/plain": "                               NU_INSCRICAO  CO_UF_RESIDENCIA  \\\n0  73ff9fcc02f0a99919906c942c2e1a1042cdcf98                41   \n1  71a95f9f1b91a82c65ad94abbdf9f54e6066f968                21   \n2  b38a03232f43b11c9d0788abaf060f7366053b6d                23   \n3  70b682d9a3636be23f6120fa9d6b164eb3c6002d                15   \n4  715494628a50142ce8cb17191cfe6d0f3cae0934                41   \n\n  SG_UF_RESIDENCIA  NU_IDADE TP_SEXO  TP_COR_RACA  TP_NACIONALIDADE  \\\n0               PR        22       F            3                 1   \n1               MA        26       F            3                 1   \n2               CE        21       M            1                 1   \n3               PA        27       F            3                 1   \n4               PR        18       M            1                 1   \n\n   TP_ST_CONCLUSAO  TP_ANO_CONCLUIU  TP_ESCOLA  ...  NU_NOTA_COMP5  \\\n0                1                5          1  ...           40.0   \n1                1                8          1  ...          100.0   \n2                2                0          2  ...           80.0   \n3                1                8          1  ...            NaN   \n4                2                0          2  ...            0.0   \n\n   NU_NOTA_REDACAO  Q001  Q002  Q006  Q024  Q025  Q026  Q027  Q047  \n0            420.0     B     A     C     A     A     C     C     A  \n1            580.0     E     B     C     B     B     B     F     A  \n2            320.0     E     E     D     B     B     A   NaN     A  \n3              NaN     H     E     G     B     B     A   NaN     A  \n4            320.0     D     H     H     C     B     A   NaN     A  \n\n[5 rows x 47 columns]",
      "text/html": "<div>\n<style scoped>\n    .dataframe tbody tr th:only-of-type {\n        vertical-align: middle;\n    }\n\n    .dataframe tbody tr th {\n        vertical-align: top;\n    }\n\n    .dataframe thead th {\n        text-align: right;\n    }\n</style>\n<table border=\"1\" class=\"dataframe\">\n  <thead>\n    <tr style=\"text-align: right;\">\n      <th></th>\n      <th>NU_INSCRICAO</th>\n      <th>CO_UF_RESIDENCIA</th>\n      <th>SG_UF_RESIDENCIA</th>\n      <th>NU_IDADE</th>\n      <th>TP_SEXO</th>\n      <th>TP_COR_RACA</th>\n      <th>TP_NACIONALIDADE</th>\n      <th>TP_ST_CONCLUSAO</th>\n      <th>TP_ANO_CONCLUIU</th>\n      <th>TP_ESCOLA</th>\n      <th>...</th>\n      <th>NU_NOTA_COMP5</th>\n      <th>NU_NOTA_REDACAO</th>\n      <th>Q001</th>\n      <th>Q002</th>\n      <th>Q006</th>\n      <th>Q024</th>\n      <th>Q025</th>\n      <th>Q026</th>\n      <th>Q027</th>\n      <th>Q047</th>\n    </tr>\n  </thead>\n  <tbody>\n    <tr>\n      <th>0</th>\n      <td>73ff9fcc02f0a99919906c942c2e1a1042cdcf98</td>\n      <td>41</td>\n      <td>PR</td>\n      <td>22</td>\n      <td>F</td>\n      <td>3</td>\n      <td>1</td>\n      <td>1</td>\n      <td>5</td>\n      <td>1</td>\n      <td>...</td>\n      <td>40.0</td>\n      <td>420.0</td>\n      <td>B</td>\n      <td>A</td>\n      <td>C</td>\n      <td>A</td>\n      <td>A</td>\n      <td>C</td>\n      <td>C</td>\n      <td>A</td>\n    </tr>\n    <tr>\n      <th>1</th>\n      <td>71a95f9f1b91a82c65ad94abbdf9f54e6066f968</td>\n      <td>21</td>\n      <td>MA</td>\n      <td>26</td>\n      <td>F</td>\n      <td>3</td>\n      <td>1</td>\n      <td>1</td>\n      <td>8</td>\n      <td>1</td>\n      <td>...</td>\n      <td>100.0</td>\n      <td>580.0</td>\n      <td>E</td>\n      <td>B</td>\n      <td>C</td>\n      <td>B</td>\n      <td>B</td>\n      <td>B</td>\n      <td>F</td>\n      <td>A</td>\n    </tr>\n    <tr>\n      <th>2</th>\n      <td>b38a03232f43b11c9d0788abaf060f7366053b6d</td>\n      <td>23</td>\n      <td>CE</td>\n      <td>21</td>\n      <td>M</td>\n      <td>1</td>\n      <td>1</td>\n      <td>2</td>\n      <td>0</td>\n      <td>2</td>\n      <td>...</td>\n      <td>80.0</td>\n      <td>320.0</td>\n      <td>E</td>\n      <td>E</td>\n      <td>D</td>\n      <td>B</td>\n      <td>B</td>\n      <td>A</td>\n      <td>NaN</td>\n      <td>A</td>\n    </tr>\n    <tr>\n      <th>3</th>\n      <td>70b682d9a3636be23f6120fa9d6b164eb3c6002d</td>\n      <td>15</td>\n      <td>PA</td>\n      <td>27</td>\n      <td>F</td>\n      <td>3</td>\n      <td>1</td>\n      <td>1</td>\n      <td>8</td>\n      <td>1</td>\n      <td>...</td>\n      <td>NaN</td>\n      <td>NaN</td>\n      <td>H</td>\n      <td>E</td>\n      <td>G</td>\n      <td>B</td>\n      <td>B</td>\n      <td>A</td>\n      <td>NaN</td>\n      <td>A</td>\n    </tr>\n    <tr>\n      <th>4</th>\n      <td>715494628a50142ce8cb17191cfe6d0f3cae0934</td>\n      <td>41</td>\n      <td>PR</td>\n      <td>18</td>\n      <td>M</td>\n      <td>1</td>\n      <td>1</td>\n      <td>2</td>\n      <td>0</td>\n      <td>2</td>\n      <td>...</td>\n      <td>0.0</td>\n      <td>320.0</td>\n      <td>D</td>\n      <td>H</td>\n      <td>H</td>\n      <td>C</td>\n      <td>B</td>\n      <td>A</td>\n      <td>NaN</td>\n      <td>A</td>\n    </tr>\n  </tbody>\n</table>\n<p>5 rows × 47 columns</p>\n</div>"
     },
     "metadata": {},
     "execution_count": 393
    }
   ],
   "source": [
    "test.head()"
   ]
  },
  {
   "cell_type": "code",
   "execution_count": 395,
   "metadata": {},
   "outputs": [
    {
     "output_type": "stream",
     "name": "stdout",
     "text": "<class 'pandas.core.frame.DataFrame'>\nRangeIndex: 13730 entries, 0 to 13729\nColumns: 167 entries, Unnamed: 0 to Q050\ndtypes: float64(28), int64(79), object(60)\nmemory usage: 17.5+ MB\n"
    }
   ],
   "source": [
    "train.info()"
   ]
  },
  {
   "cell_type": "code",
   "execution_count": 397,
   "metadata": {},
   "outputs": [
    {
     "output_type": "execute_result",
     "data": {
      "text/plain": "         Unnamed: 0   NU_ANO  CO_MUNICIPIO_RESIDENCIA  CO_UF_RESIDENCIA  \\\ncount  13730.000000  13730.0             1.373000e+04      13730.000000   \nmean    2288.173926   2016.0             3.088548e+06         30.736708   \nstd     1321.230607      0.0             9.890495e+05          9.862405   \nmin        0.000000   2016.0             1.100023e+06         11.000000   \n25%     1144.000000   2016.0             2.307650e+06         23.000000   \n50%     2288.000000   2016.0             3.118601e+06         31.000000   \n75%     3432.000000   2016.0             3.550308e+06         35.000000   \nmax     4586.000000   2016.0             5.300108e+06         53.000000   \n\n           NU_IDADE  TP_ESTADO_CIVIL   TP_COR_RACA  TP_NACIONALIDADE  \\\ncount  13730.000000     13202.000000  13730.000000      13730.000000   \nmean      21.593809         0.116043      2.185652          1.048871   \nstd        7.043654         0.365986      1.007285          0.258895   \nmin       13.000000         0.000000      0.000000          0.000000   \n25%       17.000000         0.000000      1.000000          1.000000   \n50%       19.000000         0.000000      3.000000          1.000000   \n75%       23.000000         0.000000      3.000000          1.000000   \nmax       67.000000         3.000000      5.000000          4.000000   \n\n       CO_MUNICIPIO_NASCIMENTO  CO_UF_NASCIMENTO  ...         Q032  \\\ncount             1.312100e+04      13121.000000  ...  6354.000000   \nmean              3.057946e+06         30.429159  ...     4.530217   \nstd               9.703020e+05          9.670030  ...     1.027613   \nmin               1.100023e+06         11.000000  ...     0.000000   \n25%               2.306900e+06         23.000000  ...     5.000000   \n50%               3.106200e+06         31.000000  ...     5.000000   \n75%               3.549805e+06         35.000000  ...     5.000000   \nmax               5.300108e+06         53.000000  ...     5.000000   \n\n              Q033          Q034          Q035          Q036          Q037  \\\ncount  6354.000000  13730.000000  13730.000000  13730.000000  13730.000000   \nmean      3.962858      4.645594      4.678441      3.341515      4.458995   \nstd       1.625356      0.920998      0.865039      1.711930      1.200172   \nmin       0.000000      0.000000      0.000000      0.000000      0.000000   \n25%       3.000000      5.000000      5.000000      2.000000      5.000000   \n50%       5.000000      5.000000      5.000000      4.000000      5.000000   \n75%       5.000000      5.000000      5.000000      5.000000      5.000000   \nmax       5.000000      5.000000      5.000000      5.000000      5.000000   \n\n               Q038          Q039          Q040         Q041  \ncount  13730.000000  13730.000000  13730.000000  2938.000000  \nmean       3.724618      3.506409      4.442098     3.671545  \nstd        1.689362      1.718858      1.181549     1.746444  \nmin        0.000000      0.000000      0.000000     0.000000  \n25%        3.000000      2.000000      4.000000     3.000000  \n50%        5.000000      4.000000      5.000000     5.000000  \n75%        5.000000      5.000000      5.000000     5.000000  \nmax        5.000000      5.000000      5.000000     5.000000  \n\n[8 rows x 107 columns]",
      "text/html": "<div>\n<style scoped>\n    .dataframe tbody tr th:only-of-type {\n        vertical-align: middle;\n    }\n\n    .dataframe tbody tr th {\n        vertical-align: top;\n    }\n\n    .dataframe thead th {\n        text-align: right;\n    }\n</style>\n<table border=\"1\" class=\"dataframe\">\n  <thead>\n    <tr style=\"text-align: right;\">\n      <th></th>\n      <th>Unnamed: 0</th>\n      <th>NU_ANO</th>\n      <th>CO_MUNICIPIO_RESIDENCIA</th>\n      <th>CO_UF_RESIDENCIA</th>\n      <th>NU_IDADE</th>\n      <th>TP_ESTADO_CIVIL</th>\n      <th>TP_COR_RACA</th>\n      <th>TP_NACIONALIDADE</th>\n      <th>CO_MUNICIPIO_NASCIMENTO</th>\n      <th>CO_UF_NASCIMENTO</th>\n      <th>...</th>\n      <th>Q032</th>\n      <th>Q033</th>\n      <th>Q034</th>\n      <th>Q035</th>\n      <th>Q036</th>\n      <th>Q037</th>\n      <th>Q038</th>\n      <th>Q039</th>\n      <th>Q040</th>\n      <th>Q041</th>\n    </tr>\n  </thead>\n  <tbody>\n    <tr>\n      <th>count</th>\n      <td>13730.000000</td>\n      <td>13730.0</td>\n      <td>1.373000e+04</td>\n      <td>13730.000000</td>\n      <td>13730.000000</td>\n      <td>13202.000000</td>\n      <td>13730.000000</td>\n      <td>13730.000000</td>\n      <td>1.312100e+04</td>\n      <td>13121.000000</td>\n      <td>...</td>\n      <td>6354.000000</td>\n      <td>6354.000000</td>\n      <td>13730.000000</td>\n      <td>13730.000000</td>\n      <td>13730.000000</td>\n      <td>13730.000000</td>\n      <td>13730.000000</td>\n      <td>13730.000000</td>\n      <td>13730.000000</td>\n      <td>2938.000000</td>\n    </tr>\n    <tr>\n      <th>mean</th>\n      <td>2288.173926</td>\n      <td>2016.0</td>\n      <td>3.088548e+06</td>\n      <td>30.736708</td>\n      <td>21.593809</td>\n      <td>0.116043</td>\n      <td>2.185652</td>\n      <td>1.048871</td>\n      <td>3.057946e+06</td>\n      <td>30.429159</td>\n      <td>...</td>\n      <td>4.530217</td>\n      <td>3.962858</td>\n      <td>4.645594</td>\n      <td>4.678441</td>\n      <td>3.341515</td>\n      <td>4.458995</td>\n      <td>3.724618</td>\n      <td>3.506409</td>\n      <td>4.442098</td>\n      <td>3.671545</td>\n    </tr>\n    <tr>\n      <th>std</th>\n      <td>1321.230607</td>\n      <td>0.0</td>\n      <td>9.890495e+05</td>\n      <td>9.862405</td>\n      <td>7.043654</td>\n      <td>0.365986</td>\n      <td>1.007285</td>\n      <td>0.258895</td>\n      <td>9.703020e+05</td>\n      <td>9.670030</td>\n      <td>...</td>\n      <td>1.027613</td>\n      <td>1.625356</td>\n      <td>0.920998</td>\n      <td>0.865039</td>\n      <td>1.711930</td>\n      <td>1.200172</td>\n      <td>1.689362</td>\n      <td>1.718858</td>\n      <td>1.181549</td>\n      <td>1.746444</td>\n    </tr>\n    <tr>\n      <th>min</th>\n      <td>0.000000</td>\n      <td>2016.0</td>\n      <td>1.100023e+06</td>\n      <td>11.000000</td>\n      <td>13.000000</td>\n      <td>0.000000</td>\n      <td>0.000000</td>\n      <td>0.000000</td>\n      <td>1.100023e+06</td>\n      <td>11.000000</td>\n      <td>...</td>\n      <td>0.000000</td>\n      <td>0.000000</td>\n      <td>0.000000</td>\n      <td>0.000000</td>\n      <td>0.000000</td>\n      <td>0.000000</td>\n      <td>0.000000</td>\n      <td>0.000000</td>\n      <td>0.000000</td>\n      <td>0.000000</td>\n    </tr>\n    <tr>\n      <th>25%</th>\n      <td>1144.000000</td>\n      <td>2016.0</td>\n      <td>2.307650e+06</td>\n      <td>23.000000</td>\n      <td>17.000000</td>\n      <td>0.000000</td>\n      <td>1.000000</td>\n      <td>1.000000</td>\n      <td>2.306900e+06</td>\n      <td>23.000000</td>\n      <td>...</td>\n      <td>5.000000</td>\n      <td>3.000000</td>\n      <td>5.000000</td>\n      <td>5.000000</td>\n      <td>2.000000</td>\n      <td>5.000000</td>\n      <td>3.000000</td>\n      <td>2.000000</td>\n      <td>4.000000</td>\n      <td>3.000000</td>\n    </tr>\n    <tr>\n      <th>50%</th>\n      <td>2288.000000</td>\n      <td>2016.0</td>\n      <td>3.118601e+06</td>\n      <td>31.000000</td>\n      <td>19.000000</td>\n      <td>0.000000</td>\n      <td>3.000000</td>\n      <td>1.000000</td>\n      <td>3.106200e+06</td>\n      <td>31.000000</td>\n      <td>...</td>\n      <td>5.000000</td>\n      <td>5.000000</td>\n      <td>5.000000</td>\n      <td>5.000000</td>\n      <td>4.000000</td>\n      <td>5.000000</td>\n      <td>5.000000</td>\n      <td>4.000000</td>\n      <td>5.000000</td>\n      <td>5.000000</td>\n    </tr>\n    <tr>\n      <th>75%</th>\n      <td>3432.000000</td>\n      <td>2016.0</td>\n      <td>3.550308e+06</td>\n      <td>35.000000</td>\n      <td>23.000000</td>\n      <td>0.000000</td>\n      <td>3.000000</td>\n      <td>1.000000</td>\n      <td>3.549805e+06</td>\n      <td>35.000000</td>\n      <td>...</td>\n      <td>5.000000</td>\n      <td>5.000000</td>\n      <td>5.000000</td>\n      <td>5.000000</td>\n      <td>5.000000</td>\n      <td>5.000000</td>\n      <td>5.000000</td>\n      <td>5.000000</td>\n      <td>5.000000</td>\n      <td>5.000000</td>\n    </tr>\n    <tr>\n      <th>max</th>\n      <td>4586.000000</td>\n      <td>2016.0</td>\n      <td>5.300108e+06</td>\n      <td>53.000000</td>\n      <td>67.000000</td>\n      <td>3.000000</td>\n      <td>5.000000</td>\n      <td>4.000000</td>\n      <td>5.300108e+06</td>\n      <td>53.000000</td>\n      <td>...</td>\n      <td>5.000000</td>\n      <td>5.000000</td>\n      <td>5.000000</td>\n      <td>5.000000</td>\n      <td>5.000000</td>\n      <td>5.000000</td>\n      <td>5.000000</td>\n      <td>5.000000</td>\n      <td>5.000000</td>\n      <td>5.000000</td>\n    </tr>\n  </tbody>\n</table>\n<p>8 rows × 107 columns</p>\n</div>"
     },
     "metadata": {},
     "execution_count": 397
    }
   ],
   "source": [
    "train.describe()"
   ]
  },
  {
   "cell_type": "code",
   "execution_count": 399,
   "metadata": {},
   "outputs": [
    {
     "output_type": "execute_result",
     "data": {
      "text/plain": "                          NU_NOTA_MT\nNU_NOTA_MT                  1.000000\nNU_NOTA_CN                  0.584941\nNU_NOTA_CH                  0.529594\nNU_NOTA_LC                  0.494695\nNU_NOTA_REDACAO             0.379376\n...                              ...\nIN_SALA_ACOMPANHANTE             NaN\nIN_MOBILIARIO_ESPECIFICO         NaN\nIN_MATERIAL_ESPECIFICO           NaN\nTP_PRESENCA_LC                   NaN\nTP_PRESENCA_MT                   NaN\n\n[107 rows x 1 columns]",
      "text/html": "<div>\n<style scoped>\n    .dataframe tbody tr th:only-of-type {\n        vertical-align: middle;\n    }\n\n    .dataframe tbody tr th {\n        vertical-align: top;\n    }\n\n    .dataframe thead th {\n        text-align: right;\n    }\n</style>\n<table border=\"1\" class=\"dataframe\">\n  <thead>\n    <tr style=\"text-align: right;\">\n      <th></th>\n      <th>NU_NOTA_MT</th>\n    </tr>\n  </thead>\n  <tbody>\n    <tr>\n      <th>NU_NOTA_MT</th>\n      <td>1.000000</td>\n    </tr>\n    <tr>\n      <th>NU_NOTA_CN</th>\n      <td>0.584941</td>\n    </tr>\n    <tr>\n      <th>NU_NOTA_CH</th>\n      <td>0.529594</td>\n    </tr>\n    <tr>\n      <th>NU_NOTA_LC</th>\n      <td>0.494695</td>\n    </tr>\n    <tr>\n      <th>NU_NOTA_REDACAO</th>\n      <td>0.379376</td>\n    </tr>\n    <tr>\n      <th>...</th>\n      <td>...</td>\n    </tr>\n    <tr>\n      <th>IN_SALA_ACOMPANHANTE</th>\n      <td>NaN</td>\n    </tr>\n    <tr>\n      <th>IN_MOBILIARIO_ESPECIFICO</th>\n      <td>NaN</td>\n    </tr>\n    <tr>\n      <th>IN_MATERIAL_ESPECIFICO</th>\n      <td>NaN</td>\n    </tr>\n    <tr>\n      <th>TP_PRESENCA_LC</th>\n      <td>NaN</td>\n    </tr>\n    <tr>\n      <th>TP_PRESENCA_MT</th>\n      <td>NaN</td>\n    </tr>\n  </tbody>\n</table>\n<p>107 rows × 1 columns</p>\n</div>"
     },
     "metadata": {},
     "execution_count": 399
    }
   ],
   "source": [
    "pd.DataFrame(abs(train.corr()['NU_NOTA_MT']).sort_values(ascending = False))"
   ]
  },
  {
   "cell_type": "code",
   "execution_count": 401,
   "metadata": {},
   "outputs": [
    {
     "output_type": "execute_result",
     "data": {
      "text/plain": "Index(['Unnamed: 0', 'NU_INSCRICAO', 'NU_ANO', 'CO_MUNICIPIO_RESIDENCIA',\n       'NO_MUNICIPIO_RESIDENCIA', 'CO_UF_RESIDENCIA', 'SG_UF_RESIDENCIA',\n       'NU_IDADE', 'TP_SEXO', 'TP_ESTADO_CIVIL',\n       ...\n       'Q041', 'Q042', 'Q043', 'Q044', 'Q045', 'Q046', 'Q047', 'Q048', 'Q049',\n       'Q050'],\n      dtype='object', length=167)"
     },
     "metadata": {},
     "execution_count": 401
    }
   ],
   "source": [
    "train.columns"
   ]
  },
  {
   "cell_type": "code",
   "execution_count": 403,
   "metadata": {},
   "outputs": [
    {
     "output_type": "execute_result",
     "data": {
      "text/plain": "Index(['NU_INSCRICAO', 'CO_UF_RESIDENCIA', 'SG_UF_RESIDENCIA', 'NU_IDADE',\n       'TP_SEXO', 'TP_COR_RACA', 'TP_NACIONALIDADE', 'TP_ST_CONCLUSAO',\n       'TP_ANO_CONCLUIU', 'TP_ESCOLA', 'TP_ENSINO', 'IN_TREINEIRO',\n       'TP_DEPENDENCIA_ADM_ESC', 'IN_BAIXA_VISAO', 'IN_CEGUEIRA', 'IN_SURDEZ',\n       'IN_DISLEXIA', 'IN_DISCALCULIA', 'IN_SABATISTA', 'IN_GESTANTE',\n       'IN_IDOSO', 'TP_PRESENCA_CN', 'TP_PRESENCA_CH', 'TP_PRESENCA_LC',\n       'CO_PROVA_CN', 'CO_PROVA_CH', 'CO_PROVA_LC', 'CO_PROVA_MT',\n       'NU_NOTA_CN', 'NU_NOTA_CH', 'NU_NOTA_LC', 'TP_LINGUA',\n       'TP_STATUS_REDACAO', 'NU_NOTA_COMP1', 'NU_NOTA_COMP2', 'NU_NOTA_COMP3',\n       'NU_NOTA_COMP4', 'NU_NOTA_COMP5', 'NU_NOTA_REDACAO', 'Q001', 'Q002',\n       'Q006', 'Q024', 'Q025', 'Q026', 'Q027', 'Q047'],\n      dtype='object')"
     },
     "metadata": {},
     "execution_count": 403
    }
   ],
   "source": [
    "test.columns"
   ]
  },
  {
   "cell_type": "markdown",
   "metadata": {},
   "source": [
    "O dataset train possui 167 columns, enquanto o test possui 47 columns. Como devemos predizer a nota do test vamos utilizar as columas que estão no test e em seguida se necessario dropar as columas necessárias."
   ]
  },
  {
   "cell_type": "code",
   "execution_count": 405,
   "metadata": {},
   "outputs": [],
   "source": [
    "#salvando ids para o submission\n",
    "ids=test['NU_INSCRICAO']\n",
    "\n",
    "train_colunas_alvo=train[['NU_INSCRICAO', 'CO_UF_RESIDENCIA', 'SG_UF_RESIDENCIA', 'NU_IDADE',\n",
    "       'TP_SEXO', 'TP_COR_RACA', 'TP_NACIONALIDADE', 'TP_ST_CONCLUSAO',\n",
    "       'TP_ANO_CONCLUIU', 'TP_ESCOLA', 'TP_ENSINO', 'IN_TREINEIRO',\n",
    "       'TP_DEPENDENCIA_ADM_ESC', 'IN_BAIXA_VISAO', 'IN_CEGUEIRA', 'IN_SURDEZ',\n",
    "       'IN_DISLEXIA', 'IN_DISCALCULIA', 'IN_SABATISTA', 'IN_GESTANTE',\n",
    "       'IN_IDOSO', 'TP_PRESENCA_CN', 'TP_PRESENCA_CH', 'TP_PRESENCA_LC',\n",
    "       'CO_PROVA_CN', 'CO_PROVA_CH', 'CO_PROVA_LC', 'CO_PROVA_MT',\n",
    "       'NU_NOTA_CN', 'NU_NOTA_CH', 'NU_NOTA_LC', 'TP_LINGUA',\n",
    "       'TP_STATUS_REDACAO', 'NU_NOTA_COMP1', 'NU_NOTA_COMP2', 'NU_NOTA_COMP3',\n",
    "       'NU_NOTA_COMP4', 'NU_NOTA_COMP5', 'NU_NOTA_REDACAO', 'Q001', 'Q002',\n",
    "       'Q006', 'Q024', 'Q025', 'Q026', 'Q027', 'Q047','NU_NOTA_MT']]"
   ]
  },
  {
   "cell_type": "code",
   "execution_count": 407,
   "metadata": {},
   "outputs": [
    {
     "output_type": "execute_result",
     "data": {
      "text/plain": "                        NU_NOTA_MT\nNU_NOTA_MT                1.000000\nNU_NOTA_CN                0.584941\nNU_NOTA_CH                0.529594\nNU_NOTA_LC                0.494695\nNU_NOTA_REDACAO           0.379376\nTP_DEPENDENCIA_ADM_ESC    0.373233\nTP_LINGUA                 0.201726\nTP_COR_RACA               0.157364\nCO_UF_RESIDENCIA          0.107493\nTP_ST_CONCLUSAO           0.087869\nTP_ENSINO                 0.086353\nTP_ESCOLA                 0.069304\nNU_IDADE                  0.061485\nTP_STATUS_REDACAO         0.059376\nTP_NACIONALIDADE          0.034965\nTP_ANO_CONCLUIU           0.029039\nIN_TREINEIRO              0.022287",
      "text/html": "<div>\n<style scoped>\n    .dataframe tbody tr th:only-of-type {\n        vertical-align: middle;\n    }\n\n    .dataframe tbody tr th {\n        vertical-align: top;\n    }\n\n    .dataframe thead th {\n        text-align: right;\n    }\n</style>\n<table border=\"1\" class=\"dataframe\">\n  <thead>\n    <tr style=\"text-align: right;\">\n      <th></th>\n      <th>NU_NOTA_MT</th>\n    </tr>\n  </thead>\n  <tbody>\n    <tr>\n      <th>NU_NOTA_MT</th>\n      <td>1.000000</td>\n    </tr>\n    <tr>\n      <th>NU_NOTA_CN</th>\n      <td>0.584941</td>\n    </tr>\n    <tr>\n      <th>NU_NOTA_CH</th>\n      <td>0.529594</td>\n    </tr>\n    <tr>\n      <th>NU_NOTA_LC</th>\n      <td>0.494695</td>\n    </tr>\n    <tr>\n      <th>NU_NOTA_REDACAO</th>\n      <td>0.379376</td>\n    </tr>\n    <tr>\n      <th>TP_DEPENDENCIA_ADM_ESC</th>\n      <td>0.373233</td>\n    </tr>\n    <tr>\n      <th>TP_LINGUA</th>\n      <td>0.201726</td>\n    </tr>\n    <tr>\n      <th>TP_COR_RACA</th>\n      <td>0.157364</td>\n    </tr>\n    <tr>\n      <th>CO_UF_RESIDENCIA</th>\n      <td>0.107493</td>\n    </tr>\n    <tr>\n      <th>TP_ST_CONCLUSAO</th>\n      <td>0.087869</td>\n    </tr>\n    <tr>\n      <th>TP_ENSINO</th>\n      <td>0.086353</td>\n    </tr>\n    <tr>\n      <th>TP_ESCOLA</th>\n      <td>0.069304</td>\n    </tr>\n    <tr>\n      <th>NU_IDADE</th>\n      <td>0.061485</td>\n    </tr>\n    <tr>\n      <th>TP_STATUS_REDACAO</th>\n      <td>0.059376</td>\n    </tr>\n    <tr>\n      <th>TP_NACIONALIDADE</th>\n      <td>0.034965</td>\n    </tr>\n    <tr>\n      <th>TP_ANO_CONCLUIU</th>\n      <td>0.029039</td>\n    </tr>\n    <tr>\n      <th>IN_TREINEIRO</th>\n      <td>0.022287</td>\n    </tr>\n  </tbody>\n</table>\n</div>"
     },
     "metadata": {},
     "execution_count": 407
    }
   ],
   "source": [
    "pd.DataFrame(abs(train_colunas_alvo.corr()['NU_NOTA_MT']).sort_values(ascending = False))"
   ]
  },
  {
   "cell_type": "code",
   "execution_count": 409,
   "metadata": {},
   "outputs": [
    {
     "output_type": "error",
     "ename": "KeyError",
     "evalue": "\"['NU_INSCRICAO' 'SG_UF_RESIDENCIA' 'IN_DISCALCULIA' 'TP_PRESENCA_CN'\\n 'TP_PRESENCA_CH' 'IN_DISLEXIA' 'IN_GESTANTE' 'IN_BAIXA_VISAO'\\n 'IN_CEGUEIRA' 'TP_PRESENCA_LC' 'IN_SABATISTA' 'IN_SURDEZ' 'IN_IDOSO'\\n 'NU_NOTA_COMP3' 'NU_NOTA_COMP5' 'NU_NOTA_COMP4' 'NU_NOTA_COMP2'\\n 'NU_NOTA_COMP1' 'CO_PROVA_CH' 'CO_PROVA_CN' 'CO_PROVA_MT' 'CO_PROVA_LC'] not found in axis\"",
     "traceback": [
      "\u001b[1;31m---------------------------------------------------------------------------\u001b[0m",
      "\u001b[1;31mKeyError\u001b[0m                                  Traceback (most recent call last)",
      "\u001b[1;32m<ipython-input-409-156640795fa9>\u001b[0m in \u001b[0;36m<module>\u001b[1;34m\u001b[0m\n\u001b[0;32m      1\u001b[0m \u001b[1;31m#dropar colunas inuteis\u001b[0m\u001b[1;33m\u001b[0m\u001b[1;33m\u001b[0m\u001b[1;33m\u001b[0m\u001b[0m\n\u001b[1;32m----> 2\u001b[1;33m \u001b[0mtrain_colunas_alvo\u001b[0m\u001b[1;33m.\u001b[0m\u001b[0mdrop\u001b[0m\u001b[1;33m(\u001b[0m\u001b[1;33m[\u001b[0m\u001b[1;34m'NU_INSCRICAO'\u001b[0m\u001b[1;33m,\u001b[0m\u001b[1;34m'SG_UF_RESIDENCIA'\u001b[0m\u001b[1;33m,\u001b[0m\u001b[1;34m'IN_DISCALCULIA'\u001b[0m\u001b[1;33m,\u001b[0m\u001b[1;34m'TP_PRESENCA_CN'\u001b[0m\u001b[1;33m,\u001b[0m\u001b[1;34m'TP_PRESENCA_CH'\u001b[0m\u001b[1;33m,\u001b[0m\u001b[1;34m'IN_DISLEXIA'\u001b[0m\u001b[1;33m,\u001b[0m\u001b[1;34m'IN_GESTANTE'\u001b[0m\u001b[1;33m,\u001b[0m\u001b[1;34m'IN_BAIXA_VISAO'\u001b[0m\u001b[1;33m,\u001b[0m\u001b[1;34m'IN_CEGUEIRA'\u001b[0m\u001b[1;33m,\u001b[0m\u001b[1;34m'TP_PRESENCA_LC'\u001b[0m\u001b[1;33m,\u001b[0m\u001b[1;34m'IN_SABATISTA'\u001b[0m\u001b[1;33m,\u001b[0m\u001b[1;34m'IN_SURDEZ'\u001b[0m\u001b[1;33m,\u001b[0m\u001b[1;34m'IN_IDOSO'\u001b[0m\u001b[1;33m,\u001b[0m\u001b[1;34m'NU_NOTA_COMP3'\u001b[0m\u001b[1;33m,\u001b[0m\u001b[1;34m'NU_NOTA_COMP5'\u001b[0m\u001b[1;33m,\u001b[0m\u001b[1;34m'NU_NOTA_COMP4'\u001b[0m\u001b[1;33m,\u001b[0m\u001b[1;34m'NU_NOTA_COMP2'\u001b[0m\u001b[1;33m,\u001b[0m\u001b[1;34m'NU_NOTA_COMP1'\u001b[0m\u001b[1;33m,\u001b[0m\u001b[1;34m'CO_PROVA_CH'\u001b[0m\u001b[1;33m,\u001b[0m\u001b[1;34m'CO_PROVA_CN'\u001b[0m\u001b[1;33m,\u001b[0m\u001b[1;34m'CO_PROVA_MT'\u001b[0m\u001b[1;33m,\u001b[0m\u001b[1;34m'CO_PROVA_LC'\u001b[0m\u001b[1;33m]\u001b[0m\u001b[1;33m,\u001b[0m \u001b[0maxis\u001b[0m\u001b[1;33m=\u001b[0m\u001b[1;36m1\u001b[0m\u001b[1;33m,\u001b[0m \u001b[0minplace\u001b[0m\u001b[1;33m=\u001b[0m\u001b[1;32mTrue\u001b[0m\u001b[1;33m)\u001b[0m\u001b[1;33m\u001b[0m\u001b[1;33m\u001b[0m\u001b[0m\n\u001b[0m\u001b[0;32m      3\u001b[0m \u001b[0mtest\u001b[0m\u001b[1;33m.\u001b[0m\u001b[0mdrop\u001b[0m\u001b[1;33m(\u001b[0m\u001b[1;33m[\u001b[0m\u001b[1;34m'NU_INSCRICAO'\u001b[0m\u001b[1;33m,\u001b[0m\u001b[1;34m'SG_UF_RESIDENCIA'\u001b[0m\u001b[1;33m,\u001b[0m\u001b[1;34m'IN_DISCALCULIA'\u001b[0m\u001b[1;33m,\u001b[0m\u001b[1;34m'TP_PRESENCA_CN'\u001b[0m\u001b[1;33m,\u001b[0m\u001b[1;34m'TP_PRESENCA_CH'\u001b[0m\u001b[1;33m,\u001b[0m\u001b[1;34m'IN_DISLEXIA'\u001b[0m\u001b[1;33m,\u001b[0m\u001b[1;34m'IN_GESTANTE'\u001b[0m\u001b[1;33m,\u001b[0m\u001b[1;34m'IN_BAIXA_VISAO'\u001b[0m\u001b[1;33m,\u001b[0m\u001b[1;34m'IN_CEGUEIRA'\u001b[0m\u001b[1;33m,\u001b[0m\u001b[1;34m'TP_PRESENCA_LC'\u001b[0m\u001b[1;33m,\u001b[0m\u001b[1;34m'IN_SABATISTA'\u001b[0m\u001b[1;33m,\u001b[0m\u001b[1;34m'IN_SURDEZ'\u001b[0m\u001b[1;33m,\u001b[0m\u001b[1;34m'IN_IDOSO'\u001b[0m\u001b[1;33m,\u001b[0m\u001b[1;34m'NU_NOTA_COMP3'\u001b[0m\u001b[1;33m,\u001b[0m\u001b[1;34m'NU_NOTA_COMP5'\u001b[0m\u001b[1;33m,\u001b[0m\u001b[1;34m'NU_NOTA_COMP4'\u001b[0m\u001b[1;33m,\u001b[0m\u001b[1;34m'NU_NOTA_COMP2'\u001b[0m\u001b[1;33m,\u001b[0m\u001b[1;34m'NU_NOTA_COMP1'\u001b[0m\u001b[1;33m,\u001b[0m\u001b[1;34m'CO_PROVA_CH'\u001b[0m\u001b[1;33m,\u001b[0m\u001b[1;34m'CO_PROVA_CN'\u001b[0m\u001b[1;33m,\u001b[0m\u001b[1;34m'CO_PROVA_MT'\u001b[0m\u001b[1;33m,\u001b[0m\u001b[1;34m'CO_PROVA_LC'\u001b[0m\u001b[1;33m]\u001b[0m\u001b[1;33m,\u001b[0m \u001b[0maxis\u001b[0m\u001b[1;33m=\u001b[0m\u001b[1;36m1\u001b[0m\u001b[1;33m,\u001b[0m \u001b[0minplace\u001b[0m\u001b[1;33m=\u001b[0m\u001b[1;32mTrue\u001b[0m\u001b[1;33m)\u001b[0m\u001b[1;33m\u001b[0m\u001b[1;33m\u001b[0m\u001b[0m\n",
      "\u001b[1;32m~\\anaconda3\\lib\\site-packages\\pandas\\core\\frame.py\u001b[0m in \u001b[0;36mdrop\u001b[1;34m(self, labels, axis, index, columns, level, inplace, errors)\u001b[0m\n\u001b[0;32m   3995\u001b[0m             \u001b[0mlevel\u001b[0m\u001b[1;33m=\u001b[0m\u001b[0mlevel\u001b[0m\u001b[1;33m,\u001b[0m\u001b[1;33m\u001b[0m\u001b[1;33m\u001b[0m\u001b[0m\n\u001b[0;32m   3996\u001b[0m             \u001b[0minplace\u001b[0m\u001b[1;33m=\u001b[0m\u001b[0minplace\u001b[0m\u001b[1;33m,\u001b[0m\u001b[1;33m\u001b[0m\u001b[1;33m\u001b[0m\u001b[0m\n\u001b[1;32m-> 3997\u001b[1;33m             \u001b[0merrors\u001b[0m\u001b[1;33m=\u001b[0m\u001b[0merrors\u001b[0m\u001b[1;33m,\u001b[0m\u001b[1;33m\u001b[0m\u001b[1;33m\u001b[0m\u001b[0m\n\u001b[0m\u001b[0;32m   3998\u001b[0m         )\n\u001b[0;32m   3999\u001b[0m \u001b[1;33m\u001b[0m\u001b[0m\n",
      "\u001b[1;32m~\\anaconda3\\lib\\site-packages\\pandas\\core\\generic.py\u001b[0m in \u001b[0;36mdrop\u001b[1;34m(self, labels, axis, index, columns, level, inplace, errors)\u001b[0m\n\u001b[0;32m   3934\u001b[0m         \u001b[1;32mfor\u001b[0m \u001b[0maxis\u001b[0m\u001b[1;33m,\u001b[0m \u001b[0mlabels\u001b[0m \u001b[1;32min\u001b[0m \u001b[0maxes\u001b[0m\u001b[1;33m.\u001b[0m\u001b[0mitems\u001b[0m\u001b[1;33m(\u001b[0m\u001b[1;33m)\u001b[0m\u001b[1;33m:\u001b[0m\u001b[1;33m\u001b[0m\u001b[1;33m\u001b[0m\u001b[0m\n\u001b[0;32m   3935\u001b[0m             \u001b[1;32mif\u001b[0m \u001b[0mlabels\u001b[0m \u001b[1;32mis\u001b[0m \u001b[1;32mnot\u001b[0m \u001b[1;32mNone\u001b[0m\u001b[1;33m:\u001b[0m\u001b[1;33m\u001b[0m\u001b[1;33m\u001b[0m\u001b[0m\n\u001b[1;32m-> 3936\u001b[1;33m                 \u001b[0mobj\u001b[0m \u001b[1;33m=\u001b[0m \u001b[0mobj\u001b[0m\u001b[1;33m.\u001b[0m\u001b[0m_drop_axis\u001b[0m\u001b[1;33m(\u001b[0m\u001b[0mlabels\u001b[0m\u001b[1;33m,\u001b[0m \u001b[0maxis\u001b[0m\u001b[1;33m,\u001b[0m \u001b[0mlevel\u001b[0m\u001b[1;33m=\u001b[0m\u001b[0mlevel\u001b[0m\u001b[1;33m,\u001b[0m \u001b[0merrors\u001b[0m\u001b[1;33m=\u001b[0m\u001b[0merrors\u001b[0m\u001b[1;33m)\u001b[0m\u001b[1;33m\u001b[0m\u001b[1;33m\u001b[0m\u001b[0m\n\u001b[0m\u001b[0;32m   3937\u001b[0m \u001b[1;33m\u001b[0m\u001b[0m\n\u001b[0;32m   3938\u001b[0m         \u001b[1;32mif\u001b[0m \u001b[0minplace\u001b[0m\u001b[1;33m:\u001b[0m\u001b[1;33m\u001b[0m\u001b[1;33m\u001b[0m\u001b[0m\n",
      "\u001b[1;32m~\\anaconda3\\lib\\site-packages\\pandas\\core\\generic.py\u001b[0m in \u001b[0;36m_drop_axis\u001b[1;34m(self, labels, axis, level, errors)\u001b[0m\n\u001b[0;32m   3968\u001b[0m                 \u001b[0mnew_axis\u001b[0m \u001b[1;33m=\u001b[0m \u001b[0maxis\u001b[0m\u001b[1;33m.\u001b[0m\u001b[0mdrop\u001b[0m\u001b[1;33m(\u001b[0m\u001b[0mlabels\u001b[0m\u001b[1;33m,\u001b[0m \u001b[0mlevel\u001b[0m\u001b[1;33m=\u001b[0m\u001b[0mlevel\u001b[0m\u001b[1;33m,\u001b[0m \u001b[0merrors\u001b[0m\u001b[1;33m=\u001b[0m\u001b[0merrors\u001b[0m\u001b[1;33m)\u001b[0m\u001b[1;33m\u001b[0m\u001b[1;33m\u001b[0m\u001b[0m\n\u001b[0;32m   3969\u001b[0m             \u001b[1;32melse\u001b[0m\u001b[1;33m:\u001b[0m\u001b[1;33m\u001b[0m\u001b[1;33m\u001b[0m\u001b[0m\n\u001b[1;32m-> 3970\u001b[1;33m                 \u001b[0mnew_axis\u001b[0m \u001b[1;33m=\u001b[0m \u001b[0maxis\u001b[0m\u001b[1;33m.\u001b[0m\u001b[0mdrop\u001b[0m\u001b[1;33m(\u001b[0m\u001b[0mlabels\u001b[0m\u001b[1;33m,\u001b[0m \u001b[0merrors\u001b[0m\u001b[1;33m=\u001b[0m\u001b[0merrors\u001b[0m\u001b[1;33m)\u001b[0m\u001b[1;33m\u001b[0m\u001b[1;33m\u001b[0m\u001b[0m\n\u001b[0m\u001b[0;32m   3971\u001b[0m             \u001b[0mresult\u001b[0m \u001b[1;33m=\u001b[0m \u001b[0mself\u001b[0m\u001b[1;33m.\u001b[0m\u001b[0mreindex\u001b[0m\u001b[1;33m(\u001b[0m\u001b[1;33m**\u001b[0m\u001b[1;33m{\u001b[0m\u001b[0maxis_name\u001b[0m\u001b[1;33m:\u001b[0m \u001b[0mnew_axis\u001b[0m\u001b[1;33m}\u001b[0m\u001b[1;33m)\u001b[0m\u001b[1;33m\u001b[0m\u001b[1;33m\u001b[0m\u001b[0m\n\u001b[0;32m   3972\u001b[0m \u001b[1;33m\u001b[0m\u001b[0m\n",
      "\u001b[1;32m~\\anaconda3\\lib\\site-packages\\pandas\\core\\indexes\\base.py\u001b[0m in \u001b[0;36mdrop\u001b[1;34m(self, labels, errors)\u001b[0m\n\u001b[0;32m   5015\u001b[0m         \u001b[1;32mif\u001b[0m \u001b[0mmask\u001b[0m\u001b[1;33m.\u001b[0m\u001b[0many\u001b[0m\u001b[1;33m(\u001b[0m\u001b[1;33m)\u001b[0m\u001b[1;33m:\u001b[0m\u001b[1;33m\u001b[0m\u001b[1;33m\u001b[0m\u001b[0m\n\u001b[0;32m   5016\u001b[0m             \u001b[1;32mif\u001b[0m \u001b[0merrors\u001b[0m \u001b[1;33m!=\u001b[0m \u001b[1;34m\"ignore\"\u001b[0m\u001b[1;33m:\u001b[0m\u001b[1;33m\u001b[0m\u001b[1;33m\u001b[0m\u001b[0m\n\u001b[1;32m-> 5017\u001b[1;33m                 \u001b[1;32mraise\u001b[0m \u001b[0mKeyError\u001b[0m\u001b[1;33m(\u001b[0m\u001b[1;34mf\"{labels[mask]} not found in axis\"\u001b[0m\u001b[1;33m)\u001b[0m\u001b[1;33m\u001b[0m\u001b[1;33m\u001b[0m\u001b[0m\n\u001b[0m\u001b[0;32m   5018\u001b[0m             \u001b[0mindexer\u001b[0m \u001b[1;33m=\u001b[0m \u001b[0mindexer\u001b[0m\u001b[1;33m[\u001b[0m\u001b[1;33m~\u001b[0m\u001b[0mmask\u001b[0m\u001b[1;33m]\u001b[0m\u001b[1;33m\u001b[0m\u001b[1;33m\u001b[0m\u001b[0m\n\u001b[0;32m   5019\u001b[0m         \u001b[1;32mreturn\u001b[0m \u001b[0mself\u001b[0m\u001b[1;33m.\u001b[0m\u001b[0mdelete\u001b[0m\u001b[1;33m(\u001b[0m\u001b[0mindexer\u001b[0m\u001b[1;33m)\u001b[0m\u001b[1;33m\u001b[0m\u001b[1;33m\u001b[0m\u001b[0m\n",
      "\u001b[1;31mKeyError\u001b[0m: \"['NU_INSCRICAO' 'SG_UF_RESIDENCIA' 'IN_DISCALCULIA' 'TP_PRESENCA_CN'\\n 'TP_PRESENCA_CH' 'IN_DISLEXIA' 'IN_GESTANTE' 'IN_BAIXA_VISAO'\\n 'IN_CEGUEIRA' 'TP_PRESENCA_LC' 'IN_SABATISTA' 'IN_SURDEZ' 'IN_IDOSO'\\n 'NU_NOTA_COMP3' 'NU_NOTA_COMP5' 'NU_NOTA_COMP4' 'NU_NOTA_COMP2'\\n 'NU_NOTA_COMP1' 'CO_PROVA_CH' 'CO_PROVA_CN' 'CO_PROVA_MT' 'CO_PROVA_LC'] not found in axis\""
     ]
    }
   ],
   "source": [
    "#dropar colunas inuteis\n",
    "train_colunas_alvo.drop(['NU_INSCRICAO','SG_UF_RESIDENCIA','IN_DISCALCULIA','TP_PRESENCA_CN','TP_PRESENCA_CH','IN_DISLEXIA','IN_GESTANTE','IN_BAIXA_VISAO','IN_CEGUEIRA','TP_PRESENCA_LC','IN_SABATISTA','IN_SURDEZ','IN_IDOSO','NU_NOTA_COMP3','NU_NOTA_COMP5','NU_NOTA_COMP4','NU_NOTA_COMP2','NU_NOTA_COMP1','CO_PROVA_CH','CO_PROVA_CN','CO_PROVA_MT','CO_PROVA_LC'], axis=1, inplace=True)\n",
    "test.drop(['NU_INSCRICAO','SG_UF_RESIDENCIA','IN_DISCALCULIA','TP_PRESENCA_CN','TP_PRESENCA_CH','IN_DISLEXIA','IN_GESTANTE','IN_BAIXA_VISAO','IN_CEGUEIRA','TP_PRESENCA_LC','IN_SABATISTA','IN_SURDEZ','IN_IDOSO','NU_NOTA_COMP3','NU_NOTA_COMP5','NU_NOTA_COMP4','NU_NOTA_COMP2','NU_NOTA_COMP1','CO_PROVA_CH','CO_PROVA_CN','CO_PROVA_MT','CO_PROVA_LC'], axis=1, inplace=True)"
   ]
  },
  {
   "cell_type": "code",
   "execution_count": 412,
   "metadata": {},
   "outputs": [
    {
     "output_type": "execute_result",
     "data": {
      "text/plain": "                        NU_NOTA_MT\nNU_NOTA_MT                1.000000\nNU_NOTA_CN                0.584941\nNU_NOTA_CH                0.529594\nNU_NOTA_LC                0.494695\nNU_NOTA_REDACAO           0.379376\nTP_DEPENDENCIA_ADM_ESC    0.373233\nTP_LINGUA                 0.201726\nTP_COR_RACA               0.157364\nCO_UF_RESIDENCIA          0.107493\nTP_ST_CONCLUSAO           0.087869\nTP_ENSINO                 0.086353\nTP_ESCOLA                 0.069304\nNU_IDADE                  0.061485\nTP_STATUS_REDACAO         0.059376\nTP_NACIONALIDADE          0.034965\nTP_ANO_CONCLUIU           0.029039\nIN_TREINEIRO              0.022287",
      "text/html": "<div>\n<style scoped>\n    .dataframe tbody tr th:only-of-type {\n        vertical-align: middle;\n    }\n\n    .dataframe tbody tr th {\n        vertical-align: top;\n    }\n\n    .dataframe thead th {\n        text-align: right;\n    }\n</style>\n<table border=\"1\" class=\"dataframe\">\n  <thead>\n    <tr style=\"text-align: right;\">\n      <th></th>\n      <th>NU_NOTA_MT</th>\n    </tr>\n  </thead>\n  <tbody>\n    <tr>\n      <th>NU_NOTA_MT</th>\n      <td>1.000000</td>\n    </tr>\n    <tr>\n      <th>NU_NOTA_CN</th>\n      <td>0.584941</td>\n    </tr>\n    <tr>\n      <th>NU_NOTA_CH</th>\n      <td>0.529594</td>\n    </tr>\n    <tr>\n      <th>NU_NOTA_LC</th>\n      <td>0.494695</td>\n    </tr>\n    <tr>\n      <th>NU_NOTA_REDACAO</th>\n      <td>0.379376</td>\n    </tr>\n    <tr>\n      <th>TP_DEPENDENCIA_ADM_ESC</th>\n      <td>0.373233</td>\n    </tr>\n    <tr>\n      <th>TP_LINGUA</th>\n      <td>0.201726</td>\n    </tr>\n    <tr>\n      <th>TP_COR_RACA</th>\n      <td>0.157364</td>\n    </tr>\n    <tr>\n      <th>CO_UF_RESIDENCIA</th>\n      <td>0.107493</td>\n    </tr>\n    <tr>\n      <th>TP_ST_CONCLUSAO</th>\n      <td>0.087869</td>\n    </tr>\n    <tr>\n      <th>TP_ENSINO</th>\n      <td>0.086353</td>\n    </tr>\n    <tr>\n      <th>TP_ESCOLA</th>\n      <td>0.069304</td>\n    </tr>\n    <tr>\n      <th>NU_IDADE</th>\n      <td>0.061485</td>\n    </tr>\n    <tr>\n      <th>TP_STATUS_REDACAO</th>\n      <td>0.059376</td>\n    </tr>\n    <tr>\n      <th>TP_NACIONALIDADE</th>\n      <td>0.034965</td>\n    </tr>\n    <tr>\n      <th>TP_ANO_CONCLUIU</th>\n      <td>0.029039</td>\n    </tr>\n    <tr>\n      <th>IN_TREINEIRO</th>\n      <td>0.022287</td>\n    </tr>\n  </tbody>\n</table>\n</div>"
     },
     "metadata": {},
     "execution_count": 412
    }
   ],
   "source": [
    "pd.DataFrame(abs(train_colunas_alvo.corr()['NU_NOTA_MT']).sort_values(ascending = False))"
   ]
  },
  {
   "cell_type": "code",
   "execution_count": 414,
   "metadata": {},
   "outputs": [
    {
     "output_type": "stream",
     "name": "stdout",
     "text": "<class 'pandas.core.frame.DataFrame'>\nRangeIndex: 13730 entries, 0 to 13729\nData columns (total 26 columns):\n #   Column                  Non-Null Count  Dtype  \n---  ------                  --------------  -----  \n 0   CO_UF_RESIDENCIA        13730 non-null  int64  \n 1   NU_IDADE                13730 non-null  int64  \n 2   TP_SEXO                 13730 non-null  object \n 3   TP_COR_RACA             13730 non-null  int64  \n 4   TP_NACIONALIDADE        13730 non-null  int64  \n 5   TP_ST_CONCLUSAO         13730 non-null  int64  \n 6   TP_ANO_CONCLUIU         13730 non-null  int64  \n 7   TP_ESCOLA               13730 non-null  int64  \n 8   TP_ENSINO               4282 non-null   float64\n 9   IN_TREINEIRO            13730 non-null  int64  \n 10  TP_DEPENDENCIA_ADM_ESC  4282 non-null   float64\n 11  NU_NOTA_CN              10341 non-null  float64\n 12  NU_NOTA_CH              10341 non-null  float64\n 13  NU_NOTA_LC              10133 non-null  float64\n 14  TP_LINGUA               13730 non-null  int64  \n 15  TP_STATUS_REDACAO       10133 non-null  float64\n 16  NU_NOTA_REDACAO         10133 non-null  float64\n 17  Q001                    13730 non-null  object \n 18  Q002                    13730 non-null  object \n 19  Q006                    13730 non-null  object \n 20  Q024                    13730 non-null  object \n 21  Q025                    13730 non-null  object \n 22  Q026                    13730 non-null  object \n 23  Q027                    6357 non-null   object \n 24  Q047                    13730 non-null  object \n 25  NU_NOTA_MT              10133 non-null  float64\ndtypes: float64(8), int64(9), object(9)\nmemory usage: 2.7+ MB\n"
    }
   ],
   "source": [
    "train_colunas_alvo.info()"
   ]
  },
  {
   "cell_type": "code",
   "execution_count": 416,
   "metadata": {},
   "outputs": [],
   "source": [
    "train_simples=train[['TP_SEXO','NU_NOTA_CN','NU_NOTA_CH','NU_NOTA_LC','NU_NOTA_REDACAO',\t'TP_DEPENDENCIA_ADM_ESC','TP_COR_RACA','CO_UF_RESIDENCIA','NU_NOTA_MT']]\n",
    "test_simples=test[['TP_SEXO','NU_NOTA_CN','NU_NOTA_CH','NU_NOTA_LC','NU_NOTA_REDACAO',\t'TP_DEPENDENCIA_ADM_ESC','TP_COR_RACA','CO_UF_RESIDENCIA']]"
   ]
  },
  {
   "cell_type": "code",
   "execution_count": 418,
   "metadata": {},
   "outputs": [],
   "source": [
    "train_simples.fillna(0,inplace=True)\n",
    "test_simples.fillna(0,inplace=True)"
   ]
  },
  {
   "cell_type": "code",
   "execution_count": 420,
   "metadata": {},
   "outputs": [
    {
     "output_type": "execute_result",
     "data": {
      "text/plain": "                        Total    %\nNU_NOTA_MT                  0  0.0\nCO_UF_RESIDENCIA            0  0.0\nTP_COR_RACA                 0  0.0\nTP_DEPENDENCIA_ADM_ESC      0  0.0\nNU_NOTA_REDACAO             0  0.0",
      "text/html": "<div>\n<style scoped>\n    .dataframe tbody tr th:only-of-type {\n        vertical-align: middle;\n    }\n\n    .dataframe tbody tr th {\n        vertical-align: top;\n    }\n\n    .dataframe thead th {\n        text-align: right;\n    }\n</style>\n<table border=\"1\" class=\"dataframe\">\n  <thead>\n    <tr style=\"text-align: right;\">\n      <th></th>\n      <th>Total</th>\n      <th>%</th>\n    </tr>\n  </thead>\n  <tbody>\n    <tr>\n      <th>NU_NOTA_MT</th>\n      <td>0</td>\n      <td>0.0</td>\n    </tr>\n    <tr>\n      <th>CO_UF_RESIDENCIA</th>\n      <td>0</td>\n      <td>0.0</td>\n    </tr>\n    <tr>\n      <th>TP_COR_RACA</th>\n      <td>0</td>\n      <td>0.0</td>\n    </tr>\n    <tr>\n      <th>TP_DEPENDENCIA_ADM_ESC</th>\n      <td>0</td>\n      <td>0.0</td>\n    </tr>\n    <tr>\n      <th>NU_NOTA_REDACAO</th>\n      <td>0</td>\n      <td>0.0</td>\n    </tr>\n  </tbody>\n</table>\n</div>"
     },
     "metadata": {},
     "execution_count": 420
    }
   ],
   "source": [
    "total = train_simples.isnull().sum().sort_values(ascending=False)\n",
    "percent_1 = train_simples.isnull().sum()/train_simples.isnull().count()*100\n",
    "percent_2 = (round(percent_1, 1)).sort_values(ascending=False)\n",
    "missing_data = pd.concat([total, percent_2], axis=1, keys=['Total', '%'])\n",
    "missing_data.head()"
   ]
  },
  {
   "cell_type": "code",
   "execution_count": 422,
   "metadata": {},
   "outputs": [
    {
     "output_type": "error",
     "ename": "KeyError",
     "evalue": "'TP_SEXO'",
     "traceback": [
      "\u001b[1;31m---------------------------------------------------------------------------\u001b[0m",
      "\u001b[1;31mKeyError\u001b[0m                                  Traceback (most recent call last)",
      "\u001b[1;32m~\\anaconda3\\lib\\site-packages\\pandas\\core\\indexes\\base.py\u001b[0m in \u001b[0;36mget_loc\u001b[1;34m(self, key, method, tolerance)\u001b[0m\n\u001b[0;32m   2645\u001b[0m             \u001b[1;32mtry\u001b[0m\u001b[1;33m:\u001b[0m\u001b[1;33m\u001b[0m\u001b[1;33m\u001b[0m\u001b[0m\n\u001b[1;32m-> 2646\u001b[1;33m                 \u001b[1;32mreturn\u001b[0m \u001b[0mself\u001b[0m\u001b[1;33m.\u001b[0m\u001b[0m_engine\u001b[0m\u001b[1;33m.\u001b[0m\u001b[0mget_loc\u001b[0m\u001b[1;33m(\u001b[0m\u001b[0mkey\u001b[0m\u001b[1;33m)\u001b[0m\u001b[1;33m\u001b[0m\u001b[1;33m\u001b[0m\u001b[0m\n\u001b[0m\u001b[0;32m   2647\u001b[0m             \u001b[1;32mexcept\u001b[0m \u001b[0mKeyError\u001b[0m\u001b[1;33m:\u001b[0m\u001b[1;33m\u001b[0m\u001b[1;33m\u001b[0m\u001b[0m\n",
      "\u001b[1;32mpandas\\_libs\\index.pyx\u001b[0m in \u001b[0;36mpandas._libs.index.IndexEngine.get_loc\u001b[1;34m()\u001b[0m\n",
      "\u001b[1;32mpandas\\_libs\\index.pyx\u001b[0m in \u001b[0;36mpandas._libs.index.IndexEngine.get_loc\u001b[1;34m()\u001b[0m\n",
      "\u001b[1;32mpandas\\_libs\\hashtable_class_helper.pxi\u001b[0m in \u001b[0;36mpandas._libs.hashtable.PyObjectHashTable.get_item\u001b[1;34m()\u001b[0m\n",
      "\u001b[1;32mpandas\\_libs\\hashtable_class_helper.pxi\u001b[0m in \u001b[0;36mpandas._libs.hashtable.PyObjectHashTable.get_item\u001b[1;34m()\u001b[0m\n",
      "\u001b[1;31mKeyError\u001b[0m: 'TP_SEXO'",
      "\nDuring handling of the above exception, another exception occurred:\n",
      "\u001b[1;31mKeyError\u001b[0m                                  Traceback (most recent call last)",
      "\u001b[1;32m<ipython-input-422-7f4f29c4cfad>\u001b[0m in \u001b[0;36m<module>\u001b[1;34m\u001b[0m\n\u001b[1;32m----> 1\u001b[1;33m \u001b[0mtrain_cat\u001b[0m \u001b[1;33m=\u001b[0m \u001b[0mtrain_simples\u001b[0m\u001b[1;33m[\u001b[0m\u001b[1;34m'TP_SEXO'\u001b[0m\u001b[1;33m]\u001b[0m\u001b[1;33m\u001b[0m\u001b[1;33m\u001b[0m\u001b[0m\n\u001b[0m\u001b[0;32m      2\u001b[0m \u001b[0mtest_cat\u001b[0m \u001b[1;33m=\u001b[0m \u001b[0mtest_simples\u001b[0m\u001b[1;33m[\u001b[0m\u001b[1;34m'TP_SEXO'\u001b[0m\u001b[1;33m]\u001b[0m\u001b[1;33m\u001b[0m\u001b[1;33m\u001b[0m\u001b[0m\n\u001b[0;32m      3\u001b[0m \u001b[0mtrain_cat_encoded\u001b[0m \u001b[1;33m=\u001b[0m \u001b[0mpd\u001b[0m\u001b[1;33m.\u001b[0m\u001b[0mget_dummies\u001b[0m\u001b[1;33m(\u001b[0m\u001b[0mtrain_cat\u001b[0m\u001b[1;33m)\u001b[0m\u001b[1;33m\u001b[0m\u001b[1;33m\u001b[0m\u001b[0m\n\u001b[0;32m      4\u001b[0m \u001b[0mtest_cat_encoded\u001b[0m \u001b[1;33m=\u001b[0m \u001b[0mpd\u001b[0m\u001b[1;33m.\u001b[0m\u001b[0mget_dummies\u001b[0m\u001b[1;33m(\u001b[0m\u001b[0mtest_cat\u001b[0m\u001b[1;33m)\u001b[0m\u001b[1;33m\u001b[0m\u001b[1;33m\u001b[0m\u001b[0m\n",
      "\u001b[1;32m~\\anaconda3\\lib\\site-packages\\pandas\\core\\frame.py\u001b[0m in \u001b[0;36m__getitem__\u001b[1;34m(self, key)\u001b[0m\n\u001b[0;32m   2798\u001b[0m             \u001b[1;32mif\u001b[0m \u001b[0mself\u001b[0m\u001b[1;33m.\u001b[0m\u001b[0mcolumns\u001b[0m\u001b[1;33m.\u001b[0m\u001b[0mnlevels\u001b[0m \u001b[1;33m>\u001b[0m \u001b[1;36m1\u001b[0m\u001b[1;33m:\u001b[0m\u001b[1;33m\u001b[0m\u001b[1;33m\u001b[0m\u001b[0m\n\u001b[0;32m   2799\u001b[0m                 \u001b[1;32mreturn\u001b[0m \u001b[0mself\u001b[0m\u001b[1;33m.\u001b[0m\u001b[0m_getitem_multilevel\u001b[0m\u001b[1;33m(\u001b[0m\u001b[0mkey\u001b[0m\u001b[1;33m)\u001b[0m\u001b[1;33m\u001b[0m\u001b[1;33m\u001b[0m\u001b[0m\n\u001b[1;32m-> 2800\u001b[1;33m             \u001b[0mindexer\u001b[0m \u001b[1;33m=\u001b[0m \u001b[0mself\u001b[0m\u001b[1;33m.\u001b[0m\u001b[0mcolumns\u001b[0m\u001b[1;33m.\u001b[0m\u001b[0mget_loc\u001b[0m\u001b[1;33m(\u001b[0m\u001b[0mkey\u001b[0m\u001b[1;33m)\u001b[0m\u001b[1;33m\u001b[0m\u001b[1;33m\u001b[0m\u001b[0m\n\u001b[0m\u001b[0;32m   2801\u001b[0m             \u001b[1;32mif\u001b[0m \u001b[0mis_integer\u001b[0m\u001b[1;33m(\u001b[0m\u001b[0mindexer\u001b[0m\u001b[1;33m)\u001b[0m\u001b[1;33m:\u001b[0m\u001b[1;33m\u001b[0m\u001b[1;33m\u001b[0m\u001b[0m\n\u001b[0;32m   2802\u001b[0m                 \u001b[0mindexer\u001b[0m \u001b[1;33m=\u001b[0m \u001b[1;33m[\u001b[0m\u001b[0mindexer\u001b[0m\u001b[1;33m]\u001b[0m\u001b[1;33m\u001b[0m\u001b[1;33m\u001b[0m\u001b[0m\n",
      "\u001b[1;32m~\\anaconda3\\lib\\site-packages\\pandas\\core\\indexes\\base.py\u001b[0m in \u001b[0;36mget_loc\u001b[1;34m(self, key, method, tolerance)\u001b[0m\n\u001b[0;32m   2646\u001b[0m                 \u001b[1;32mreturn\u001b[0m \u001b[0mself\u001b[0m\u001b[1;33m.\u001b[0m\u001b[0m_engine\u001b[0m\u001b[1;33m.\u001b[0m\u001b[0mget_loc\u001b[0m\u001b[1;33m(\u001b[0m\u001b[0mkey\u001b[0m\u001b[1;33m)\u001b[0m\u001b[1;33m\u001b[0m\u001b[1;33m\u001b[0m\u001b[0m\n\u001b[0;32m   2647\u001b[0m             \u001b[1;32mexcept\u001b[0m \u001b[0mKeyError\u001b[0m\u001b[1;33m:\u001b[0m\u001b[1;33m\u001b[0m\u001b[1;33m\u001b[0m\u001b[0m\n\u001b[1;32m-> 2648\u001b[1;33m                 \u001b[1;32mreturn\u001b[0m \u001b[0mself\u001b[0m\u001b[1;33m.\u001b[0m\u001b[0m_engine\u001b[0m\u001b[1;33m.\u001b[0m\u001b[0mget_loc\u001b[0m\u001b[1;33m(\u001b[0m\u001b[0mself\u001b[0m\u001b[1;33m.\u001b[0m\u001b[0m_maybe_cast_indexer\u001b[0m\u001b[1;33m(\u001b[0m\u001b[0mkey\u001b[0m\u001b[1;33m)\u001b[0m\u001b[1;33m)\u001b[0m\u001b[1;33m\u001b[0m\u001b[1;33m\u001b[0m\u001b[0m\n\u001b[0m\u001b[0;32m   2649\u001b[0m         \u001b[0mindexer\u001b[0m \u001b[1;33m=\u001b[0m \u001b[0mself\u001b[0m\u001b[1;33m.\u001b[0m\u001b[0mget_indexer\u001b[0m\u001b[1;33m(\u001b[0m\u001b[1;33m[\u001b[0m\u001b[0mkey\u001b[0m\u001b[1;33m]\u001b[0m\u001b[1;33m,\u001b[0m \u001b[0mmethod\u001b[0m\u001b[1;33m=\u001b[0m\u001b[0mmethod\u001b[0m\u001b[1;33m,\u001b[0m \u001b[0mtolerance\u001b[0m\u001b[1;33m=\u001b[0m\u001b[0mtolerance\u001b[0m\u001b[1;33m)\u001b[0m\u001b[1;33m\u001b[0m\u001b[1;33m\u001b[0m\u001b[0m\n\u001b[0;32m   2650\u001b[0m         \u001b[1;32mif\u001b[0m \u001b[0mindexer\u001b[0m\u001b[1;33m.\u001b[0m\u001b[0mndim\u001b[0m \u001b[1;33m>\u001b[0m \u001b[1;36m1\u001b[0m \u001b[1;32mor\u001b[0m \u001b[0mindexer\u001b[0m\u001b[1;33m.\u001b[0m\u001b[0msize\u001b[0m \u001b[1;33m>\u001b[0m \u001b[1;36m1\u001b[0m\u001b[1;33m:\u001b[0m\u001b[1;33m\u001b[0m\u001b[1;33m\u001b[0m\u001b[0m\n",
      "\u001b[1;32mpandas\\_libs\\index.pyx\u001b[0m in \u001b[0;36mpandas._libs.index.IndexEngine.get_loc\u001b[1;34m()\u001b[0m\n",
      "\u001b[1;32mpandas\\_libs\\index.pyx\u001b[0m in \u001b[0;36mpandas._libs.index.IndexEngine.get_loc\u001b[1;34m()\u001b[0m\n",
      "\u001b[1;32mpandas\\_libs\\hashtable_class_helper.pxi\u001b[0m in \u001b[0;36mpandas._libs.hashtable.PyObjectHashTable.get_item\u001b[1;34m()\u001b[0m\n",
      "\u001b[1;32mpandas\\_libs\\hashtable_class_helper.pxi\u001b[0m in \u001b[0;36mpandas._libs.hashtable.PyObjectHashTable.get_item\u001b[1;34m()\u001b[0m\n",
      "\u001b[1;31mKeyError\u001b[0m: 'TP_SEXO'"
     ]
    }
   ],
   "source": [
    "train_cat = train_simples['TP_SEXO']\n",
    "test_cat = test_simples['TP_SEXO']\n",
    "train_cat_encoded = pd.get_dummies(train_cat)\n",
    "test_cat_encoded = pd.get_dummies(test_cat)"
   ]
  },
  {
   "cell_type": "code",
   "execution_count": 425,
   "metadata": {},
   "outputs": [
    {
     "output_type": "error",
     "ename": "KeyError",
     "evalue": "\"['TP_SEXO'] not found in axis\"",
     "traceback": [
      "\u001b[1;31m---------------------------------------------------------------------------\u001b[0m",
      "\u001b[1;31mKeyError\u001b[0m                                  Traceback (most recent call last)",
      "\u001b[1;32m<ipython-input-425-43029781fefe>\u001b[0m in \u001b[0;36m<module>\u001b[1;34m\u001b[0m\n\u001b[1;32m----> 1\u001b[1;33m \u001b[0mtrain_simples\u001b[0m\u001b[1;33m.\u001b[0m\u001b[0mdrop\u001b[0m\u001b[1;33m(\u001b[0m\u001b[1;34m'TP_SEXO'\u001b[0m\u001b[1;33m,\u001b[0m \u001b[0maxis\u001b[0m\u001b[1;33m=\u001b[0m\u001b[1;36m1\u001b[0m\u001b[1;33m,\u001b[0m \u001b[0minplace\u001b[0m\u001b[1;33m=\u001b[0m\u001b[1;32mTrue\u001b[0m\u001b[1;33m)\u001b[0m\u001b[1;33m\u001b[0m\u001b[1;33m\u001b[0m\u001b[0m\n\u001b[0m\u001b[0;32m      2\u001b[0m \u001b[0mtest_simples\u001b[0m\u001b[1;33m.\u001b[0m\u001b[0mdrop\u001b[0m\u001b[1;33m(\u001b[0m\u001b[1;34m'TP_SEXO'\u001b[0m\u001b[1;33m,\u001b[0m \u001b[0maxis\u001b[0m\u001b[1;33m=\u001b[0m\u001b[1;36m1\u001b[0m\u001b[1;33m,\u001b[0m \u001b[0minplace\u001b[0m\u001b[1;33m=\u001b[0m\u001b[1;32mTrue\u001b[0m\u001b[1;33m)\u001b[0m\u001b[1;33m\u001b[0m\u001b[1;33m\u001b[0m\u001b[0m\n\u001b[0;32m      3\u001b[0m \u001b[0mtrain_num\u001b[0m \u001b[1;33m=\u001b[0m \u001b[0mtrain_simples\u001b[0m\u001b[1;33m.\u001b[0m\u001b[0mjoin\u001b[0m\u001b[1;33m(\u001b[0m\u001b[0mtrain_cat_encoded\u001b[0m\u001b[1;33m)\u001b[0m\u001b[1;33m\u001b[0m\u001b[1;33m\u001b[0m\u001b[0m\n\u001b[0;32m      4\u001b[0m \u001b[0mtest_num\u001b[0m \u001b[1;33m=\u001b[0m \u001b[0mtest_simples\u001b[0m\u001b[1;33m.\u001b[0m\u001b[0mjoin\u001b[0m\u001b[1;33m(\u001b[0m\u001b[0mtest_cat_encoded\u001b[0m\u001b[1;33m)\u001b[0m\u001b[1;33m\u001b[0m\u001b[1;33m\u001b[0m\u001b[0m\n",
      "\u001b[1;32m~\\anaconda3\\lib\\site-packages\\pandas\\core\\frame.py\u001b[0m in \u001b[0;36mdrop\u001b[1;34m(self, labels, axis, index, columns, level, inplace, errors)\u001b[0m\n\u001b[0;32m   3995\u001b[0m             \u001b[0mlevel\u001b[0m\u001b[1;33m=\u001b[0m\u001b[0mlevel\u001b[0m\u001b[1;33m,\u001b[0m\u001b[1;33m\u001b[0m\u001b[1;33m\u001b[0m\u001b[0m\n\u001b[0;32m   3996\u001b[0m             \u001b[0minplace\u001b[0m\u001b[1;33m=\u001b[0m\u001b[0minplace\u001b[0m\u001b[1;33m,\u001b[0m\u001b[1;33m\u001b[0m\u001b[1;33m\u001b[0m\u001b[0m\n\u001b[1;32m-> 3997\u001b[1;33m             \u001b[0merrors\u001b[0m\u001b[1;33m=\u001b[0m\u001b[0merrors\u001b[0m\u001b[1;33m,\u001b[0m\u001b[1;33m\u001b[0m\u001b[1;33m\u001b[0m\u001b[0m\n\u001b[0m\u001b[0;32m   3998\u001b[0m         )\n\u001b[0;32m   3999\u001b[0m \u001b[1;33m\u001b[0m\u001b[0m\n",
      "\u001b[1;32m~\\anaconda3\\lib\\site-packages\\pandas\\core\\generic.py\u001b[0m in \u001b[0;36mdrop\u001b[1;34m(self, labels, axis, index, columns, level, inplace, errors)\u001b[0m\n\u001b[0;32m   3934\u001b[0m         \u001b[1;32mfor\u001b[0m \u001b[0maxis\u001b[0m\u001b[1;33m,\u001b[0m \u001b[0mlabels\u001b[0m \u001b[1;32min\u001b[0m \u001b[0maxes\u001b[0m\u001b[1;33m.\u001b[0m\u001b[0mitems\u001b[0m\u001b[1;33m(\u001b[0m\u001b[1;33m)\u001b[0m\u001b[1;33m:\u001b[0m\u001b[1;33m\u001b[0m\u001b[1;33m\u001b[0m\u001b[0m\n\u001b[0;32m   3935\u001b[0m             \u001b[1;32mif\u001b[0m \u001b[0mlabels\u001b[0m \u001b[1;32mis\u001b[0m \u001b[1;32mnot\u001b[0m \u001b[1;32mNone\u001b[0m\u001b[1;33m:\u001b[0m\u001b[1;33m\u001b[0m\u001b[1;33m\u001b[0m\u001b[0m\n\u001b[1;32m-> 3936\u001b[1;33m                 \u001b[0mobj\u001b[0m \u001b[1;33m=\u001b[0m \u001b[0mobj\u001b[0m\u001b[1;33m.\u001b[0m\u001b[0m_drop_axis\u001b[0m\u001b[1;33m(\u001b[0m\u001b[0mlabels\u001b[0m\u001b[1;33m,\u001b[0m \u001b[0maxis\u001b[0m\u001b[1;33m,\u001b[0m \u001b[0mlevel\u001b[0m\u001b[1;33m=\u001b[0m\u001b[0mlevel\u001b[0m\u001b[1;33m,\u001b[0m \u001b[0merrors\u001b[0m\u001b[1;33m=\u001b[0m\u001b[0merrors\u001b[0m\u001b[1;33m)\u001b[0m\u001b[1;33m\u001b[0m\u001b[1;33m\u001b[0m\u001b[0m\n\u001b[0m\u001b[0;32m   3937\u001b[0m \u001b[1;33m\u001b[0m\u001b[0m\n\u001b[0;32m   3938\u001b[0m         \u001b[1;32mif\u001b[0m \u001b[0minplace\u001b[0m\u001b[1;33m:\u001b[0m\u001b[1;33m\u001b[0m\u001b[1;33m\u001b[0m\u001b[0m\n",
      "\u001b[1;32m~\\anaconda3\\lib\\site-packages\\pandas\\core\\generic.py\u001b[0m in \u001b[0;36m_drop_axis\u001b[1;34m(self, labels, axis, level, errors)\u001b[0m\n\u001b[0;32m   3968\u001b[0m                 \u001b[0mnew_axis\u001b[0m \u001b[1;33m=\u001b[0m \u001b[0maxis\u001b[0m\u001b[1;33m.\u001b[0m\u001b[0mdrop\u001b[0m\u001b[1;33m(\u001b[0m\u001b[0mlabels\u001b[0m\u001b[1;33m,\u001b[0m \u001b[0mlevel\u001b[0m\u001b[1;33m=\u001b[0m\u001b[0mlevel\u001b[0m\u001b[1;33m,\u001b[0m \u001b[0merrors\u001b[0m\u001b[1;33m=\u001b[0m\u001b[0merrors\u001b[0m\u001b[1;33m)\u001b[0m\u001b[1;33m\u001b[0m\u001b[1;33m\u001b[0m\u001b[0m\n\u001b[0;32m   3969\u001b[0m             \u001b[1;32melse\u001b[0m\u001b[1;33m:\u001b[0m\u001b[1;33m\u001b[0m\u001b[1;33m\u001b[0m\u001b[0m\n\u001b[1;32m-> 3970\u001b[1;33m                 \u001b[0mnew_axis\u001b[0m \u001b[1;33m=\u001b[0m \u001b[0maxis\u001b[0m\u001b[1;33m.\u001b[0m\u001b[0mdrop\u001b[0m\u001b[1;33m(\u001b[0m\u001b[0mlabels\u001b[0m\u001b[1;33m,\u001b[0m \u001b[0merrors\u001b[0m\u001b[1;33m=\u001b[0m\u001b[0merrors\u001b[0m\u001b[1;33m)\u001b[0m\u001b[1;33m\u001b[0m\u001b[1;33m\u001b[0m\u001b[0m\n\u001b[0m\u001b[0;32m   3971\u001b[0m             \u001b[0mresult\u001b[0m \u001b[1;33m=\u001b[0m \u001b[0mself\u001b[0m\u001b[1;33m.\u001b[0m\u001b[0mreindex\u001b[0m\u001b[1;33m(\u001b[0m\u001b[1;33m**\u001b[0m\u001b[1;33m{\u001b[0m\u001b[0maxis_name\u001b[0m\u001b[1;33m:\u001b[0m \u001b[0mnew_axis\u001b[0m\u001b[1;33m}\u001b[0m\u001b[1;33m)\u001b[0m\u001b[1;33m\u001b[0m\u001b[1;33m\u001b[0m\u001b[0m\n\u001b[0;32m   3972\u001b[0m \u001b[1;33m\u001b[0m\u001b[0m\n",
      "\u001b[1;32m~\\anaconda3\\lib\\site-packages\\pandas\\core\\indexes\\base.py\u001b[0m in \u001b[0;36mdrop\u001b[1;34m(self, labels, errors)\u001b[0m\n\u001b[0;32m   5015\u001b[0m         \u001b[1;32mif\u001b[0m \u001b[0mmask\u001b[0m\u001b[1;33m.\u001b[0m\u001b[0many\u001b[0m\u001b[1;33m(\u001b[0m\u001b[1;33m)\u001b[0m\u001b[1;33m:\u001b[0m\u001b[1;33m\u001b[0m\u001b[1;33m\u001b[0m\u001b[0m\n\u001b[0;32m   5016\u001b[0m             \u001b[1;32mif\u001b[0m \u001b[0merrors\u001b[0m \u001b[1;33m!=\u001b[0m \u001b[1;34m\"ignore\"\u001b[0m\u001b[1;33m:\u001b[0m\u001b[1;33m\u001b[0m\u001b[1;33m\u001b[0m\u001b[0m\n\u001b[1;32m-> 5017\u001b[1;33m                 \u001b[1;32mraise\u001b[0m \u001b[0mKeyError\u001b[0m\u001b[1;33m(\u001b[0m\u001b[1;34mf\"{labels[mask]} not found in axis\"\u001b[0m\u001b[1;33m)\u001b[0m\u001b[1;33m\u001b[0m\u001b[1;33m\u001b[0m\u001b[0m\n\u001b[0m\u001b[0;32m   5018\u001b[0m             \u001b[0mindexer\u001b[0m \u001b[1;33m=\u001b[0m \u001b[0mindexer\u001b[0m\u001b[1;33m[\u001b[0m\u001b[1;33m~\u001b[0m\u001b[0mmask\u001b[0m\u001b[1;33m]\u001b[0m\u001b[1;33m\u001b[0m\u001b[1;33m\u001b[0m\u001b[0m\n\u001b[0;32m   5019\u001b[0m         \u001b[1;32mreturn\u001b[0m \u001b[0mself\u001b[0m\u001b[1;33m.\u001b[0m\u001b[0mdelete\u001b[0m\u001b[1;33m(\u001b[0m\u001b[0mindexer\u001b[0m\u001b[1;33m)\u001b[0m\u001b[1;33m\u001b[0m\u001b[1;33m\u001b[0m\u001b[0m\n",
      "\u001b[1;31mKeyError\u001b[0m: \"['TP_SEXO'] not found in axis\""
     ]
    }
   ],
   "source": [
    "train_simples.drop('TP_SEXO', axis=1, inplace=True)\n",
    "test_simples.drop('TP_SEXO', axis=1, inplace=True)\n",
    "train_num = train_simples.join(train_cat_encoded)\n",
    "test_num = test_simples.join(test_cat_encoded)"
   ]
  },
  {
   "cell_type": "code",
   "execution_count": 428,
   "metadata": {},
   "outputs": [
    {
     "output_type": "execute_result",
     "data": {
      "text/plain": "         NU_NOTA_CN    NU_NOTA_CH    NU_NOTA_LC  NU_NOTA_REDACAO  \\\ncount  13730.000000  13730.000000  13730.000000     13730.000000   \nmean     356.621515    398.923911    381.166737       390.447633   \nstd      213.282315    237.174594    234.648409       267.749316   \nmin        0.000000      0.000000      0.000000         0.000000   \n25%      365.625000    345.900000      0.000000         0.000000   \n50%      433.100000    499.600000    486.000000       480.000000   \n75%      493.200000    564.400000    548.300000       580.000000   \nmax      806.400000    807.000000    763.600000      1000.000000   \n\n       TP_DEPENDENCIA_ADM_ESC   TP_COR_RACA  CO_UF_RESIDENCIA    NU_NOTA_MT  \\\ncount            13730.000000  13730.000000      13730.000000  13730.000000   \nmean                 0.704734      2.185652         30.736708    356.092607   \nstd                  1.117178      1.007285          9.862405    228.844193   \nmin                  0.000000      0.000000         11.000000      0.000000   \n25%                  0.000000      1.000000         23.000000      0.000000   \n50%                  0.000000      3.000000         31.000000    422.500000   \n75%                  2.000000      3.000000         35.000000    504.400000   \nmax                  4.000000      5.000000         53.000000    952.000000   \n\n                  F             M  \ncount  13730.000000  13730.000000  \nmean       0.618427      0.381573  \nstd        0.485790      0.485790  \nmin        0.000000      0.000000  \n25%        0.000000      0.000000  \n50%        1.000000      0.000000  \n75%        1.000000      1.000000  \nmax        1.000000      1.000000  ",
      "text/html": "<div>\n<style scoped>\n    .dataframe tbody tr th:only-of-type {\n        vertical-align: middle;\n    }\n\n    .dataframe tbody tr th {\n        vertical-align: top;\n    }\n\n    .dataframe thead th {\n        text-align: right;\n    }\n</style>\n<table border=\"1\" class=\"dataframe\">\n  <thead>\n    <tr style=\"text-align: right;\">\n      <th></th>\n      <th>NU_NOTA_CN</th>\n      <th>NU_NOTA_CH</th>\n      <th>NU_NOTA_LC</th>\n      <th>NU_NOTA_REDACAO</th>\n      <th>TP_DEPENDENCIA_ADM_ESC</th>\n      <th>TP_COR_RACA</th>\n      <th>CO_UF_RESIDENCIA</th>\n      <th>NU_NOTA_MT</th>\n      <th>F</th>\n      <th>M</th>\n    </tr>\n  </thead>\n  <tbody>\n    <tr>\n      <th>count</th>\n      <td>13730.000000</td>\n      <td>13730.000000</td>\n      <td>13730.000000</td>\n      <td>13730.000000</td>\n      <td>13730.000000</td>\n      <td>13730.000000</td>\n      <td>13730.000000</td>\n      <td>13730.000000</td>\n      <td>13730.000000</td>\n      <td>13730.000000</td>\n    </tr>\n    <tr>\n      <th>mean</th>\n      <td>356.621515</td>\n      <td>398.923911</td>\n      <td>381.166737</td>\n      <td>390.447633</td>\n      <td>0.704734</td>\n      <td>2.185652</td>\n      <td>30.736708</td>\n      <td>356.092607</td>\n      <td>0.618427</td>\n      <td>0.381573</td>\n    </tr>\n    <tr>\n      <th>std</th>\n      <td>213.282315</td>\n      <td>237.174594</td>\n      <td>234.648409</td>\n      <td>267.749316</td>\n      <td>1.117178</td>\n      <td>1.007285</td>\n      <td>9.862405</td>\n      <td>228.844193</td>\n      <td>0.485790</td>\n      <td>0.485790</td>\n    </tr>\n    <tr>\n      <th>min</th>\n      <td>0.000000</td>\n      <td>0.000000</td>\n      <td>0.000000</td>\n      <td>0.000000</td>\n      <td>0.000000</td>\n      <td>0.000000</td>\n      <td>11.000000</td>\n      <td>0.000000</td>\n      <td>0.000000</td>\n      <td>0.000000</td>\n    </tr>\n    <tr>\n      <th>25%</th>\n      <td>365.625000</td>\n      <td>345.900000</td>\n      <td>0.000000</td>\n      <td>0.000000</td>\n      <td>0.000000</td>\n      <td>1.000000</td>\n      <td>23.000000</td>\n      <td>0.000000</td>\n      <td>0.000000</td>\n      <td>0.000000</td>\n    </tr>\n    <tr>\n      <th>50%</th>\n      <td>433.100000</td>\n      <td>499.600000</td>\n      <td>486.000000</td>\n      <td>480.000000</td>\n      <td>0.000000</td>\n      <td>3.000000</td>\n      <td>31.000000</td>\n      <td>422.500000</td>\n      <td>1.000000</td>\n      <td>0.000000</td>\n    </tr>\n    <tr>\n      <th>75%</th>\n      <td>493.200000</td>\n      <td>564.400000</td>\n      <td>548.300000</td>\n      <td>580.000000</td>\n      <td>2.000000</td>\n      <td>3.000000</td>\n      <td>35.000000</td>\n      <td>504.400000</td>\n      <td>1.000000</td>\n      <td>1.000000</td>\n    </tr>\n    <tr>\n      <th>max</th>\n      <td>806.400000</td>\n      <td>807.000000</td>\n      <td>763.600000</td>\n      <td>1000.000000</td>\n      <td>4.000000</td>\n      <td>5.000000</td>\n      <td>53.000000</td>\n      <td>952.000000</td>\n      <td>1.000000</td>\n      <td>1.000000</td>\n    </tr>\n  </tbody>\n</table>\n</div>"
     },
     "metadata": {},
     "execution_count": 428
    }
   ],
   "source": [
    "train_num.describe()"
   ]
  },
  {
   "cell_type": "code",
   "execution_count": 429,
   "metadata": {},
   "outputs": [
    {
     "output_type": "stream",
     "name": "stdout",
     "text": "[01:23:55] WARNING: src/objective/regression_obj.cu:152: reg:linear is now deprecated in favor of reg:squarederror.\n"
    },
    {
     "output_type": "execute_result",
     "data": {
      "text/plain": "XGBRegressor(base_score=0.5, booster='gbtree', colsample_bylevel=1,\n             colsample_bynode=1, colsample_bytree=1, gamma=0,\n             importance_type='gain', learning_rate=0.1, max_delta_step=0,\n             max_depth=3, min_child_weight=1, missing=None, n_estimators=100,\n             n_jobs=1, nthread=None, objective='reg:linear', random_state=0,\n             reg_alpha=0, reg_lambda=1, scale_pos_weight=1, seed=None,\n             silent=None, subsample=1, verbosity=1)"
     },
     "metadata": {},
     "execution_count": 429
    }
   ],
   "source": [
    "from sklearn.model_selection import train_test_split\n",
    "target = train_simples['NU_NOTA_MT']\n",
    "predictors = train_num.drop(['NU_NOTA_MT'], axis=1)\n",
    "\n",
    "x_train, x_val, y_train, y_val = train_test_split(predictors, target, test_size = 0.2, random_state = 0)\n",
    "\n",
    "from xgboost import XGBRegressor\n",
    "\n",
    "my_model = XGBRegressor()\n",
    "# Add silent=True to avoid printing out updates with each cycle\n",
    "my_model.fit(x_train, y_train, verbose=False)"
   ]
  },
  {
   "cell_type": "code",
   "execution_count": 430,
   "metadata": {},
   "outputs": [
    {
     "output_type": "stream",
     "name": "stdout",
     "text": "93.03\n"
    }
   ],
   "source": [
    "my_model.score(x_train, y_train)\n",
    "acc_my_model = round(my_model.score(x_train, y_train) * 100, 2)\n",
    "print(acc_my_model)"
   ]
  },
  {
   "cell_type": "code",
   "execution_count": 431,
   "metadata": {},
   "outputs": [],
   "source": [
    "# make predictions\n",
    "predictions = my_model.predict(test_num)"
   ]
  },
  {
   "cell_type": "code",
   "execution_count": 432,
   "metadata": {},
   "outputs": [],
   "source": [
    "submission = pd.DataFrame({ 'NU_INSCRICAO' : ids, 'NU_NOTA_MT': predictions.astype('int64') })\n",
    "submission.to_csv('answer.csv', index=False)"
   ]
  }
 ],
 "metadata": {
  "language_info": {
   "codemirror_mode": {
    "name": "ipython",
    "version": 3
   },
   "file_extension": ".py",
   "mimetype": "text/x-python",
   "name": "python",
   "nbconvert_exporter": "python",
   "pygments_lexer": "ipython3",
   "version": "3.7.6-final"
  },
  "orig_nbformat": 2,
  "kernelspec": {
   "name": "python3",
   "display_name": "Python 3"
  }
 },
 "nbformat": 4,
 "nbformat_minor": 2
}